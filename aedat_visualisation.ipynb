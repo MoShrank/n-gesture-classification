{
 "cells": [
  {
   "cell_type": "code",
   "execution_count": 1,
   "id": "c9e8556d",
   "metadata": {},
   "outputs": [
    {
     "data": {
      "application/javascript": [
       "\n",
       "            setTimeout(function() {\n",
       "                var nbb_cell_id = 1;\n",
       "                var nbb_unformatted_code = \"%load_ext nb_black\";\n",
       "                var nbb_formatted_code = \"%load_ext nb_black\";\n",
       "                var nbb_cells = Jupyter.notebook.get_cells();\n",
       "                for (var i = 0; i < nbb_cells.length; ++i) {\n",
       "                    if (nbb_cells[i].input_prompt_number == nbb_cell_id) {\n",
       "                        if (nbb_cells[i].get_text() == nbb_unformatted_code) {\n",
       "                             nbb_cells[i].set_text(nbb_formatted_code);\n",
       "                        }\n",
       "                        break;\n",
       "                    }\n",
       "                }\n",
       "            }, 500);\n",
       "            "
      ],
      "text/plain": [
       "<IPython.core.display.Javascript object>"
      ]
     },
     "metadata": {},
     "output_type": "display_data"
    }
   ],
   "source": [
    "%load_ext nb_black"
   ]
  },
  {
   "cell_type": "code",
   "execution_count": 34,
   "id": "b6135064",
   "metadata": {},
   "outputs": [
    {
     "data": {
      "application/javascript": [
       "\n",
       "            setTimeout(function() {\n",
       "                var nbb_cell_id = 34;\n",
       "                var nbb_unformatted_code = \"import torch\\nimport os\\nimport subprocess\\nimport aedat\\nimport pandas as pd\\nfrom inspect import getmembers, isfunction, isclass, ismethod\\nimport matplotlib.pyplot as plt\\nimport matplotlib.cm as cm\\nimport matplotlib.animation as animation\\nfrom tqdm.notebook import tqdm\";\n",
       "                var nbb_formatted_code = \"import torch\\nimport os\\nimport subprocess\\nimport aedat\\nimport pandas as pd\\nfrom inspect import getmembers, isfunction, isclass, ismethod\\nimport matplotlib.pyplot as plt\\nimport matplotlib.cm as cm\\nimport matplotlib.animation as animation\\nfrom tqdm.notebook import tqdm\";\n",
       "                var nbb_cells = Jupyter.notebook.get_cells();\n",
       "                for (var i = 0; i < nbb_cells.length; ++i) {\n",
       "                    if (nbb_cells[i].input_prompt_number == nbb_cell_id) {\n",
       "                        if (nbb_cells[i].get_text() == nbb_unformatted_code) {\n",
       "                             nbb_cells[i].set_text(nbb_formatted_code);\n",
       "                        }\n",
       "                        break;\n",
       "                    }\n",
       "                }\n",
       "            }, 500);\n",
       "            "
      ],
      "text/plain": [
       "<IPython.core.display.Javascript object>"
      ]
     },
     "metadata": {},
     "output_type": "display_data"
    }
   ],
   "source": [
    "import torch\n",
    "import os\n",
    "import subprocess\n",
    "import aedat\n",
    "import pandas as pd\n",
    "from inspect import getmembers, isfunction, isclass, ismethod\n",
    "import matplotlib.pyplot as plt\n",
    "import matplotlib.cm as cm\n",
    "import matplotlib.animation as animation\n",
    "from tqdm.notebook import tqdm"
   ]
  },
  {
   "cell_type": "code",
   "execution_count": 3,
   "id": "41b53e65",
   "metadata": {},
   "outputs": [
    {
     "data": {
      "text/plain": [
       "213025"
      ]
     },
     "execution_count": 3,
     "metadata": {},
     "output_type": "execute_result"
    },
    {
     "data": {
      "application/javascript": [
       "\n",
       "            setTimeout(function() {\n",
       "                var nbb_cell_id = 3;\n",
       "                var nbb_unformatted_code = \"dvs = aedat.DVSGestureData(\\n    \\\"DvsGesture/user01_fluorescent.aedat\\\", \\\"DvsGesture/user01_fluorescent_labels.csv\\\"\\n)\\nlen(dvs.datapoints[0].events)\";\n",
       "                var nbb_formatted_code = \"dvs = aedat.DVSGestureData(\\n    \\\"DvsGesture/user01_fluorescent.aedat\\\", \\\"DvsGesture/user01_fluorescent_labels.csv\\\"\\n)\\nlen(dvs.datapoints[0].events)\";\n",
       "                var nbb_cells = Jupyter.notebook.get_cells();\n",
       "                for (var i = 0; i < nbb_cells.length; ++i) {\n",
       "                    if (nbb_cells[i].input_prompt_number == nbb_cell_id) {\n",
       "                        if (nbb_cells[i].get_text() == nbb_unformatted_code) {\n",
       "                             nbb_cells[i].set_text(nbb_formatted_code);\n",
       "                        }\n",
       "                        break;\n",
       "                    }\n",
       "                }\n",
       "            }, 500);\n",
       "            "
      ],
      "text/plain": [
       "<IPython.core.display.Javascript object>"
      ]
     },
     "metadata": {},
     "output_type": "display_data"
    }
   ],
   "source": [
    "dvs = aedat.DVSGestureData(\n",
    "    \"DvsGesture/user01_fluorescent.aedat\", \"DvsGesture/user01_fluorescent_labels.csv\"\n",
    ")\n",
    "len(dvs.datapoints[0].events)"
   ]
  },
  {
   "cell_type": "code",
   "execution_count": 5,
   "id": "fecba29c",
   "metadata": {},
   "outputs": [
    {
     "data": {
      "text/html": [
       "<div>\n",
       "<style scoped>\n",
       "    .dataframe tbody tr th:only-of-type {\n",
       "        vertical-align: middle;\n",
       "    }\n",
       "\n",
       "    .dataframe tbody tr th {\n",
       "        vertical-align: top;\n",
       "    }\n",
       "\n",
       "    .dataframe thead th {\n",
       "        text-align: right;\n",
       "    }\n",
       "</style>\n",
       "<table border=\"1\" class=\"dataframe\">\n",
       "  <thead>\n",
       "    <tr style=\"text-align: right;\">\n",
       "      <th></th>\n",
       "      <th>valid</th>\n",
       "      <th>x</th>\n",
       "      <th>y</th>\n",
       "      <th>polarity</th>\n",
       "      <th>timestamp</th>\n",
       "    </tr>\n",
       "  </thead>\n",
       "  <tbody>\n",
       "    <tr>\n",
       "      <th>0</th>\n",
       "      <td>1</td>\n",
       "      <td>82</td>\n",
       "      <td>49</td>\n",
       "      <td>1</td>\n",
       "      <td>28</td>\n",
       "    </tr>\n",
       "    <tr>\n",
       "      <th>1</th>\n",
       "      <td>1</td>\n",
       "      <td>92</td>\n",
       "      <td>55</td>\n",
       "      <td>0</td>\n",
       "      <td>38</td>\n",
       "    </tr>\n",
       "    <tr>\n",
       "      <th>2</th>\n",
       "      <td>1</td>\n",
       "      <td>92</td>\n",
       "      <td>55</td>\n",
       "      <td>0</td>\n",
       "      <td>39</td>\n",
       "    </tr>\n",
       "    <tr>\n",
       "      <th>3</th>\n",
       "      <td>1</td>\n",
       "      <td>92</td>\n",
       "      <td>55</td>\n",
       "      <td>0</td>\n",
       "      <td>39</td>\n",
       "    </tr>\n",
       "    <tr>\n",
       "      <th>4</th>\n",
       "      <td>1</td>\n",
       "      <td>99</td>\n",
       "      <td>90</td>\n",
       "      <td>1</td>\n",
       "      <td>65</td>\n",
       "    </tr>\n",
       "    <tr>\n",
       "      <th>...</th>\n",
       "      <td>...</td>\n",
       "      <td>...</td>\n",
       "      <td>...</td>\n",
       "      <td>...</td>\n",
       "      <td>...</td>\n",
       "    </tr>\n",
       "    <tr>\n",
       "      <th>213020</th>\n",
       "      <td>1</td>\n",
       "      <td>93</td>\n",
       "      <td>45</td>\n",
       "      <td>1</td>\n",
       "      <td>5044100</td>\n",
       "    </tr>\n",
       "    <tr>\n",
       "      <th>213021</th>\n",
       "      <td>1</td>\n",
       "      <td>92</td>\n",
       "      <td>75</td>\n",
       "      <td>1</td>\n",
       "      <td>5044153</td>\n",
       "    </tr>\n",
       "    <tr>\n",
       "      <th>213022</th>\n",
       "      <td>1</td>\n",
       "      <td>96</td>\n",
       "      <td>60</td>\n",
       "      <td>1</td>\n",
       "      <td>5044167</td>\n",
       "    </tr>\n",
       "    <tr>\n",
       "      <th>213023</th>\n",
       "      <td>1</td>\n",
       "      <td>86</td>\n",
       "      <td>85</td>\n",
       "      <td>0</td>\n",
       "      <td>5044299</td>\n",
       "    </tr>\n",
       "    <tr>\n",
       "      <th>213024</th>\n",
       "      <td>1</td>\n",
       "      <td>90</td>\n",
       "      <td>45</td>\n",
       "      <td>0</td>\n",
       "      <td>5044461</td>\n",
       "    </tr>\n",
       "  </tbody>\n",
       "</table>\n",
       "<p>213025 rows × 5 columns</p>\n",
       "</div>"
      ],
      "text/plain": [
       "        valid   x   y  polarity  timestamp\n",
       "0           1  82  49         1         28\n",
       "1           1  92  55         0         38\n",
       "2           1  92  55         0         39\n",
       "3           1  92  55         0         39\n",
       "4           1  99  90         1         65\n",
       "...       ...  ..  ..       ...        ...\n",
       "213020      1  93  45         1    5044100\n",
       "213021      1  92  75         1    5044153\n",
       "213022      1  96  60         1    5044167\n",
       "213023      1  86  85         0    5044299\n",
       "213024      1  90  45         0    5044461\n",
       "\n",
       "[213025 rows x 5 columns]"
      ]
     },
     "execution_count": 5,
     "metadata": {},
     "output_type": "execute_result"
    },
    {
     "data": {
      "application/javascript": [
       "\n",
       "            setTimeout(function() {\n",
       "                var nbb_cell_id = 5;\n",
       "                var nbb_unformatted_code = \"data = []\\nfor event in dvs.datapoints[0].events:\\n    data.append(\\n        [\\n            event.get_valid(),\\n            event.get_x(),\\n            event.get_y(),\\n            event.get_polarity(),\\n            event.get_timestamp(),\\n        ]\\n    )\\ndf = pd.DataFrame(data=data, columns=[\\\"valid\\\", \\\"x\\\", \\\"y\\\", \\\"polarity\\\", \\\"timestamp\\\"])\\ndf\";\n",
       "                var nbb_formatted_code = \"data = []\\nfor event in dvs.datapoints[0].events:\\n    data.append(\\n        [\\n            event.get_valid(),\\n            event.get_x(),\\n            event.get_y(),\\n            event.get_polarity(),\\n            event.get_timestamp(),\\n        ]\\n    )\\ndf = pd.DataFrame(data=data, columns=[\\\"valid\\\", \\\"x\\\", \\\"y\\\", \\\"polarity\\\", \\\"timestamp\\\"])\\ndf\";\n",
       "                var nbb_cells = Jupyter.notebook.get_cells();\n",
       "                for (var i = 0; i < nbb_cells.length; ++i) {\n",
       "                    if (nbb_cells[i].input_prompt_number == nbb_cell_id) {\n",
       "                        if (nbb_cells[i].get_text() == nbb_unformatted_code) {\n",
       "                             nbb_cells[i].set_text(nbb_formatted_code);\n",
       "                        }\n",
       "                        break;\n",
       "                    }\n",
       "                }\n",
       "            }, 500);\n",
       "            "
      ],
      "text/plain": [
       "<IPython.core.display.Javascript object>"
      ]
     },
     "metadata": {},
     "output_type": "display_data"
    }
   ],
   "source": [
    "data = []\n",
    "for event in dvs.datapoints[0].events:\n",
    "    data.append(\n",
    "        [\n",
    "            event.get_valid(),\n",
    "            event.get_x(),\n",
    "            event.get_y(),\n",
    "            event.get_polarity(),\n",
    "            event.get_timestamp(),\n",
    "        ]\n",
    "    )\n",
    "df = pd.DataFrame(data=data, columns=[\"valid\", \"x\", \"y\", \"polarity\", \"timestamp\"])\n",
    "df"
   ]
  },
  {
   "cell_type": "code",
   "execution_count": 8,
   "id": "f8363460",
   "metadata": {},
   "outputs": [
    {
     "data": {
      "text/html": [
       "<div>\n",
       "<style scoped>\n",
       "    .dataframe tbody tr th:only-of-type {\n",
       "        vertical-align: middle;\n",
       "    }\n",
       "\n",
       "    .dataframe tbody tr th {\n",
       "        vertical-align: top;\n",
       "    }\n",
       "\n",
       "    .dataframe thead th {\n",
       "        text-align: right;\n",
       "    }\n",
       "</style>\n",
       "<table border=\"1\" class=\"dataframe\">\n",
       "  <thead>\n",
       "    <tr style=\"text-align: right;\">\n",
       "      <th></th>\n",
       "      <th>valid</th>\n",
       "      <th>x</th>\n",
       "      <th>y</th>\n",
       "      <th>polarity</th>\n",
       "      <th>timestamp</th>\n",
       "    </tr>\n",
       "  </thead>\n",
       "  <tbody>\n",
       "  </tbody>\n",
       "</table>\n",
       "</div>"
      ],
      "text/plain": [
       "Empty DataFrame\n",
       "Columns: [valid, x, y, polarity, timestamp]\n",
       "Index: []"
      ]
     },
     "execution_count": 8,
     "metadata": {},
     "output_type": "execute_result"
    },
    {
     "data": {
      "application/javascript": [
       "\n",
       "            setTimeout(function() {\n",
       "                var nbb_cell_id = 8;\n",
       "                var nbb_unformatted_code = \"df[df[\\\"valid\\\"] != 1]\";\n",
       "                var nbb_formatted_code = \"df[df[\\\"valid\\\"] != 1]\";\n",
       "                var nbb_cells = Jupyter.notebook.get_cells();\n",
       "                for (var i = 0; i < nbb_cells.length; ++i) {\n",
       "                    if (nbb_cells[i].input_prompt_number == nbb_cell_id) {\n",
       "                        if (nbb_cells[i].get_text() == nbb_unformatted_code) {\n",
       "                             nbb_cells[i].set_text(nbb_formatted_code);\n",
       "                        }\n",
       "                        break;\n",
       "                    }\n",
       "                }\n",
       "            }, 500);\n",
       "            "
      ],
      "text/plain": [
       "<IPython.core.display.Javascript object>"
      ]
     },
     "metadata": {},
     "output_type": "display_data"
    }
   ],
   "source": [
    "df[df[\"valid\"] != 1]"
   ]
  },
  {
   "cell_type": "code",
   "execution_count": 9,
   "id": "f6c16767",
   "metadata": {},
   "outputs": [
    {
     "data": {
      "text/plain": [
       "array([1, 0])"
      ]
     },
     "execution_count": 9,
     "metadata": {},
     "output_type": "execute_result"
    },
    {
     "data": {
      "application/javascript": [
       "\n",
       "            setTimeout(function() {\n",
       "                var nbb_cell_id = 9;\n",
       "                var nbb_unformatted_code = \"df[\\\"polarity\\\"].unique()\";\n",
       "                var nbb_formatted_code = \"df[\\\"polarity\\\"].unique()\";\n",
       "                var nbb_cells = Jupyter.notebook.get_cells();\n",
       "                for (var i = 0; i < nbb_cells.length; ++i) {\n",
       "                    if (nbb_cells[i].input_prompt_number == nbb_cell_id) {\n",
       "                        if (nbb_cells[i].get_text() == nbb_unformatted_code) {\n",
       "                             nbb_cells[i].set_text(nbb_formatted_code);\n",
       "                        }\n",
       "                        break;\n",
       "                    }\n",
       "                }\n",
       "            }, 500);\n",
       "            "
      ],
      "text/plain": [
       "<IPython.core.display.Javascript object>"
      ]
     },
     "metadata": {},
     "output_type": "display_data"
    }
   ],
   "source": [
    "df[\"polarity\"].unique()"
   ]
  },
  {
   "cell_type": "code",
   "execution_count": null,
   "id": "4f612c42",
   "metadata": {},
   "outputs": [],
   "source": []
  },
  {
   "cell_type": "code",
   "execution_count": 47,
   "id": "d266ffb6",
   "metadata": {},
   "outputs": [
    {
     "data": {
      "application/javascript": [
       "\n",
       "            setTimeout(function() {\n",
       "                var nbb_cell_id = 47;\n",
       "                var nbb_unformatted_code = \"groups = df.groupby(pd.qcut(df.timestamp, 100))\";\n",
       "                var nbb_formatted_code = \"groups = df.groupby(pd.qcut(df.timestamp, 100))\";\n",
       "                var nbb_cells = Jupyter.notebook.get_cells();\n",
       "                for (var i = 0; i < nbb_cells.length; ++i) {\n",
       "                    if (nbb_cells[i].input_prompt_number == nbb_cell_id) {\n",
       "                        if (nbb_cells[i].get_text() == nbb_unformatted_code) {\n",
       "                             nbb_cells[i].set_text(nbb_formatted_code);\n",
       "                        }\n",
       "                        break;\n",
       "                    }\n",
       "                }\n",
       "            }, 500);\n",
       "            "
      ],
      "text/plain": [
       "<IPython.core.display.Javascript object>"
      ]
     },
     "metadata": {},
     "output_type": "display_data"
    }
   ],
   "source": [
    "groups = df.groupby(pd.qcut(df.timestamp, 100))"
   ]
  },
  {
   "cell_type": "code",
   "execution_count": 50,
   "id": "16c4291c",
   "metadata": {},
   "outputs": [
    {
     "data": {
      "application/vnd.jupyter.widget-view+json": {
       "model_id": "5b1f239df4c5480193a32a89df95e21c",
       "version_major": 2,
       "version_minor": 0
      },
      "text/plain": [
       "  0%|          | 0/100 [00:00<?, ?it/s]"
      ]
     },
     "metadata": {},
     "output_type": "display_data"
    },
    {
     "data": {
      "application/javascript": [
       "\n",
       "            setTimeout(function() {\n",
       "                var nbb_cell_id = 50;\n",
       "                var nbb_unformatted_code = \"tensors = []\\nfor name, group in tqdm(groups):\\n    tensor = torch.zeros(128, 128)\\n\\n    for idx, row in group.iterrows():\\n        x = row[\\\"x\\\"]\\n        y = row[\\\"y\\\"]\\n\\n        tensor[x][y] = 1\\n    tensors.append(tensor)\";\n",
       "                var nbb_formatted_code = \"tensors = []\\nfor name, group in tqdm(groups):\\n    tensor = torch.zeros(128, 128)\\n\\n    for idx, row in group.iterrows():\\n        x = row[\\\"x\\\"]\\n        y = row[\\\"y\\\"]\\n\\n        tensor[x][y] = 1\\n    tensors.append(tensor)\";\n",
       "                var nbb_cells = Jupyter.notebook.get_cells();\n",
       "                for (var i = 0; i < nbb_cells.length; ++i) {\n",
       "                    if (nbb_cells[i].input_prompt_number == nbb_cell_id) {\n",
       "                        if (nbb_cells[i].get_text() == nbb_unformatted_code) {\n",
       "                             nbb_cells[i].set_text(nbb_formatted_code);\n",
       "                        }\n",
       "                        break;\n",
       "                    }\n",
       "                }\n",
       "            }, 500);\n",
       "            "
      ],
      "text/plain": [
       "<IPython.core.display.Javascript object>"
      ]
     },
     "metadata": {},
     "output_type": "display_data"
    }
   ],
   "source": [
    "tensors = []\n",
    "for name, group in tqdm(groups):\n",
    "    tensor = torch.zeros(128, 128)\n",
    "\n",
    "    for idx, row in group.iterrows():\n",
    "        x = row[\"x\"]\n",
    "        y = row[\"y\"]\n",
    "\n",
    "        tensor[x][y] = 1\n",
    "    tensors.append(tensor)"
   ]
  },
  {
   "cell_type": "code",
   "execution_count": 58,
   "id": "7a6b405b",
   "metadata": {},
   "outputs": [
    {
     "data": {
      "image/png": "[encoded data removed]",
      "text/plain": [
       "<Figure size 432x288 with 1 Axes>"
      ]
     },
     "metadata": {
      "needs_background": "light"
     },
     "output_type": "display_data"
    },
    {
     "data": {
      "application/javascript": [
       "\n",
       "            setTimeout(function() {\n",
       "                var nbb_cell_id = 58;\n",
       "                var nbb_unformatted_code = \"for idx, img in enumerate(tensors):\\n    plt.imshow(img, cmap=cm.Greys_r)\\n    plt.savefig(f\\\"images_qcut/file_{idx}.png\\\")\";\n",
       "                var nbb_formatted_code = \"for idx, img in enumerate(tensors):\\n    plt.imshow(img, cmap=cm.Greys_r)\\n    plt.savefig(f\\\"images_qcut/file_{idx}.png\\\")\";\n",
       "                var nbb_cells = Jupyter.notebook.get_cells();\n",
       "                for (var i = 0; i < nbb_cells.length; ++i) {\n",
       "                    if (nbb_cells[i].input_prompt_number == nbb_cell_id) {\n",
       "                        if (nbb_cells[i].get_text() == nbb_unformatted_code) {\n",
       "                             nbb_cells[i].set_text(nbb_formatted_code);\n",
       "                        }\n",
       "                        break;\n",
       "                    }\n",
       "                }\n",
       "            }, 500);\n",
       "            "
      ],
      "text/plain": [
       "<IPython.core.display.Javascript object>"
      ]
     },
     "metadata": {},
     "output_type": "display_data"
    }
   ],
   "source": [
    "for idx, img in enumerate(tensors):\n",
    "    plt.imshow(img, cmap=cm.Greys_r)\n",
    "    plt.savefig(f\"images_qcut/file_{idx}.png\")"
   ]
  },
  {
   "cell_type": "code",
   "execution_count": null,
   "id": "ce2d078c",
   "metadata": {},
   "outputs": [],
   "source": []
  },
  {
   "cell_type": "code",
   "execution_count": 20,
   "id": "276335d9",
   "metadata": {},
   "outputs": [
    {
     "data": {
      "application/javascript": [
       "\n",
       "            setTimeout(function() {\n",
       "                var nbb_cell_id = 20;\n",
       "                var nbb_unformatted_code = \"def aggr_pixels_to_tensors(df, window_size=1000):\\n    images = []\\n\\n    data_length = len(df)\\n    no_frames = int(data_length / window_size)\\n\\n    for window in tqdm(range(no_frames)):\\n        tensor = torch.zeros(128, 128)\\n\\n        start = window * 1000\\n        end = window + (window * 1000)\\n\\n        for idx, row in df[start:end].iterrows():\\n            x = row[\\\"x\\\"]\\n            y = row[\\\"y\\\"]\\n\\n            tensor[x][y] = 1\\n        \\n        images.append(tensor)\\n        \\n    return images\";\n",
       "                var nbb_formatted_code = \"def aggr_pixels_to_tensors(df, window_size=1000):\\n    images = []\\n\\n    data_length = len(df)\\n    no_frames = int(data_length / window_size)\\n\\n    for window in tqdm(range(no_frames)):\\n        tensor = torch.zeros(128, 128)\\n\\n        start = window * 1000\\n        end = window + (window * 1000)\\n\\n        for idx, row in df[start:end].iterrows():\\n            x = row[\\\"x\\\"]\\n            y = row[\\\"y\\\"]\\n\\n            tensor[x][y] = 1\\n\\n        images.append(tensor)\\n\\n    return images\";\n",
       "                var nbb_cells = Jupyter.notebook.get_cells();\n",
       "                for (var i = 0; i < nbb_cells.length; ++i) {\n",
       "                    if (nbb_cells[i].input_prompt_number == nbb_cell_id) {\n",
       "                        if (nbb_cells[i].get_text() == nbb_unformatted_code) {\n",
       "                             nbb_cells[i].set_text(nbb_formatted_code);\n",
       "                        }\n",
       "                        break;\n",
       "                    }\n",
       "                }\n",
       "            }, 500);\n",
       "            "
      ],
      "text/plain": [
       "<IPython.core.display.Javascript object>"
      ]
     },
     "metadata": {},
     "output_type": "display_data"
    }
   ],
   "source": [
    "def aggr_pixels_to_tensors(df, window_size=1000):\n",
    "    images = []\n",
    "\n",
    "    data_length = len(df)\n",
    "    no_frames = int(data_length / window_size)\n",
    "\n",
    "    for window in tqdm(range(no_frames)):\n",
    "        tensor = torch.zeros(128, 128)\n",
    "\n",
    "        start = window * 1000\n",
    "        end = window + (window * 1000)\n",
    "\n",
    "        for idx, row in df[start:end].iterrows():\n",
    "            x = row[\"x\"]\n",
    "            y = row[\"y\"]\n",
    "\n",
    "            tensor[x][y] = 1\n",
    "\n",
    "        images.append(tensor)\n",
    "\n",
    "    return images"
   ]
  },
  {
   "cell_type": "code",
   "execution_count": 25,
   "id": "9c9b3cb2",
   "metadata": {},
   "outputs": [
    {
     "data": {
      "application/vnd.jupyter.widget-view+json": {
       "model_id": "9696f058bac04b0cb76071e855197efc",
       "version_major": 2,
       "version_minor": 0
      },
      "text/plain": [
       "  0%|          | 0/213 [00:00<?, ?it/s]"
      ]
     },
     "metadata": {},
     "output_type": "display_data"
    },
    {
     "data": {
      "text/plain": [
       "213"
      ]
     },
     "execution_count": 25,
     "metadata": {},
     "output_type": "execute_result"
    },
    {
     "data": {
      "application/javascript": [
       "\n",
       "            setTimeout(function() {\n",
       "                var nbb_cell_id = 25;\n",
       "                var nbb_unformatted_code = \"images = aggr_pixels_to_tensors(df)\\nlen(images)\";\n",
       "                var nbb_formatted_code = \"images = aggr_pixels_to_tensors(df)\\nlen(images)\";\n",
       "                var nbb_cells = Jupyter.notebook.get_cells();\n",
       "                for (var i = 0; i < nbb_cells.length; ++i) {\n",
       "                    if (nbb_cells[i].input_prompt_number == nbb_cell_id) {\n",
       "                        if (nbb_cells[i].get_text() == nbb_unformatted_code) {\n",
       "                             nbb_cells[i].set_text(nbb_formatted_code);\n",
       "                        }\n",
       "                        break;\n",
       "                    }\n",
       "                }\n",
       "            }, 500);\n",
       "            "
      ],
      "text/plain": [
       "<IPython.core.display.Javascript object>"
      ]
     },
     "metadata": {},
     "output_type": "display_data"
    }
   ],
   "source": [
    "images = aggr_pixels_to_tensors(df)\n",
    "len(images)"
   ]
  },
  {
   "cell_type": "code",
   "execution_count": 28,
   "id": "ee9d9c85",
   "metadata": {},
   "outputs": [
    {
     "data": {
      "text/plain": [
       "<matplotlib.image.AxesImage at 0x7f79e294d580>"
      ]
     },
     "execution_count": 28,
     "metadata": {},
     "output_type": "execute_result"
    },
    {
     "data": {
      "image/png": "[encoded data removed]",
      "text/plain": [
       "<Figure size 432x288 with 1 Axes>"
      ]
     },
     "metadata": {
      "needs_background": "light"
     },
     "output_type": "display_data"
    },
    {
     "data": {
      "application/javascript": [
       "\n",
       "            setTimeout(function() {\n",
       "                var nbb_cell_id = 28;\n",
       "                var nbb_unformatted_code = \"plt.imshow(images[150])\";\n",
       "                var nbb_formatted_code = \"plt.imshow(images[150])\";\n",
       "                var nbb_cells = Jupyter.notebook.get_cells();\n",
       "                for (var i = 0; i < nbb_cells.length; ++i) {\n",
       "                    if (nbb_cells[i].input_prompt_number == nbb_cell_id) {\n",
       "                        if (nbb_cells[i].get_text() == nbb_unformatted_code) {\n",
       "                             nbb_cells[i].set_text(nbb_formatted_code);\n",
       "                        }\n",
       "                        break;\n",
       "                    }\n",
       "                }\n",
       "            }, 500);\n",
       "            "
      ],
      "text/plain": [
       "<IPython.core.display.Javascript object>"
      ]
     },
     "metadata": {},
     "output_type": "display_data"
    }
   ],
   "source": [
    "plt.imshow(images[150])"
   ]
  },
  {
   "cell_type": "code",
   "execution_count": 41,
   "id": "108735cc",
   "metadata": {},
   "outputs": [
    {
     "data": {
      "application/javascript": [
       "\n",
       "            setTimeout(function() {\n",
       "                var nbb_cell_id = 41;\n",
       "                var nbb_unformatted_code = \"def generate_video(images):\\n    \\\"\\\"\\\"\\n    for idx, img in enumerate(images):\\n        plt.imshow(img, cmap=cm.Greys_r)\\n        plt.savefig(f\\\"images/file_{idx}.png\\\")\\n    \\\"\\\"\\\"\\n    #os.chdir(\\\"images\\\")\\n    subprocess.call([\\n        'ffmpeg', '-framerate', '8', '-i', 'file_*.png', '-r', '30', '-pix_fmt', 'yuv420p',\\n        'video_name.mp4'\\n    ])\";\n",
       "                var nbb_formatted_code = \"def generate_video(images):\\n    \\\"\\\"\\\"\\n    for idx, img in enumerate(images):\\n        plt.imshow(img, cmap=cm.Greys_r)\\n        plt.savefig(f\\\"images/file_{idx}.png\\\")\\n    \\\"\\\"\\\"\\n    # os.chdir(\\\"images\\\")\\n    subprocess.call(\\n        [\\n            \\\"ffmpeg\\\",\\n            \\\"-framerate\\\",\\n            \\\"8\\\",\\n            \\\"-i\\\",\\n            \\\"file_*.png\\\",\\n            \\\"-r\\\",\\n            \\\"30\\\",\\n            \\\"-pix_fmt\\\",\\n            \\\"yuv420p\\\",\\n            \\\"video_name.mp4\\\",\\n        ]\\n    )\";\n",
       "                var nbb_cells = Jupyter.notebook.get_cells();\n",
       "                for (var i = 0; i < nbb_cells.length; ++i) {\n",
       "                    if (nbb_cells[i].input_prompt_number == nbb_cell_id) {\n",
       "                        if (nbb_cells[i].get_text() == nbb_unformatted_code) {\n",
       "                             nbb_cells[i].set_text(nbb_formatted_code);\n",
       "                        }\n",
       "                        break;\n",
       "                    }\n",
       "                }\n",
       "            }, 500);\n",
       "            "
      ],
      "text/plain": [
       "<IPython.core.display.Javascript object>"
      ]
     },
     "metadata": {},
     "output_type": "display_data"
    }
   ],
   "source": [
    "def generate_video(images):\n",
    "    \"\"\"\n",
    "    for idx, img in enumerate(images):\n",
    "        plt.imshow(img, cmap=cm.Greys_r)\n",
    "        plt.savefig(f\"images/file_{idx}.png\")\n",
    "    \"\"\"\n",
    "    #os.chdir(\"images\")\n",
    "    subprocess.call([\n",
    "        'ffmpeg', '-framerate', '8', '-i', 'file_*.png', '-r', '30', '-pix_fmt', 'yuv420p',\n",
    "        'video_name.mp4'\n",
    "    ])\n"
   ]
  },
  {
   "cell_type": "code",
   "execution_count": 42,
   "id": "7fee6140",
   "metadata": {},
   "outputs": [
    {
     "name": "stderr",
     "output_type": "stream",
     "text": [
      "ffmpeg version 4.2.4-1ubuntu0.1 Copyright (c) 2000-2020 the FFmpeg developers\n",
      "  built with gcc 9 (Ubuntu 9.3.0-10ubuntu2)\n",
      "  configuration: --prefix=/usr --extra-version=1ubuntu0.1 --toolchain=hardened --libdir=/usr/lib/x86_64-linux-gnu --incdir=/usr/include/x86_64-linux-gnu --arch=amd64 --enable-gpl --disable-stripping --enable-avresample --disable-filter=resample --enable-avisynth --enable-gnutls --enable-ladspa --enable-libaom --enable-libass --enable-libbluray --enable-libbs2b --enable-libcaca --enable-libcdio --enable-libcodec2 --enable-libflite --enable-libfontconfig --enable-libfreetype --enable-libfribidi --enable-libgme --enable-libgsm --enable-libjack --enable-libmp3lame --enable-libmysofa --enable-libopenjpeg --enable-libopenmpt --enable-libopus --enable-libpulse --enable-librsvg --enable-librubberband --enable-libshine --enable-libsnappy --enable-libsoxr --enable-libspeex --enable-libssh --enable-libtheora --enable-libtwolame --enable-libvidstab --enable-libvorbis --enable-libvpx --enable-libwavpack --enable-libwebp --enable-libx265 --enable-libxml2 --enable-libxvid --enable-libzmq --enable-libzvbi --enable-lv2 --enable-omx --enable-openal --enable-opencl --enable-opengl --enable-sdl2 --enable-libdc1394 --enable-libdrm --enable-libiec61883 --enable-nvenc --enable-chromaprint --enable-frei0r --enable-libx264 --enable-shared\n",
      "  libavutil      56. 31.100 / 56. 31.100\n",
      "  libavcodec     58. 54.100 / 58. 54.100\n",
      "  libavformat    58. 29.100 / 58. 29.100\n",
      "  libavdevice    58.  8.100 / 58.  8.100\n",
      "  libavfilter     7. 57.100 /  7. 57.100\n",
      "  libavresample   4.  0.  0 /  4.  0.  0\n",
      "  libswscale      5.  5.100 /  5.  5.100\n",
      "  libswresample   3.  5.100 /  3.  5.100\n",
      "  libpostproc    55.  5.100 / 55.  5.100\n",
      "[image2 @ 0x55d8d3748380] Could find no file with path 'file_*.png' and index in the range 0-4\n",
      "file_*.png: No such file or directory\n"
     ]
    },
    {
     "data": {
      "application/javascript": [
       "\n",
       "            setTimeout(function() {\n",
       "                var nbb_cell_id = 42;\n",
       "                var nbb_unformatted_code = \"generate_video(images)\";\n",
       "                var nbb_formatted_code = \"generate_video(images)\";\n",
       "                var nbb_cells = Jupyter.notebook.get_cells();\n",
       "                for (var i = 0; i < nbb_cells.length; ++i) {\n",
       "                    if (nbb_cells[i].input_prompt_number == nbb_cell_id) {\n",
       "                        if (nbb_cells[i].get_text() == nbb_unformatted_code) {\n",
       "                             nbb_cells[i].set_text(nbb_formatted_code);\n",
       "                        }\n",
       "                        break;\n",
       "                    }\n",
       "                }\n",
       "            }, 500);\n",
       "            "
      ],
      "text/plain": [
       "<IPython.core.display.Javascript object>"
      ]
     },
     "metadata": {},
     "output_type": "display_data"
    }
   ],
   "source": [
    "generate_video(images)"
   ]
  },
  {
   "cell_type": "code",
   "execution_count": null,
   "id": "3ca9b241",
   "metadata": {},
   "outputs": [],
   "source": []
  },
  {
   "cell_type": "code",
   "execution_count": null,
   "id": "e50431d1",
   "metadata": {},
   "outputs": [],
   "source": []
  },
  {
   "cell_type": "code",
   "execution_count": 108,
   "id": "3fc3999b",
   "metadata": {},
   "outputs": [
    {
     "data": {
      "text/plain": [
       "<matplotlib.image.AxesImage at 0x7f8092ced250>"
      ]
     },
     "execution_count": 108,
     "metadata": {},
     "output_type": "execute_result"
    },
    {
     "data": {
      "image/png": "[encoded data removed]",
      "text/plain": [
       "<Figure size 432x288 with 1 Axes>"
      ]
     },
     "metadata": {
      "needs_background": "light"
     },
     "output_type": "display_data"
    },
    {
     "data": {
      "application/javascript": [
       "\n",
       "            setTimeout(function() {\n",
       "                var nbb_cell_id = 108;\n",
       "                var nbb_unformatted_code = \"plt.imshow(tensor)\";\n",
       "                var nbb_formatted_code = \"plt.imshow(tensor)\";\n",
       "                var nbb_cells = Jupyter.notebook.get_cells();\n",
       "                for (var i = 0; i < nbb_cells.length; ++i) {\n",
       "                    if (nbb_cells[i].input_prompt_number == nbb_cell_id) {\n",
       "                        if (nbb_cells[i].get_text() == nbb_unformatted_code) {\n",
       "                             nbb_cells[i].set_text(nbb_formatted_code);\n",
       "                        }\n",
       "                        break;\n",
       "                    }\n",
       "                }\n",
       "            }, 500);\n",
       "            "
      ],
      "text/plain": [
       "<IPython.core.display.Javascript object>"
      ]
     },
     "metadata": {},
     "output_type": "display_data"
    }
   ],
   "source": [
    "plt.imshow(tensor)"
   ]
  },
  {
   "cell_type": "code",
   "execution_count": null,
   "id": "5e197cb7",
   "metadata": {},
   "outputs": [],
   "source": []
  },
  {
   "cell_type": "code",
   "execution_count": null,
   "id": "7708aba5",
   "metadata": {},
   "outputs": [],
   "source": [
    "aedat.convert_polarity_events(split_events[0])"
   ]
  },
  {
   "cell_type": "code",
   "execution_count": null,
   "id": "209d226d",
   "metadata": {},
   "outputs": [],
   "source": [
    "frames = []\n",
    "\n",
    "for frame_events in split_events:\n",
    "    frames.append(aedat.convert_polarity_events(frame_events))\n",
    "    "
   ]
  },
  {
   "cell_type": "code",
   "execution_count": null,
   "id": "5d606a63",
   "metadata": {},
   "outputs": [],
   "source": [
    "frames = aedat.get_frames_from_events(dvs.datapoints[0].events)"
   ]
  },
  {
   "cell_type": "code",
   "execution_count": null,
   "id": "4bcbbdde",
   "metadata": {},
   "outputs": [],
   "source": [
    "frames[0].shape"
   ]
  },
  {
   "cell_type": "code",
   "execution_count": null,
   "id": "9fc182cd",
   "metadata": {},
   "outputs": [],
   "source": [
    "len(frames)"
   ]
  },
  {
   "cell_type": "code",
   "execution_count": null,
   "id": "2f61360c",
   "metadata": {},
   "outputs": [],
   "source": [
    "plt.imshow(torch.clip(frames[0].to_dense(), 0, 1))"
   ]
  },
  {
   "cell_type": "code",
   "execution_count": null,
   "id": "53b138f7",
   "metadata": {},
   "outputs": [],
   "source": [
    "dense_frames = []\n",
    "for frame in frames:\n",
    "    dense_frames.append(torch.clip(frames[5].to_dense(), 0, 1))\n",
    "len(dense_frames)"
   ]
  },
  {
   "cell_type": "code",
   "execution_count": null,
   "id": "187ede83",
   "metadata": {},
   "outputs": [],
   "source": [
    "plt_frames = []\n",
    "\n",
    "fig = plt.figure()\n",
    "for i in range(len(dense_frames)):\n",
    "    plt_frames.append([plt.imshow(dense_frames[i], cmap=cm.Greys_r, animated=True)])\n",
    "\n",
    "ani = animation.ArtistAnimation(\n",
    "    fig, plt_frames, interval=50, blit=True, repeat_delay=1000\n",
    ")\n",
    "# ani.save('movie.mp4')\n",
    "plt.show()"
   ]
  },
  {
   "cell_type": "code",
   "execution_count": null,
   "id": "7f960c30",
   "metadata": {},
   "outputs": [],
   "source": []
  },
  {
   "cell_type": "code",
   "execution_count": null,
   "id": "bc1bd73a",
   "metadata": {},
   "outputs": [],
   "source": [
    "!ls"
   ]
  },
  {
   "cell_type": "code",
   "execution_count": null,
   "id": "c93e2f1f",
   "metadata": {},
   "outputs": [],
   "source": [
    "data = aedat.AEDAT(\"DvsGesture/user01_fluorescent.aedat\")\n",
    "# data = aedat.AEDAT4(\"user02_fluorescent.aedat4\")"
   ]
  },
  {
   "cell_type": "code",
   "execution_count": null,
   "id": "fc58561b",
   "metadata": {},
   "outputs": [],
   "source": [
    "events = aedat.convert_polarity_events(data.polarity_events)\n",
    "events.shape"
   ]
  },
  {
   "cell_type": "code",
   "execution_count": null,
   "id": "a6cf81f7",
   "metadata": {},
   "outputs": [],
   "source": [
    "events"
   ]
  },
  {
   "cell_type": "code",
   "execution_count": null,
   "id": "4cd0e73d",
   "metadata": {},
   "outputs": [],
   "source": [
    "event = events[0]\n",
    "event"
   ]
  },
  {
   "cell_type": "code",
   "execution_count": null,
   "id": "85680262",
   "metadata": {},
   "outputs": [],
   "source": [
    "plt.imshow(event.to_dense())"
   ]
  },
  {
   "cell_type": "code",
   "execution_count": null,
   "id": "78565e5b",
   "metadata": {},
   "outputs": [],
   "source": [
    "events._indices().shape"
   ]
  },
  {
   "cell_type": "code",
   "execution_count": null,
   "id": "8b17864a",
   "metadata": {},
   "outputs": [],
   "source": [
    "aggr_event = None\n",
    "events_to_aggr = torch.empty(size=(0, 128, 128))\n",
    "for n in tqdm(range(10000)):\n",
    "    dense_tensor = events[n].to_dense().reshape(1, 128, 128)\n",
    "    events_to_aggr = torch.cat((events_to_aggr, dense_tensor))"
   ]
  },
  {
   "cell_type": "code",
   "execution_count": null,
   "id": "a60b36da",
   "metadata": {},
   "outputs": [],
   "source": [
    "aggr_event = torch.sum(events_to_aggr, axis=0)\n",
    "print(aggr_event.shape)"
   ]
  },
  {
   "cell_type": "code",
   "execution_count": null,
   "id": "cbfd2771",
   "metadata": {},
   "outputs": [],
   "source": [
    "plt.imshow(torch.clip(aggr_event, 0, 1))"
   ]
  },
  {
   "cell_type": "code",
   "execution_count": null,
   "id": "8203b90e",
   "metadata": {},
   "outputs": [],
   "source": []
  },
  {
   "cell_type": "code",
   "execution_count": null,
   "id": "eff23112",
   "metadata": {},
   "outputs": [],
   "source": []
  },
  {
   "cell_type": "code",
   "execution_count": null,
   "id": "b9f9c980",
   "metadata": {},
   "outputs": [],
   "source": [
    "df = pd.read_csv(\"DvsGesture/user01_fluorescent_labels.csv\")\n",
    "df"
   ]
  },
  {
   "cell_type": "code",
   "execution_count": null,
   "id": "a26f12c7",
   "metadata": {},
   "outputs": [],
   "source": [
    "img = torch.empty(size=(0, 128, 128))\n",
    "\n",
    "for i in range(0, 1000000, 1000):\n",
    "    dense_tensor = torch.reshape(events[i].to_dense(), (1, 128, 128))\n",
    "    img = torch.cat((img, dense_tensor))\n"
   ]
  },
  {
   "cell_type": "code",
   "execution_count": null,
   "id": "2ff2707b",
   "metadata": {},
   "outputs": [],
   "source": [
    "img[img > 0]"
   ]
  },
  {
   "cell_type": "code",
   "execution_count": null,
   "id": "3219466e",
   "metadata": {},
   "outputs": [],
   "source": [
    "frames = [] # for storing the generated images\n",
    "fig = plt.figure()\n",
    "for i in range(1000):\n",
    "    frames.append([plt.imshow(img[i], cmap=cm.Greys_r,animated=True)])\n",
    "\n",
    "ani = animation.ArtistAnimation(fig, frames, interval=50, blit=True,\n",
    "                                repeat_delay=1000)\n",
    "# ani.save('movie.mp4')\n",
    "plt.show()"
   ]
  },
  {
   "cell_type": "code",
   "execution_count": null,
   "id": "1f7c7f7f",
   "metadata": {},
   "outputs": [],
   "source": []
  },
  {
   "cell_type": "code",
   "execution_count": null,
   "id": "376964f9",
   "metadata": {},
   "outputs": [],
   "source": [
    "dvs = aedat.DVSGestureData(\n",
    "    \"DvsGesture/user01_fluorescent.aedat\",\n",
    "    \"DvsGesture/user01_fluorescent_labels.csv\"\n",
    ")"
   ]
  },
  {
   "cell_type": "code",
   "execution_count": null,
   "id": "6985737d",
   "metadata": {},
   "outputs": [],
   "source": [
    "dvs.datapoints[0].label"
   ]
  },
  {
   "cell_type": "code",
   "execution_count": null,
   "id": "4f18b480",
   "metadata": {},
   "outputs": [],
   "source": []
  },
  {
   "cell_type": "code",
   "execution_count": null,
   "id": "8bd8adc0",
   "metadata": {},
   "outputs": [],
   "source": [
    "aedat.get_frames_from_events(dvs.datapoints[0].events, 1000)"
   ]
  },
  {
   "cell_type": "code",
   "execution_count": null,
   "id": "09c1db2b",
   "metadata": {},
   "outputs": [],
   "source": [
    "sizes = []\n",
    "for element in dvs.datapoints:\n",
    "    label = element.label\n",
    "    events = aedat.convert_polarity_events(element.events)\n",
    "    sizes.append(events.shape)"
   ]
  },
  {
   "cell_type": "code",
   "execution_count": null,
   "id": "17305c9b",
   "metadata": {},
   "outputs": [],
   "source": []
  },
  {
   "cell_type": "code",
   "execution_count": null,
   "id": "bbffafb5",
   "metadata": {},
   "outputs": [],
   "source": [
    "sizes"
   ]
  },
  {
   "cell_type": "code",
   "execution_count": null,
   "id": "99c92ece",
   "metadata": {},
   "outputs": [],
   "source": [
    "events.shape"
   ]
  },
  {
   "cell_type": "code",
   "execution_count": null,
   "id": "9d190b90",
   "metadata": {},
   "outputs": [],
   "source": [
    "dvs.datapoints"
   ]
  },
  {
   "cell_type": "code",
   "execution_count": null,
   "id": "450ce63a",
   "metadata": {},
   "outputs": [],
   "source": [
    "total_size = sum([ size[0] for size in sizes])\n",
    "total_size"
   ]
  },
  {
   "cell_type": "code",
   "execution_count": null,
   "id": "2e0e099f",
   "metadata": {},
   "outputs": [],
   "source": [
    "img = torch.empty(size=(0, 128, 128))\n",
    "\n",
    "for i in range(0, events.shape[0], 10000):\n",
    "    dense_tensor = torch.reshape(events[i].to_dense(), (1, 128, 128))\n",
    "    img = torch.cat((img, dense_tensor))"
   ]
  },
  {
   "cell_type": "code",
   "execution_count": null,
   "id": "a6161005",
   "metadata": {},
   "outputs": [],
   "source": [
    "img.shape"
   ]
  },
  {
   "cell_type": "code",
   "execution_count": null,
   "id": "d36a04f8",
   "metadata": {},
   "outputs": [],
   "source": [
    "img_length = img.shape[0]\n",
    "frames = [] # for storing the generated images\n",
    "fig = plt.figure()\n",
    "for i in range(img_length):\n",
    "    frames.append([plt.imshow(img[i], cmap=cm.Greys_r,animated=True)])\n",
    "\n",
    "ani = animation.ArtistAnimation(fig, frames, interval=50, blit=True,\n",
    "                                repeat_delay=1000)\n",
    "# ani.save('movie.mp4')\n",
    "plt.show()"
   ]
  },
  {
   "cell_type": "code",
   "execution_count": null,
   "id": "9814675a",
   "metadata": {},
   "outputs": [],
   "source": []
  }
 ],
 "metadata": {
  "kernelspec": {
   "display_name": "Python 3 (ipykernel)",
   "language": "python",
   "name": "python3"
  },
  "language_info": {
   "codemirror_mode": {
    "name": "ipython",
    "version": 3
   },
   "file_extension": ".py",
   "mimetype": "text/x-python",
   "name": "python",
   "nbconvert_exporter": "python",
   "pygments_lexer": "ipython3",
   "version": "3.8.6"
  }
 },
 "nbformat": 4,
 "nbformat_minor": 5
}
