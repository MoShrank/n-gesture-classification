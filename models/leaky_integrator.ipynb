{
 "cells": [
  {
   "cell_type": "code",
   "execution_count": 1,
   "id": "d42cd9a6",
   "metadata": {},
   "outputs": [
    {
     "data": {
      "application/javascript": [
       "\n",
       "            setTimeout(function() {\n",
       "                var nbb_cell_id = 1;\n",
       "                var nbb_unformatted_code = \"%load_ext nb_black\";\n",
       "                var nbb_formatted_code = \"%load_ext nb_black\";\n",
       "                var nbb_cells = Jupyter.notebook.get_cells();\n",
       "                for (var i = 0; i < nbb_cells.length; ++i) {\n",
       "                    if (nbb_cells[i].input_prompt_number == nbb_cell_id) {\n",
       "                        if (nbb_cells[i].get_text() == nbb_unformatted_code) {\n",
       "                             nbb_cells[i].set_text(nbb_formatted_code);\n",
       "                        }\n",
       "                        break;\n",
       "                    }\n",
       "                }\n",
       "            }, 500);\n",
       "            "
      ],
      "text/plain": [
       "<IPython.core.display.Javascript object>"
      ]
     },
     "metadata": {},
     "output_type": "display_data"
    }
   ],
   "source": [
    "%load_ext nb_black"
   ]
  },
  {
   "cell_type": "code",
   "execution_count": 4,
   "id": "87e3d86f",
   "metadata": {},
   "outputs": [
    {
     "data": {
      "application/javascript": [
       "\n",
       "            setTimeout(function() {\n",
       "                var nbb_cell_id = 4;\n",
       "                var nbb_unformatted_code = \"import numpy as np\\nimport matplotlib.pyplot as plt\";\n",
       "                var nbb_formatted_code = \"import numpy as np\\nimport matplotlib.pyplot as plt\";\n",
       "                var nbb_cells = Jupyter.notebook.get_cells();\n",
       "                for (var i = 0; i < nbb_cells.length; ++i) {\n",
       "                    if (nbb_cells[i].input_prompt_number == nbb_cell_id) {\n",
       "                        if (nbb_cells[i].get_text() == nbb_unformatted_code) {\n",
       "                             nbb_cells[i].set_text(nbb_formatted_code);\n",
       "                        }\n",
       "                        break;\n",
       "                    }\n",
       "                }\n",
       "            }, 500);\n",
       "            "
      ],
      "text/plain": [
       "<IPython.core.display.Javascript object>"
      ]
     },
     "metadata": {},
     "output_type": "display_data"
    }
   ],
   "source": [
    "import numpy as np\n",
    "import matplotlib.pyplot as plt"
   ]
  },
  {
   "cell_type": "markdown",
   "id": "2bbf2333",
   "metadata": {},
   "source": [
    "# Leaky Integrator\n",
    "A leaky integrator can describe the membrane potential over time without the actual spiking mechanism"
   ]
  },
  {
   "cell_type": "code",
   "execution_count": 22,
   "id": "c8647a02",
   "metadata": {},
   "outputs": [
    {
     "data": {
      "application/javascript": [
       "\n",
       "            setTimeout(function() {\n",
       "                var nbb_cell_id = 22;\n",
       "                var nbb_unformatted_code = \"class LeakyIntegrator:\\n    def __init__(self, decay, step_size=0.001):\\n        self._decay = decay\\n        self._step_size = step_size\\n        self._voltages = [0]\\n\\n    def step(self, inp):\\n        dx = ((-self._decay * self._voltages[-1]) + inp) * self._step_size\\n        new_x = self._voltages[-1] + dx\\n        self._voltages = self._voltages + [new_x]\";\n",
       "                var nbb_formatted_code = \"class LeakyIntegrator:\\n    def __init__(self, decay, step_size=0.001):\\n        self._decay = decay\\n        self._step_size = step_size\\n        self._voltages = [0]\\n\\n    def step(self, inp):\\n        dx = ((-self._decay * self._voltages[-1]) + inp) * self._step_size\\n        new_x = self._voltages[-1] + dx\\n        self._voltages = self._voltages + [new_x]\";\n",
       "                var nbb_cells = Jupyter.notebook.get_cells();\n",
       "                for (var i = 0; i < nbb_cells.length; ++i) {\n",
       "                    if (nbb_cells[i].input_prompt_number == nbb_cell_id) {\n",
       "                        if (nbb_cells[i].get_text() == nbb_unformatted_code) {\n",
       "                             nbb_cells[i].set_text(nbb_formatted_code);\n",
       "                        }\n",
       "                        break;\n",
       "                    }\n",
       "                }\n",
       "            }, 500);\n",
       "            "
      ],
      "text/plain": [
       "<IPython.core.display.Javascript object>"
      ]
     },
     "metadata": {},
     "output_type": "display_data"
    }
   ],
   "source": [
    "class LeakyIntegrator:\n",
    "    def __init__(self, decay, step_size=0.001):\n",
    "        self._decay = decay\n",
    "        self._step_size = step_size\n",
    "        self._voltages = [0]\n",
    "\n",
    "    def step(self, inp):\n",
    "        dx = ((-self._decay * self._voltages[-1]) + inp) * self._step_size\n",
    "        new_x = self._voltages[-1] + dx\n",
    "        self._voltages = self._voltages + [new_x]"
   ]
  },
  {
   "cell_type": "code",
   "execution_count": 37,
   "id": "00a151a4",
   "metadata": {},
   "outputs": [
    {
     "data": {
      "application/javascript": [
       "\n",
       "            setTimeout(function() {\n",
       "                var nbb_cell_id = 37;\n",
       "                var nbb_unformatted_code = \"li = LeakyIntegrator(decay=10)\\ninp = np.zeros(1000)\\n\\ninp[10] = 1\\ninp[550] = 1\\n\\nfor i in inp:\\n    li.step(i)\";\n",
       "                var nbb_formatted_code = \"li = LeakyIntegrator(decay=10)\\ninp = np.zeros(1000)\\n\\ninp[10] = 1\\ninp[550] = 1\\n\\nfor i in inp:\\n    li.step(i)\";\n",
       "                var nbb_cells = Jupyter.notebook.get_cells();\n",
       "                for (var i = 0; i < nbb_cells.length; ++i) {\n",
       "                    if (nbb_cells[i].input_prompt_number == nbb_cell_id) {\n",
       "                        if (nbb_cells[i].get_text() == nbb_unformatted_code) {\n",
       "                             nbb_cells[i].set_text(nbb_formatted_code);\n",
       "                        }\n",
       "                        break;\n",
       "                    }\n",
       "                }\n",
       "            }, 500);\n",
       "            "
      ],
      "text/plain": [
       "<IPython.core.display.Javascript object>"
      ]
     },
     "metadata": {},
     "output_type": "display_data"
    }
   ],
   "source": [
    "li = LeakyIntegrator(decay=10)\n",
    "inp = np.zeros(1000)\n",
    "\n",
    "inp[10] = 1\n",
    "inp[550] = 1\n",
    "\n",
    "for i in inp:\n",
    "    li.step(i)"
   ]
  },
  {
   "cell_type": "code",
   "execution_count": 38,
   "id": "9c573581",
   "metadata": {},
   "outputs": [
    {
     "data": {
      "image/png": "[encoded data removed]",
      "text/plain": [
       "<Figure size 432x288 with 1 Axes>"
      ]
     },
     "metadata": {
      "needs_background": "light"
     },
     "output_type": "display_data"
    },
    {
     "data": {
      "application/javascript": [
       "\n",
       "            setTimeout(function() {\n",
       "                var nbb_cell_id = 38;\n",
       "                var nbb_unformatted_code = \"plt.plot([x / 100 for x in range(0, 1001)], li._voltages)\\nplt.xlabel(\\\"time (s)\\\")\\nplt.ylabel(\\\"voltage\\\")\\nplt.show()\";\n",
       "                var nbb_formatted_code = \"plt.plot([x / 100 for x in range(0, 1001)], li._voltages)\\nplt.xlabel(\\\"time (s)\\\")\\nplt.ylabel(\\\"voltage\\\")\\nplt.show()\";\n",
       "                var nbb_cells = Jupyter.notebook.get_cells();\n",
       "                for (var i = 0; i < nbb_cells.length; ++i) {\n",
       "                    if (nbb_cells[i].input_prompt_number == nbb_cell_id) {\n",
       "                        if (nbb_cells[i].get_text() == nbb_unformatted_code) {\n",
       "                             nbb_cells[i].set_text(nbb_formatted_code);\n",
       "                        }\n",
       "                        break;\n",
       "                    }\n",
       "                }\n",
       "            }, 500);\n",
       "            "
      ],
      "text/plain": [
       "<IPython.core.display.Javascript object>"
      ]
     },
     "metadata": {},
     "output_type": "display_data"
    }
   ],
   "source": [
    "plt.plot([x / 100 for x in range(0, 1001)], li._voltages)\n",
    "plt.xlabel(\"time (s)\")\n",
    "plt.ylabel(\"voltage\")\n",
    "plt.show()"
   ]
  }
 ],
 "metadata": {
  "kernelspec": {
   "display_name": "Python 3 (ipykernel)",
   "language": "python",
   "name": "python3"
  },
  "language_info": {
   "codemirror_mode": {
    "name": "ipython",
    "version": 3
   },
   "file_extension": ".py",
   "mimetype": "text/x-python",
   "name": "python",
   "nbconvert_exporter": "python",
   "pygments_lexer": "ipython3",
   "version": "3.8.6"
  }
 },
 "nbformat": 4,
 "nbformat_minor": 5
}
