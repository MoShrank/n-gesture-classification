{
 "cells": [
  {
   "cell_type": "code",
   "execution_count": 1,
   "id": "3b637875",
   "metadata": {},
   "outputs": [
    {
     "data": {
      "application/javascript": [
       "\n",
       "            setTimeout(function() {\n",
       "                var nbb_cell_id = 1;\n",
       "                var nbb_unformatted_code = \"%load_ext nb_black\";\n",
       "                var nbb_formatted_code = \"%load_ext nb_black\";\n",
       "                var nbb_cells = Jupyter.notebook.get_cells();\n",
       "                for (var i = 0; i < nbb_cells.length; ++i) {\n",
       "                    if (nbb_cells[i].input_prompt_number == nbb_cell_id) {\n",
       "                        if (nbb_cells[i].get_text() == nbb_unformatted_code) {\n",
       "                             nbb_cells[i].set_text(nbb_formatted_code);\n",
       "                        }\n",
       "                        break;\n",
       "                    }\n",
       "                }\n",
       "            }, 500);\n",
       "            "
      ],
      "text/plain": [
       "<IPython.core.display.Javascript object>"
      ]
     },
     "metadata": {},
     "output_type": "display_data"
    }
   ],
   "source": [
    "%load_ext nb_black"
   ]
  },
  {
   "cell_type": "code",
   "execution_count": 2,
   "id": "50fca59a",
   "metadata": {},
   "outputs": [
    {
     "data": {
      "application/javascript": [
       "\n",
       "            setTimeout(function() {\n",
       "                var nbb_cell_id = 2;\n",
       "                var nbb_unformatted_code = \"import sys\\n\\nsys.path.append(\\\"..\\\")\";\n",
       "                var nbb_formatted_code = \"import sys\\n\\nsys.path.append(\\\"..\\\")\";\n",
       "                var nbb_cells = Jupyter.notebook.get_cells();\n",
       "                for (var i = 0; i < nbb_cells.length; ++i) {\n",
       "                    if (nbb_cells[i].input_prompt_number == nbb_cell_id) {\n",
       "                        if (nbb_cells[i].get_text() == nbb_unformatted_code) {\n",
       "                             nbb_cells[i].set_text(nbb_formatted_code);\n",
       "                        }\n",
       "                        break;\n",
       "                    }\n",
       "                }\n",
       "            }, 500);\n",
       "            "
      ],
      "text/plain": [
       "<IPython.core.display.Javascript object>"
      ]
     },
     "metadata": {},
     "output_type": "display_data"
    }
   ],
   "source": [
    "import sys\n",
    "\n",
    "sys.path.append(\"..\")"
   ]
  },
  {
   "cell_type": "code",
   "execution_count": 3,
   "id": "a5c239ef",
   "metadata": {},
   "outputs": [
    {
     "data": {
      "application/javascript": [
       "\n",
       "            setTimeout(function() {\n",
       "                var nbb_cell_id = 3;\n",
       "                var nbb_unformatted_code = \"import numpy as np\\nimport matplotlib.pyplot as plt\\nfrom typing import Union\\nfrom util.spike_trains import get_GWN\\nfrom scipy.stats import poisson\\nfrom util.plotting import plot_volt_trace\";\n",
       "                var nbb_formatted_code = \"import numpy as np\\nimport matplotlib.pyplot as plt\\nfrom typing import Union\\nfrom util.spike_trains import get_GWN\\nfrom scipy.stats import poisson\\nfrom util.plotting import plot_volt_trace\";\n",
       "                var nbb_cells = Jupyter.notebook.get_cells();\n",
       "                for (var i = 0; i < nbb_cells.length; ++i) {\n",
       "                    if (nbb_cells[i].input_prompt_number == nbb_cell_id) {\n",
       "                        if (nbb_cells[i].get_text() == nbb_unformatted_code) {\n",
       "                             nbb_cells[i].set_text(nbb_formatted_code);\n",
       "                        }\n",
       "                        break;\n",
       "                    }\n",
       "                }\n",
       "            }, 500);\n",
       "            "
      ],
      "text/plain": [
       "<IPython.core.display.Javascript object>"
      ]
     },
     "metadata": {},
     "output_type": "display_data"
    }
   ],
   "source": [
    "import numpy as np\n",
    "import matplotlib.pyplot as plt\n",
    "from typing import Union\n",
    "from util.spike_trains import get_GWN\n",
    "from scipy.stats import poisson\n",
    "from util.plotting import plot_volt_trace"
   ]
  },
  {
   "cell_type": "code",
   "execution_count": 4,
   "id": "ccaa7912",
   "metadata": {},
   "outputs": [
    {
     "data": {
      "application/javascript": [
       "\n",
       "            setTimeout(function() {\n",
       "                var nbb_cell_id = 4;\n",
       "                var nbb_unformatted_code = \"plt.rcParams[\\\"figure.figsize\\\"] = (16, 8)\";\n",
       "                var nbb_formatted_code = \"plt.rcParams[\\\"figure.figsize\\\"] = (16, 8)\";\n",
       "                var nbb_cells = Jupyter.notebook.get_cells();\n",
       "                for (var i = 0; i < nbb_cells.length; ++i) {\n",
       "                    if (nbb_cells[i].input_prompt_number == nbb_cell_id) {\n",
       "                        if (nbb_cells[i].get_text() == nbb_unformatted_code) {\n",
       "                             nbb_cells[i].set_text(nbb_formatted_code);\n",
       "                        }\n",
       "                        break;\n",
       "                    }\n",
       "                }\n",
       "            }, 500);\n",
       "            "
      ],
      "text/plain": [
       "<IPython.core.display.Javascript object>"
      ]
     },
     "metadata": {},
     "output_type": "display_data"
    }
   ],
   "source": [
    "plt.rcParams[\"figure.figsize\"] = (16, 8)"
   ]
  },
  {
   "cell_type": "code",
   "execution_count": 5,
   "id": "deeb4c2b",
   "metadata": {},
   "outputs": [
    {
     "data": {
      "application/javascript": [
       "\n",
       "            setTimeout(function() {\n",
       "                var nbb_cell_id = 5;\n",
       "                var nbb_unformatted_code = \"class LIF:\\n    def __init__(self, dt: float):\\n\\n        self.dt = dt\\n\\n        self.E_l = -65.0  # resting potential\\n        self.v_th = -55.0  # threshold\\n        self.v_reset = -65.0  # v_reset\\n        self.tau_m = 10.0  # membrane time constant -> given by TODO\\n        self.R = 20  # resistance\\n\\n        self.spikes = []\\n        self.voltages = [self.E_l]\\n\\n    def step(self, input_current: Union[float, int]):\\n        if self.voltages[-1] >= self.v_th:\\n            self.spikes = self.spikes + [len(self.voltages)]\\n            v = self.v_reset\\n        else:\\n            dv = (self.dt / self.tau_m) * (self.E_l - self.voltages[-1]) + (\\n                input_current / self.R\\n            )\\n\\n            v = self.voltages[-1] + dv\\n\\n        self.voltages += [v]\";\n",
       "                var nbb_formatted_code = \"class LIF:\\n    def __init__(self, dt: float):\\n\\n        self.dt = dt\\n\\n        self.E_l = -65.0  # resting potential\\n        self.v_th = -55.0  # threshold\\n        self.v_reset = -65.0  # v_reset\\n        self.tau_m = 10.0  # membrane time constant -> given by TODO\\n        self.R = 20  # resistance\\n\\n        self.spikes = []\\n        self.voltages = [self.E_l]\\n\\n    def step(self, input_current: Union[float, int]):\\n        if self.voltages[-1] >= self.v_th:\\n            self.spikes = self.spikes + [len(self.voltages)]\\n            v = self.v_reset\\n        else:\\n            dv = (self.dt / self.tau_m) * (self.E_l - self.voltages[-1]) + (\\n                input_current / self.R\\n            )\\n\\n            v = self.voltages[-1] + dv\\n\\n        self.voltages += [v]\";\n",
       "                var nbb_cells = Jupyter.notebook.get_cells();\n",
       "                for (var i = 0; i < nbb_cells.length; ++i) {\n",
       "                    if (nbb_cells[i].input_prompt_number == nbb_cell_id) {\n",
       "                        if (nbb_cells[i].get_text() == nbb_unformatted_code) {\n",
       "                             nbb_cells[i].set_text(nbb_formatted_code);\n",
       "                        }\n",
       "                        break;\n",
       "                    }\n",
       "                }\n",
       "            }, 500);\n",
       "            "
      ],
      "text/plain": [
       "<IPython.core.display.Javascript object>"
      ]
     },
     "metadata": {},
     "output_type": "display_data"
    }
   ],
   "source": [
    "class LIF:\n",
    "    def __init__(self, dt: float):\n",
    "\n",
    "        self.dt = dt\n",
    "\n",
    "        self.E_l = -65.0  # resting potential\n",
    "        self.v_th = -55.0  # threshold\n",
    "        self.v_reset = -65.0  # v_reset\n",
    "        self.tau_m = 10.0  # membrane time constant -> given by TODO\n",
    "        self.R = 20  # resistance\n",
    "\n",
    "        self.spikes = []\n",
    "        self.voltages = [self.E_l]\n",
    "\n",
    "    def step(self, input_current: Union[float, int]):\n",
    "        if self.voltages[-1] >= self.v_th:\n",
    "            self.spikes = self.spikes + [len(self.voltages)]\n",
    "            v = self.v_reset\n",
    "        else:\n",
    "            dv = (self.dt / self.tau_m) * (self.E_l - self.voltages[-1]) + (\n",
    "                input_current / self.R\n",
    "            )\n",
    "\n",
    "            v = self.voltages[-1] + dv\n",
    "\n",
    "        self.voltages += [v]"
   ]
  },
  {
   "cell_type": "code",
   "execution_count": 6,
   "id": "8619099e",
   "metadata": {},
   "outputs": [
    {
     "data": {
      "application/javascript": [
       "\n",
       "            setTimeout(function() {\n",
       "                var nbb_cell_id = 6;\n",
       "                var nbb_unformatted_code = \"mu = 0.1\\ndt = 0.1\\nsize = 5000\\nnp.random.seed(seed=1)\\nips = poisson.rvs(0.2, size=size - 1)\\nips[ips > 0] = 1\\nips *= 10\";\n",
       "                var nbb_formatted_code = \"mu = 0.1\\ndt = 0.1\\nsize = 5000\\nnp.random.seed(seed=1)\\nips = poisson.rvs(0.2, size=size - 1)\\nips[ips > 0] = 1\\nips *= 10\";\n",
       "                var nbb_cells = Jupyter.notebook.get_cells();\n",
       "                for (var i = 0; i < nbb_cells.length; ++i) {\n",
       "                    if (nbb_cells[i].input_prompt_number == nbb_cell_id) {\n",
       "                        if (nbb_cells[i].get_text() == nbb_unformatted_code) {\n",
       "                             nbb_cells[i].set_text(nbb_formatted_code);\n",
       "                        }\n",
       "                        break;\n",
       "                    }\n",
       "                }\n",
       "            }, 500);\n",
       "            "
      ],
      "text/plain": [
       "<IPython.core.display.Javascript object>"
      ]
     },
     "metadata": {},
     "output_type": "display_data"
    }
   ],
   "source": [
    "mu = 0.1\n",
    "dt = 0.1\n",
    "size = 5000\n",
    "np.random.seed(seed=1)\n",
    "ips = poisson.rvs(0.2, size=size - 1)\n",
    "ips[ips > 0] = 1\n",
    "ips *= 10"
   ]
  },
  {
   "cell_type": "code",
   "execution_count": 7,
   "id": "d912a239",
   "metadata": {},
   "outputs": [
    {
     "data": {
      "application/javascript": [
       "\n",
       "            setTimeout(function() {\n",
       "                var nbb_cell_id = 7;\n",
       "                var nbb_unformatted_code = \"ips = np.zeros(size - 1)\\nips[500:1000] = 3\";\n",
       "                var nbb_formatted_code = \"ips = np.zeros(size - 1)\\nips[500:1000] = 3\";\n",
       "                var nbb_cells = Jupyter.notebook.get_cells();\n",
       "                for (var i = 0; i < nbb_cells.length; ++i) {\n",
       "                    if (nbb_cells[i].input_prompt_number == nbb_cell_id) {\n",
       "                        if (nbb_cells[i].get_text() == nbb_unformatted_code) {\n",
       "                             nbb_cells[i].set_text(nbb_formatted_code);\n",
       "                        }\n",
       "                        break;\n",
       "                    }\n",
       "                }\n",
       "            }, 500);\n",
       "            "
      ],
      "text/plain": [
       "<IPython.core.display.Javascript object>"
      ]
     },
     "metadata": {},
     "output_type": "display_data"
    }
   ],
   "source": [
    "ips = np.zeros(size - 1)\n",
    "ips[500:1000] = 3"
   ]
  },
  {
   "cell_type": "code",
   "execution_count": 8,
   "id": "f0af3e6d",
   "metadata": {},
   "outputs": [
    {
     "name": "stdout",
     "output_type": "stream",
     "text": [
      "no of spikes: 4\n"
     ]
    },
    {
     "data": {
      "image/png": "[encoded data removed]",
      "text/plain": [
       "<Figure size 1152x576 with 1 Axes>"
      ]
     },
     "metadata": {
      "needs_background": "light"
     },
     "output_type": "display_data"
    },
    {
     "data": {
      "application/javascript": [
       "\n",
       "            setTimeout(function() {\n",
       "                var nbb_cell_id = 8;\n",
       "                var nbb_unformatted_code = \"lif = LIF(dt=dt)\\n\\nfor inp in ips:\\n    lif.step(inp)\\n\\nplot_volt_trace(lif.voltages, lif.v_th, dt=dt, sim_length=size)\\nprint(f\\\"no of spikes: {len(lif.spikes)}\\\")\";\n",
       "                var nbb_formatted_code = \"lif = LIF(dt=dt)\\n\\nfor inp in ips:\\n    lif.step(inp)\\n\\nplot_volt_trace(lif.voltages, lif.v_th, dt=dt, sim_length=size)\\nprint(f\\\"no of spikes: {len(lif.spikes)}\\\")\";\n",
       "                var nbb_cells = Jupyter.notebook.get_cells();\n",
       "                for (var i = 0; i < nbb_cells.length; ++i) {\n",
       "                    if (nbb_cells[i].input_prompt_number == nbb_cell_id) {\n",
       "                        if (nbb_cells[i].get_text() == nbb_unformatted_code) {\n",
       "                             nbb_cells[i].set_text(nbb_formatted_code);\n",
       "                        }\n",
       "                        break;\n",
       "                    }\n",
       "                }\n",
       "            }, 500);\n",
       "            "
      ],
      "text/plain": [
       "<IPython.core.display.Javascript object>"
      ]
     },
     "metadata": {},
     "output_type": "display_data"
    }
   ],
   "source": [
    "lif = LIF(dt=dt)\n",
    "\n",
    "for inp in ips:\n",
    "    lif.step(inp)\n",
    "\n",
    "plot_volt_trace(lif.voltages, lif.v_th, dt=dt, sim_length=size)\n",
    "print(f\"no of spikes: {len(lif.spikes)}\")"
   ]
  },
  {
   "cell_type": "code",
   "execution_count": null,
   "id": "b15ee234",
   "metadata": {},
   "outputs": [],
   "source": []
  },
  {
   "cell_type": "code",
   "execution_count": null,
   "id": "3d16e4f7",
   "metadata": {},
   "outputs": [],
   "source": []
  }
 ],
 "metadata": {
  "kernelspec": {
   "display_name": "Python 3 (ipykernel)",
   "language": "python",
   "name": "python3"
  },
  "language_info": {
   "codemirror_mode": {
    "name": "ipython",
    "version": 3
   },
   "file_extension": ".py",
   "mimetype": "text/x-python",
   "name": "python",
   "nbconvert_exporter": "python",
   "pygments_lexer": "ipython3",
   "version": "3.9.5"
  }
 },
 "nbformat": 4,
 "nbformat_minor": 5
}
