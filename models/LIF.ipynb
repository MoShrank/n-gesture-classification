{
 "cells": [
  {
   "cell_type": "code",
   "execution_count": 1,
   "id": "a5c239ef",
   "metadata": {},
   "outputs": [],
   "source": [
    "import numpy as np\n",
    "import matplotlib.pyplot as plt"
   ]
  },
  {
   "cell_type": "code",
   "execution_count": 2,
   "id": "deeb4c2b",
   "metadata": {},
   "outputs": [],
   "source": [
    "class LIF():\n",
    "    def __init__(self, leak, membrane_time_constant, step_size):\n",
    "        pass\n",
    "    \n",
    "    def step(self, inp):\n",
    "        dx = 0\n",
    "        new_x = 0\n",
    "        \n",
    "        if new_x:\n",
    "            pass\n",
    "        else:\n",
    "            pass\n",
    "        \n",
    "        "
   ]
  },
  {
   "cell_type": "code",
   "execution_count": null,
   "id": "f0af3e6d",
   "metadata": {},
   "outputs": [],
   "source": []
  }
 ],
 "metadata": {
  "kernelspec": {
   "display_name": "Python 3 (ipykernel)",
   "language": "python",
   "name": "python3"
  },
  "language_info": {
   "codemirror_mode": {
    "name": "ipython",
    "version": 3
   },
   "file_extension": ".py",
   "mimetype": "text/x-python",
   "name": "python",
   "nbconvert_exporter": "python",
   "pygments_lexer": "ipython3",
   "version": "3.8.6"
  }
 },
 "nbformat": 4,
 "nbformat_minor": 5
}
