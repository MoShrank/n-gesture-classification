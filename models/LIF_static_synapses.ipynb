{
 "cells": [
  {
   "cell_type": "code",
   "execution_count": 1,
   "id": "3b637875",
   "metadata": {},
   "outputs": [
    {
     "data": {
      "application/javascript": [
       "\n",
       "            setTimeout(function() {\n",
       "                var nbb_cell_id = 1;\n",
       "                var nbb_unformatted_code = \"%load_ext nb_black\";\n",
       "                var nbb_formatted_code = \"%load_ext nb_black\";\n",
       "                var nbb_cells = Jupyter.notebook.get_cells();\n",
       "                for (var i = 0; i < nbb_cells.length; ++i) {\n",
       "                    if (nbb_cells[i].input_prompt_number == nbb_cell_id) {\n",
       "                        if (nbb_cells[i].get_text() == nbb_unformatted_code) {\n",
       "                             nbb_cells[i].set_text(nbb_formatted_code);\n",
       "                        }\n",
       "                        break;\n",
       "                    }\n",
       "                }\n",
       "            }, 500);\n",
       "            "
      ],
      "text/plain": [
       "<IPython.core.display.Javascript object>"
      ]
     },
     "metadata": {},
     "output_type": "display_data"
    }
   ],
   "source": [
    "%load_ext nb_black"
   ]
  },
  {
   "cell_type": "code",
   "execution_count": 2,
   "id": "50fca59a",
   "metadata": {},
   "outputs": [
    {
     "data": {
      "application/javascript": [
       "\n",
       "            setTimeout(function() {\n",
       "                var nbb_cell_id = 2;\n",
       "                var nbb_unformatted_code = \"import sys\\n\\nsys.path.append(\\\"..\\\")\";\n",
       "                var nbb_formatted_code = \"import sys\\n\\nsys.path.append(\\\"..\\\")\";\n",
       "                var nbb_cells = Jupyter.notebook.get_cells();\n",
       "                for (var i = 0; i < nbb_cells.length; ++i) {\n",
       "                    if (nbb_cells[i].input_prompt_number == nbb_cell_id) {\n",
       "                        if (nbb_cells[i].get_text() == nbb_unformatted_code) {\n",
       "                             nbb_cells[i].set_text(nbb_formatted_code);\n",
       "                        }\n",
       "                        break;\n",
       "                    }\n",
       "                }\n",
       "            }, 500);\n",
       "            "
      ],
      "text/plain": [
       "<IPython.core.display.Javascript object>"
      ]
     },
     "metadata": {},
     "output_type": "display_data"
    }
   ],
   "source": [
    "import sys\n",
    "\n",
    "sys.path.append(\"..\")"
   ]
  },
  {
   "cell_type": "code",
   "execution_count": 3,
   "id": "a5c239ef",
   "metadata": {},
   "outputs": [
    {
     "data": {
      "application/javascript": [
       "\n",
       "            setTimeout(function() {\n",
       "                var nbb_cell_id = 3;\n",
       "                var nbb_unformatted_code = \"import numpy as np\\nimport matplotlib.pyplot as plt\\nfrom typing import Union\\nfrom util.spike_trains import get_GWN, get_poisson_spike_train\\nfrom scipy.stats import poisson\\nfrom util.plotting import plot_volt_trace\";\n",
       "                var nbb_formatted_code = \"import numpy as np\\nimport matplotlib.pyplot as plt\\nfrom typing import Union\\nfrom util.spike_trains import get_GWN, get_poisson_spike_train\\nfrom scipy.stats import poisson\\nfrom util.plotting import plot_volt_trace\";\n",
       "                var nbb_cells = Jupyter.notebook.get_cells();\n",
       "                for (var i = 0; i < nbb_cells.length; ++i) {\n",
       "                    if (nbb_cells[i].input_prompt_number == nbb_cell_id) {\n",
       "                        if (nbb_cells[i].get_text() == nbb_unformatted_code) {\n",
       "                             nbb_cells[i].set_text(nbb_formatted_code);\n",
       "                        }\n",
       "                        break;\n",
       "                    }\n",
       "                }\n",
       "            }, 500);\n",
       "            "
      ],
      "text/plain": [
       "<IPython.core.display.Javascript object>"
      ]
     },
     "metadata": {},
     "output_type": "display_data"
    }
   ],
   "source": [
    "import numpy as np\n",
    "import matplotlib.pyplot as plt\n",
    "from typing import Union\n",
    "from util.spike_trains import get_GWN, get_poisson_spike_train\n",
    "from scipy.stats import poisson\n",
    "from util.plotting import plot_volt_trace"
   ]
  },
  {
   "cell_type": "code",
   "execution_count": 4,
   "id": "ccaa7912",
   "metadata": {},
   "outputs": [
    {
     "data": {
      "application/javascript": [
       "\n",
       "            setTimeout(function() {\n",
       "                var nbb_cell_id = 4;\n",
       "                var nbb_unformatted_code = \"plt.rcParams[\\\"figure.figsize\\\"] = (16, 8)\";\n",
       "                var nbb_formatted_code = \"plt.rcParams[\\\"figure.figsize\\\"] = (16, 8)\";\n",
       "                var nbb_cells = Jupyter.notebook.get_cells();\n",
       "                for (var i = 0; i < nbb_cells.length; ++i) {\n",
       "                    if (nbb_cells[i].input_prompt_number == nbb_cell_id) {\n",
       "                        if (nbb_cells[i].get_text() == nbb_unformatted_code) {\n",
       "                             nbb_cells[i].set_text(nbb_formatted_code);\n",
       "                        }\n",
       "                        break;\n",
       "                    }\n",
       "                }\n",
       "            }, 500);\n",
       "            "
      ],
      "text/plain": [
       "<IPython.core.display.Javascript object>"
      ]
     },
     "metadata": {},
     "output_type": "display_data"
    }
   ],
   "source": [
    "plt.rcParams[\"figure.figsize\"] = (16, 8)"
   ]
  },
  {
   "cell_type": "code",
   "execution_count": 205,
   "id": "deeb4c2b",
   "metadata": {},
   "outputs": [
    {
     "data": {
      "application/javascript": [
       "\n",
       "            setTimeout(function() {\n",
       "                var nbb_cell_id = 205;\n",
       "                var nbb_unformatted_code = \"class LIF:\\n    def __init__(self, dt: float):\\n\\n        self.dt = dt\\n\\n        self.E_l = -65.0  # resting potential\\n        self.v_th = -55.0  # threshold\\n        self.v_reset = -65.0  # v_reset\\n        self.tau_m = 10.0  # membrane time constant -> given by TODO\\n        self.R = 40  # resistance\\n\\n        self.spikes = []\\n        self.voltages = [self.E_l]\\n\\n        self.tau_syn_e = 2.0\\n        self.tau_syn_i = 5.0\\n\\n        self.E_e = 0.0\\n        self.E_i = -80.0\\n\\n        self.gE_bar = 2.4\\n        self.gI_bar = 2.4\\n\\n        self.exc_inps = [0]\\n        self.inh_inps = [0]\\n\\n        self.t_ref = 5.0\\n        self.ref_count = 0.0\\n\\n    def step(self, exc_inp: Union[float, int], inh_inp: Union[float, int], ext_inp: Union[float, int]):\\n        # get synaptic conductance change\\n        d_exc = (self.dt / self.tau_syn_e) * self.exc_inps[\\n            -1\\n        ] + self.gE_bar * exc_inp.sum()\\n\\n        d_inh = (self.dt / self.tau_syn_i) * self.inh_inps[\\n            -1\\n        ] + self.gI_bar * inh_inp.sum()\\n\\n        exc = self.exc_inps[-1] - d_exc\\n        inh = self.inh_inps[-1] - d_inh\\n\\n        if self.ref_count > 0:\\n            v = self.v_reset\\n            self.ref_count -= 1\\n\\n        elif self.voltages[-1] >= self.v_th:\\n            self.spikes = self.spikes + [len(self.voltages)]\\n            v = self.v_reset\\n            self.ref_count = self.t_ref / self.dt\\n\\n        else:\\n            # fmt: off\\n            \\n            \\n            # get membrane voltage change\\n            dv = (self.dt / self.tau_m) \\\\\\n                 * ((self.E_l - self.voltages[-1]) \\\\\\n                 - ((exc / self.R) * (self.voltages[-1] - self.E_e)) \\\\\\n                 - ((inh / self.R) * (self.voltages[-1] - self.E_i)) \\\\\\n                 + (ext_inp / self.R))\\n            # fmt: on\\n\\n            # update membrane voltage\\n            v = self.voltages[-1] + dv\\n\\n        # update synaptic conductance\\n        self.exc_inps += [exc]\\n        self.inh_inps += [inh]\\n\\n        self.voltages += [v]\";\n",
       "                var nbb_formatted_code = \"class LIF:\\n    def __init__(self, dt: float):\\n\\n        self.dt = dt\\n\\n        self.E_l = -65.0  # resting potential\\n        self.v_th = -55.0  # threshold\\n        self.v_reset = -65.0  # v_reset\\n        self.tau_m = 10.0  # membrane time constant -> given by TODO\\n        self.R = 40  # resistance\\n\\n        self.spikes = []\\n        self.voltages = [self.E_l]\\n\\n        self.tau_syn_e = 2.0\\n        self.tau_syn_i = 5.0\\n\\n        self.E_e = 0.0\\n        self.E_i = -80.0\\n\\n        self.gE_bar = 2.4\\n        self.gI_bar = 2.4\\n\\n        self.exc_inps = [0]\\n        self.inh_inps = [0]\\n\\n        self.t_ref = 5.0\\n        self.ref_count = 0.0\\n\\n    def step(\\n        self,\\n        exc_inp: Union[float, int],\\n        inh_inp: Union[float, int],\\n        ext_inp: Union[float, int],\\n    ):\\n        # get synaptic conductance change\\n        d_exc = (self.dt / self.tau_syn_e) * self.exc_inps[\\n            -1\\n        ] + self.gE_bar * exc_inp.sum()\\n\\n        d_inh = (self.dt / self.tau_syn_i) * self.inh_inps[\\n            -1\\n        ] + self.gI_bar * inh_inp.sum()\\n\\n        exc = self.exc_inps[-1] - d_exc\\n        inh = self.inh_inps[-1] - d_inh\\n\\n        if self.ref_count > 0:\\n            v = self.v_reset\\n            self.ref_count -= 1\\n\\n        elif self.voltages[-1] >= self.v_th:\\n            self.spikes = self.spikes + [len(self.voltages)]\\n            v = self.v_reset\\n            self.ref_count = self.t_ref / self.dt\\n\\n        else:\\n            # fmt: off\\n            \\n            \\n            # get membrane voltage change\\n            dv = (self.dt / self.tau_m) \\\\\\n                 * ((self.E_l - self.voltages[-1]) \\\\\\n                 - ((exc / self.R) * (self.voltages[-1] - self.E_e)) \\\\\\n                 - ((inh / self.R) * (self.voltages[-1] - self.E_i)) \\\\\\n                 + (ext_inp / self.R))\\n            # fmt: on\\n\\n            # update membrane voltage\\n            v = self.voltages[-1] + dv\\n\\n        # update synaptic conductance\\n        self.exc_inps += [exc]\\n        self.inh_inps += [inh]\\n\\n        self.voltages += [v]\";\n",
       "                var nbb_cells = Jupyter.notebook.get_cells();\n",
       "                for (var i = 0; i < nbb_cells.length; ++i) {\n",
       "                    if (nbb_cells[i].input_prompt_number == nbb_cell_id) {\n",
       "                        if (nbb_cells[i].get_text() == nbb_unformatted_code) {\n",
       "                             nbb_cells[i].set_text(nbb_formatted_code);\n",
       "                        }\n",
       "                        break;\n",
       "                    }\n",
       "                }\n",
       "            }, 500);\n",
       "            "
      ],
      "text/plain": [
       "<IPython.core.display.Javascript object>"
      ]
     },
     "metadata": {},
     "output_type": "display_data"
    }
   ],
   "source": [
    "class LIF:\n",
    "    def __init__(self, dt: float):\n",
    "\n",
    "        self.dt = dt\n",
    "\n",
    "        self.E_l = -65.0  # resting potential\n",
    "        self.v_th = -55.0  # threshold\n",
    "        self.v_reset = -65.0  # v_reset\n",
    "        self.tau_m = 10.0  # membrane time constant -> given by TODO\n",
    "        self.R = 40  # resistance\n",
    "\n",
    "        self.spikes = []\n",
    "        self.voltages = [self.E_l]\n",
    "\n",
    "        self.tau_syn_e = 2.0\n",
    "        self.tau_syn_i = 5.0\n",
    "\n",
    "        self.E_e = 0.0\n",
    "        self.E_i = -80.0\n",
    "\n",
    "        self.gE_bar = 2.4\n",
    "        self.gI_bar = 2.4\n",
    "\n",
    "        self.exc_inps = [0]\n",
    "        self.inh_inps = [0]\n",
    "\n",
    "        self.t_ref = 5.0\n",
    "        self.ref_count = 0.0\n",
    "\n",
    "    def step(\n",
    "        self,\n",
    "        exc_inp: Union[float, int],\n",
    "        inh_inp: Union[float, int],\n",
    "        ext_inp: Union[float, int],\n",
    "    ):\n",
    "        # get synaptic conductance change\n",
    "        d_exc = (self.dt / self.tau_syn_e) * self.exc_inps[\n",
    "            -1\n",
    "        ] + self.gE_bar * exc_inp.sum()\n",
    "\n",
    "        d_inh = (self.dt / self.tau_syn_i) * self.inh_inps[\n",
    "            -1\n",
    "        ] + self.gI_bar * inh_inp.sum()\n",
    "\n",
    "        exc = self.exc_inps[-1] - d_exc\n",
    "        inh = self.inh_inps[-1] - d_inh\n",
    "\n",
    "        if self.ref_count > 0:\n",
    "            v = self.v_reset\n",
    "            self.ref_count -= 1\n",
    "\n",
    "        elif self.voltages[-1] >= self.v_th:\n",
    "            self.spikes = self.spikes + [len(self.voltages)]\n",
    "            v = self.v_reset\n",
    "            self.ref_count = self.t_ref / self.dt\n",
    "\n",
    "        else:\n",
    "            # fmt: off\n",
    "            \n",
    "            \n",
    "            # get membrane voltage change\n",
    "            dv = (self.dt / self.tau_m) \\\n",
    "                 * ((self.E_l - self.voltages[-1]) \\\n",
    "                 - ((exc / self.R) * (self.voltages[-1] - self.E_e)) \\\n",
    "                 - ((inh / self.R) * (self.voltages[-1] - self.E_i)) \\\n",
    "                 + (ext_inp / self.R))\n",
    "            # fmt: on\n",
    "\n",
    "            # update membrane voltage\n",
    "            v = self.voltages[-1] + dv\n",
    "\n",
    "        # update synaptic conductance\n",
    "        self.exc_inps += [exc]\n",
    "        self.inh_inps += [inh]\n",
    "\n",
    "        self.voltages += [v]"
   ]
  },
  {
   "cell_type": "code",
   "execution_count": 139,
   "id": "8619099e",
   "metadata": {},
   "outputs": [
    {
     "data": {
      "application/javascript": [
       "\n",
       "            setTimeout(function() {\n",
       "                var nbb_cell_id = 139;\n",
       "                var nbb_unformatted_code = \"mu = 0.1\\ndt = 0.1\\nsize = 5000\\nnp.random.seed(seed=1)\\nips = poisson.rvs(0.2, size=size - 1)\\nips[ips > 0] = 1\\nips *= 10\";\n",
       "                var nbb_formatted_code = \"mu = 0.1\\ndt = 0.1\\nsize = 5000\\nnp.random.seed(seed=1)\\nips = poisson.rvs(0.2, size=size - 1)\\nips[ips > 0] = 1\\nips *= 10\";\n",
       "                var nbb_cells = Jupyter.notebook.get_cells();\n",
       "                for (var i = 0; i < nbb_cells.length; ++i) {\n",
       "                    if (nbb_cells[i].input_prompt_number == nbb_cell_id) {\n",
       "                        if (nbb_cells[i].get_text() == nbb_unformatted_code) {\n",
       "                             nbb_cells[i].set_text(nbb_formatted_code);\n",
       "                        }\n",
       "                        break;\n",
       "                    }\n",
       "                }\n",
       "            }, 500);\n",
       "            "
      ],
      "text/plain": [
       "<IPython.core.display.Javascript object>"
      ]
     },
     "metadata": {},
     "output_type": "display_data"
    }
   ],
   "source": [
    "mu = 0.1\n",
    "dt = 0.1\n",
    "size = 5000\n",
    "np.random.seed(seed=1)\n",
    "ips = poisson.rvs(0.2, size=size - 1)\n",
    "ips[ips > 0] = 1\n",
    "ips *= 10"
   ]
  },
  {
   "cell_type": "code",
   "execution_count": 202,
   "id": "a0d51384",
   "metadata": {},
   "outputs": [
    {
     "data": {
      "application/javascript": [
       "\n",
       "            setTimeout(function() {\n",
       "                var nbb_cell_id = 202;\n",
       "                var nbb_unformatted_code = \"exc_spike_train = get_poisson_spike_train(\\n    rate=10, no_spikes=80, no_spike_trains=size, dt=dt\\n)\\ninh_spike_train = get_poisson_spike_train(\\n    rate=10, no_spikes=20, no_spike_trains=size, dt=dt\\n)\";\n",
       "                var nbb_formatted_code = \"exc_spike_train = get_poisson_spike_train(\\n    rate=10, no_spikes=80, no_spike_trains=size, dt=dt\\n)\\ninh_spike_train = get_poisson_spike_train(\\n    rate=10, no_spikes=20, no_spike_trains=size, dt=dt\\n)\";\n",
       "                var nbb_cells = Jupyter.notebook.get_cells();\n",
       "                for (var i = 0; i < nbb_cells.length; ++i) {\n",
       "                    if (nbb_cells[i].input_prompt_number == nbb_cell_id) {\n",
       "                        if (nbb_cells[i].get_text() == nbb_unformatted_code) {\n",
       "                             nbb_cells[i].set_text(nbb_formatted_code);\n",
       "                        }\n",
       "                        break;\n",
       "                    }\n",
       "                }\n",
       "            }, 500);\n",
       "            "
      ],
      "text/plain": [
       "<IPython.core.display.Javascript object>"
      ]
     },
     "metadata": {},
     "output_type": "display_data"
    }
   ],
   "source": [
    "exc_spike_train = get_poisson_spike_train(\n",
    "    rate=10, no_spikes=80, no_spike_trains=size, dt=dt\n",
    ")\n",
    "inh_spike_train = get_poisson_spike_train(\n",
    "    rate=10, no_spikes=20, no_spike_trains=size, dt=dt\n",
    ")"
   ]
  },
  {
   "cell_type": "code",
   "execution_count": 203,
   "id": "d912a239",
   "metadata": {},
   "outputs": [
    {
     "data": {
      "application/javascript": [
       "\n",
       "            setTimeout(function() {\n",
       "                var nbb_cell_id = 203;\n",
       "                var nbb_unformatted_code = \"ips = np.zeros(size - 1)\\nips[500:1000] = 1000\";\n",
       "                var nbb_formatted_code = \"ips = np.zeros(size - 1)\\nips[500:1000] = 1000\";\n",
       "                var nbb_cells = Jupyter.notebook.get_cells();\n",
       "                for (var i = 0; i < nbb_cells.length; ++i) {\n",
       "                    if (nbb_cells[i].input_prompt_number == nbb_cell_id) {\n",
       "                        if (nbb_cells[i].get_text() == nbb_unformatted_code) {\n",
       "                             nbb_cells[i].set_text(nbb_formatted_code);\n",
       "                        }\n",
       "                        break;\n",
       "                    }\n",
       "                }\n",
       "            }, 500);\n",
       "            "
      ],
      "text/plain": [
       "<IPython.core.display.Javascript object>"
      ]
     },
     "metadata": {},
     "output_type": "display_data"
    }
   ],
   "source": [
    "ips = np.zeros(size - 1)\n",
    "ips[500:1000] = 1000"
   ]
  },
  {
   "cell_type": "code",
   "execution_count": 204,
   "id": "f0af3e6d",
   "metadata": {},
   "outputs": [
    {
     "name": "stdout",
     "output_type": "stream",
     "text": [
      "no of spikes: 4\n"
     ]
    },
    {
     "data": {
      "image/png": "[encoded data removed]",
      "text/plain": [
       "<Figure size 1152x576 with 1 Axes>"
      ]
     },
     "metadata": {
      "needs_background": "light"
     },
     "output_type": "display_data"
    },
    {
     "data": {
      "application/javascript": [
       "\n",
       "            setTimeout(function() {\n",
       "                var nbb_cell_id = 204;\n",
       "                var nbb_unformatted_code = \"lif = LIF(dt=dt)\\n\\nfor exc, inh, ext in zip(\\n    exc_spike_train.swapaxes(0, 1), inh_spike_train.swapaxes(0, 1), ips\\n):\\n    lif.step(exc, inh, ext)\\n\\nplot_volt_trace(lif.voltages, lif.v_th, dt=dt, sim_length=size)\\nprint(f\\\"no of spikes: {len(lif.spikes)}\\\")\";\n",
       "                var nbb_formatted_code = \"lif = LIF(dt=dt)\\n\\nfor exc, inh, ext in zip(\\n    exc_spike_train.swapaxes(0, 1), inh_spike_train.swapaxes(0, 1), ips\\n):\\n    lif.step(exc, inh, ext)\\n\\nplot_volt_trace(lif.voltages, lif.v_th, dt=dt, sim_length=size)\\nprint(f\\\"no of spikes: {len(lif.spikes)}\\\")\";\n",
       "                var nbb_cells = Jupyter.notebook.get_cells();\n",
       "                for (var i = 0; i < nbb_cells.length; ++i) {\n",
       "                    if (nbb_cells[i].input_prompt_number == nbb_cell_id) {\n",
       "                        if (nbb_cells[i].get_text() == nbb_unformatted_code) {\n",
       "                             nbb_cells[i].set_text(nbb_formatted_code);\n",
       "                        }\n",
       "                        break;\n",
       "                    }\n",
       "                }\n",
       "            }, 500);\n",
       "            "
      ],
      "text/plain": [
       "<IPython.core.display.Javascript object>"
      ]
     },
     "metadata": {},
     "output_type": "display_data"
    }
   ],
   "source": [
    "lif = LIF(dt=dt)\n",
    "\n",
    "for exc, inh, ext in zip(\n",
    "    exc_spike_train.swapaxes(0, 1), inh_spike_train.swapaxes(0, 1), ips\n",
    "):\n",
    "    lif.step(exc, inh, ext)\n",
    "\n",
    "plot_volt_trace(lif.voltages, lif.v_th, dt=dt, sim_length=size)\n",
    "print(f\"no of spikes: {len(lif.spikes)}\")"
   ]
  },
  {
   "cell_type": "code",
   "execution_count": 170,
   "id": "265f7527",
   "metadata": {},
   "outputs": [
    {
     "data": {
      "text/plain": [
       "array([[0.21762663, 0.32537107, 0.38094702, ..., 0.72267534, 0.50626702,\n",
       "        0.03088578],\n",
       "       [0.67501762, 0.67388924, 0.89417787, ..., 0.52370227, 0.48619703,\n",
       "        0.2328381 ]])"
      ]
     },
     "execution_count": 170,
     "metadata": {},
     "output_type": "execute_result"
    },
    {
     "data": {
      "application/javascript": [
       "\n",
       "            setTimeout(function() {\n",
       "                var nbb_cell_id = 170;\n",
       "                var nbb_unformatted_code = \"u_rand = np.random.rand(2, 100000)\\nu_rand\";\n",
       "                var nbb_formatted_code = \"u_rand = np.random.rand(2, 100000)\\nu_rand\";\n",
       "                var nbb_cells = Jupyter.notebook.get_cells();\n",
       "                for (var i = 0; i < nbb_cells.length; ++i) {\n",
       "                    if (nbb_cells[i].input_prompt_number == nbb_cell_id) {\n",
       "                        if (nbb_cells[i].get_text() == nbb_unformatted_code) {\n",
       "                             nbb_cells[i].set_text(nbb_formatted_code);\n",
       "                        }\n",
       "                        break;\n",
       "                    }\n",
       "                }\n",
       "            }, 500);\n",
       "            "
      ],
      "text/plain": [
       "<IPython.core.display.Javascript object>"
      ]
     },
     "metadata": {},
     "output_type": "display_data"
    }
   ],
   "source": [
    "u_rand = np.random.rand(2, 100000)\n",
    "u_rand"
   ]
  },
  {
   "cell_type": "code",
   "execution_count": 171,
   "id": "c1e70328",
   "metadata": {},
   "outputs": [
    {
     "data": {
      "text/plain": [
       "array([[False, False, False, ..., False, False, False],\n",
       "       [False, False, False, ..., False, False, False]])"
      ]
     },
     "execution_count": 171,
     "metadata": {},
     "output_type": "execute_result"
    },
    {
     "data": {
      "application/javascript": [
       "\n",
       "            setTimeout(function() {\n",
       "                var nbb_cell_id = 171;\n",
       "                var nbb_unformatted_code = \"(u_rand < 10 * (0.1 / 1000))\";\n",
       "                var nbb_formatted_code = \"(u_rand < 10 * (0.1 / 1000))\";\n",
       "                var nbb_cells = Jupyter.notebook.get_cells();\n",
       "                for (var i = 0; i < nbb_cells.length; ++i) {\n",
       "                    if (nbb_cells[i].input_prompt_number == nbb_cell_id) {\n",
       "                        if (nbb_cells[i].get_text() == nbb_unformatted_code) {\n",
       "                             nbb_cells[i].set_text(nbb_formatted_code);\n",
       "                        }\n",
       "                        break;\n",
       "                    }\n",
       "                }\n",
       "            }, 500);\n",
       "            "
      ],
      "text/plain": [
       "<IPython.core.display.Javascript object>"
      ]
     },
     "metadata": {},
     "output_type": "display_data"
    }
   ],
   "source": [
    "(u_rand < 10 * (0.1 / 1000))"
   ]
  },
  {
   "cell_type": "code",
   "execution_count": 164,
   "id": "d3603624",
   "metadata": {},
   "outputs": [
    {
     "data": {
      "text/plain": [
       "0.0001"
      ]
     },
     "execution_count": 164,
     "metadata": {},
     "output_type": "execute_result"
    },
    {
     "data": {
      "application/javascript": [
       "\n",
       "            setTimeout(function() {\n",
       "                var nbb_cell_id = 164;\n",
       "                var nbb_unformatted_code = \"0.1 / 1000\";\n",
       "                var nbb_formatted_code = \"0.1 / 1000\";\n",
       "                var nbb_cells = Jupyter.notebook.get_cells();\n",
       "                for (var i = 0; i < nbb_cells.length; ++i) {\n",
       "                    if (nbb_cells[i].input_prompt_number == nbb_cell_id) {\n",
       "                        if (nbb_cells[i].get_text() == nbb_unformatted_code) {\n",
       "                             nbb_cells[i].set_text(nbb_formatted_code);\n",
       "                        }\n",
       "                        break;\n",
       "                    }\n",
       "                }\n",
       "            }, 500);\n",
       "            "
      ],
      "text/plain": [
       "<IPython.core.display.Javascript object>"
      ]
     },
     "metadata": {},
     "output_type": "display_data"
    }
   ],
   "source": [
    "0.1 / 1000"
   ]
  },
  {
   "cell_type": "code",
   "execution_count": null,
   "id": "b5a4adff",
   "metadata": {},
   "outputs": [],
   "source": []
  }
 ],
 "metadata": {
  "kernelspec": {
   "display_name": "Python 3 (ipykernel)",
   "language": "python",
   "name": "python3"
  },
  "language_info": {
   "codemirror_mode": {
    "name": "ipython",
    "version": 3
   },
   "file_extension": ".py",
   "mimetype": "text/x-python",
   "name": "python",
   "nbconvert_exporter": "python",
   "pygments_lexer": "ipython3",
   "version": "3.9.5"
  }
 },
 "nbformat": 4,
 "nbformat_minor": 5
}
