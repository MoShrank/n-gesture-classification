{
 "cells": [
  {
   "cell_type": "code",
   "execution_count": 194,
   "id": "37e39d06",
   "metadata": {},
   "outputs": [
    {
     "data": {
      "application/javascript": [
       "\n",
       "            setTimeout(function() {\n",
       "                var nbb_cell_id = 194;\n",
       "                var nbb_unformatted_code = \"%load_ext autoreload\\n%autoreload 2\";\n",
       "                var nbb_formatted_code = \"%load_ext autoreload\\n%autoreload 2\";\n",
       "                var nbb_cells = Jupyter.notebook.get_cells();\n",
       "                for (var i = 0; i < nbb_cells.length; ++i) {\n",
       "                    if (nbb_cells[i].input_prompt_number == nbb_cell_id) {\n",
       "                        if (nbb_cells[i].get_text() == nbb_unformatted_code) {\n",
       "                             nbb_cells[i].set_text(nbb_formatted_code);\n",
       "                        }\n",
       "                        break;\n",
       "                    }\n",
       "                }\n",
       "            }, 500);\n",
       "            "
      ],
      "text/plain": [
       "<IPython.core.display.Javascript object>"
      ]
     },
     "metadata": {},
     "output_type": "display_data"
    }
   ],
   "source": [
    "%load_ext autoreload\n",
    "%autoreload 2"
   ]
  },
  {
   "cell_type": "code",
   "execution_count": 195,
   "id": "e6d3c582",
   "metadata": {},
   "outputs": [
    {
     "name": "stdout",
     "output_type": "stream",
     "text": [
      "The nb_black extension is already loaded. To reload it, use:\n",
      "  %reload_ext nb_black\n"
     ]
    },
    {
     "data": {
      "application/javascript": [
       "\n",
       "            setTimeout(function() {\n",
       "                var nbb_cell_id = 195;\n",
       "                var nbb_unformatted_code = \"%load_ext nb_black\";\n",
       "                var nbb_formatted_code = \"%load_ext nb_black\";\n",
       "                var nbb_cells = Jupyter.notebook.get_cells();\n",
       "                for (var i = 0; i < nbb_cells.length; ++i) {\n",
       "                    if (nbb_cells[i].input_prompt_number == nbb_cell_id) {\n",
       "                        if (nbb_cells[i].get_text() == nbb_unformatted_code) {\n",
       "                             nbb_cells[i].set_text(nbb_formatted_code);\n",
       "                        }\n",
       "                        break;\n",
       "                    }\n",
       "                }\n",
       "            }, 500);\n",
       "            "
      ],
      "text/plain": [
       "<IPython.core.display.Javascript object>"
      ]
     },
     "metadata": {},
     "output_type": "display_data"
    }
   ],
   "source": [
    "%load_ext nb_black"
   ]
  },
  {
   "cell_type": "code",
   "execution_count": 196,
   "id": "29e9df51",
   "metadata": {},
   "outputs": [
    {
     "data": {
      "application/javascript": [
       "\n",
       "            setTimeout(function() {\n",
       "                var nbb_cell_id = 196;\n",
       "                var nbb_unformatted_code = \"import sys\\n\\nsys.path.append(\\\"..\\\")\";\n",
       "                var nbb_formatted_code = \"import sys\\n\\nsys.path.append(\\\"..\\\")\";\n",
       "                var nbb_cells = Jupyter.notebook.get_cells();\n",
       "                for (var i = 0; i < nbb_cells.length; ++i) {\n",
       "                    if (nbb_cells[i].input_prompt_number == nbb_cell_id) {\n",
       "                        if (nbb_cells[i].get_text() == nbb_unformatted_code) {\n",
       "                             nbb_cells[i].set_text(nbb_formatted_code);\n",
       "                        }\n",
       "                        break;\n",
       "                    }\n",
       "                }\n",
       "            }, 500);\n",
       "            "
      ],
      "text/plain": [
       "<IPython.core.display.Javascript object>"
      ]
     },
     "metadata": {},
     "output_type": "display_data"
    }
   ],
   "source": [
    "import sys\n",
    "\n",
    "sys.path.append(\"..\")"
   ]
  },
  {
   "cell_type": "code",
   "execution_count": 224,
   "id": "8ef66c62",
   "metadata": {},
   "outputs": [
    {
     "data": {
      "application/javascript": [
       "\n",
       "            setTimeout(function() {\n",
       "                var nbb_cell_id = 224;\n",
       "                var nbb_unformatted_code = \"import numpy as np\\nimport matplotlib.pyplot as plt\\nfrom typing import Union\\nfrom scipy.stats import poisson\\nfrom util.plotting import plot_volt_trace_with_sra\";\n",
       "                var nbb_formatted_code = \"import numpy as np\\nimport matplotlib.pyplot as plt\\nfrom typing import Union\\nfrom scipy.stats import poisson\\nfrom util.plotting import plot_volt_trace_with_sra\";\n",
       "                var nbb_cells = Jupyter.notebook.get_cells();\n",
       "                for (var i = 0; i < nbb_cells.length; ++i) {\n",
       "                    if (nbb_cells[i].input_prompt_number == nbb_cell_id) {\n",
       "                        if (nbb_cells[i].get_text() == nbb_unformatted_code) {\n",
       "                             nbb_cells[i].set_text(nbb_formatted_code);\n",
       "                        }\n",
       "                        break;\n",
       "                    }\n",
       "                }\n",
       "            }, 500);\n",
       "            "
      ],
      "text/plain": [
       "<IPython.core.display.Javascript object>"
      ]
     },
     "metadata": {},
     "output_type": "display_data"
    }
   ],
   "source": [
    "import numpy as np\n",
    "import matplotlib.pyplot as plt\n",
    "from typing import Union\n",
    "from scipy.stats import poisson\n",
    "from util.plotting import plot_volt_trace_with_sra"
   ]
  },
  {
   "cell_type": "code",
   "execution_count": 20,
   "id": "4c102958",
   "metadata": {},
   "outputs": [
    {
     "data": {
      "application/javascript": [
       "\n",
       "            setTimeout(function() {\n",
       "                var nbb_cell_id = 20;\n",
       "                var nbb_unformatted_code = \"plt.rcParams[\\\"figure.figsize\\\"] = (16, 8)\";\n",
       "                var nbb_formatted_code = \"plt.rcParams[\\\"figure.figsize\\\"] = (16, 8)\";\n",
       "                var nbb_cells = Jupyter.notebook.get_cells();\n",
       "                for (var i = 0; i < nbb_cells.length; ++i) {\n",
       "                    if (nbb_cells[i].input_prompt_number == nbb_cell_id) {\n",
       "                        if (nbb_cells[i].get_text() == nbb_unformatted_code) {\n",
       "                             nbb_cells[i].set_text(nbb_formatted_code);\n",
       "                        }\n",
       "                        break;\n",
       "                    }\n",
       "                }\n",
       "            }, 500);\n",
       "            "
      ],
      "text/plain": [
       "<IPython.core.display.Javascript object>"
      ]
     },
     "metadata": {},
     "output_type": "display_data"
    }
   ],
   "source": [
    "plt.rcParams[\"figure.figsize\"] = (16, 8)"
   ]
  },
  {
   "cell_type": "code",
   "execution_count": 239,
   "id": "54ff1ba0",
   "metadata": {},
   "outputs": [
    {
     "data": {
      "application/javascript": [
       "\n",
       "            setTimeout(function() {\n",
       "                var nbb_cell_id = 239;\n",
       "                var nbb_unformatted_code = \"class LIF_SRA:\\n    def __init__(self, dt: float):\\n\\n        self.dt = dt\\n\\n        self.E_l = -65.0  # resting potential\\n        self.v_th = -50.0  # threshold\\n        self.v_reset = -65.0  # v_reset\\n        self.tau_m = 30.0  # membrane time constant -> given by TODO\\n        self.R = 90  # resistance\\n\\n        self.spikes = []\\n        self.voltages = [self.E_l]\\n\\n        self.E_k = -70\\n        self.g_delta = 0.1 / self.tau_m\\n        self.tau_g = 100.0\\n        self.sra = [0]\\n\\n    def step(self, input_current: Union[float, int]):\\n        if self.voltages[-1] >= self.v_th:\\n            self.spikes = self.spikes + [len(self.voltages)]\\n            v = self.v_reset\\n\\n            d_sra = self.sra[-1] + (self.g_delta / self.tau_m)\\n\\n        else:\\n            dv = (\\n                (self.dt / self.tau_m) * (self.E_l - self.voltages[-1])\\n                - (self.tau_m * self.sra[-1] * (self.voltages[-1] - self.E_k))\\n                + (input_current / self.R)\\n            )\\n\\n            d_sra = -self.sra[-1] * (self.dt / self.tau_g)\\n\\n            v = self.voltages[-1] + dv\\n\\n        self.sra += [self.sra[-1] + d_sra]\\n        self.voltages += [v]\";\n",
       "                var nbb_formatted_code = \"class LIF_SRA:\\n    def __init__(self, dt: float):\\n\\n        self.dt = dt\\n\\n        self.E_l = -65.0  # resting potential\\n        self.v_th = -50.0  # threshold\\n        self.v_reset = -65.0  # v_reset\\n        self.tau_m = 30.0  # membrane time constant -> given by TODO\\n        self.R = 90  # resistance\\n\\n        self.spikes = []\\n        self.voltages = [self.E_l]\\n\\n        self.E_k = -70\\n        self.g_delta = 0.1 / self.tau_m\\n        self.tau_g = 100.0\\n        self.sra = [0]\\n\\n    def step(self, input_current: Union[float, int]):\\n        if self.voltages[-1] >= self.v_th:\\n            self.spikes = self.spikes + [len(self.voltages)]\\n            v = self.v_reset\\n\\n            d_sra = self.sra[-1] + (self.g_delta / self.tau_m)\\n\\n        else:\\n            dv = (\\n                (self.dt / self.tau_m) * (self.E_l - self.voltages[-1])\\n                - (self.tau_m * self.sra[-1] * (self.voltages[-1] - self.E_k))\\n                + (input_current / self.R)\\n            )\\n\\n            d_sra = -self.sra[-1] * (self.dt / self.tau_g)\\n\\n            v = self.voltages[-1] + dv\\n\\n        self.sra += [self.sra[-1] + d_sra]\\n        self.voltages += [v]\";\n",
       "                var nbb_cells = Jupyter.notebook.get_cells();\n",
       "                for (var i = 0; i < nbb_cells.length; ++i) {\n",
       "                    if (nbb_cells[i].input_prompt_number == nbb_cell_id) {\n",
       "                        if (nbb_cells[i].get_text() == nbb_unformatted_code) {\n",
       "                             nbb_cells[i].set_text(nbb_formatted_code);\n",
       "                        }\n",
       "                        break;\n",
       "                    }\n",
       "                }\n",
       "            }, 500);\n",
       "            "
      ],
      "text/plain": [
       "<IPython.core.display.Javascript object>"
      ]
     },
     "metadata": {},
     "output_type": "display_data"
    }
   ],
   "source": [
    "class LIF_SRA:\n",
    "    def __init__(self, dt: float):\n",
    "\n",
    "        self.dt = dt\n",
    "\n",
    "        self.E_l = -65.0  # resting potential\n",
    "        self.v_th = -50.0  # threshold\n",
    "        self.v_reset = -65.0  # v_reset\n",
    "        self.tau_m = 30.0  # membrane time constant -> given by TODO\n",
    "        self.R = 90  # resistance\n",
    "\n",
    "        self.spikes = []\n",
    "        self.voltages = [self.E_l]\n",
    "\n",
    "        self.E_k = -70\n",
    "        self.g_delta = 0.1 / self.tau_m\n",
    "        self.tau_g = 100.0\n",
    "        self.sra = [0]\n",
    "\n",
    "    def step(self, input_current: Union[float, int]):\n",
    "        if self.voltages[-1] >= self.v_th:\n",
    "            self.spikes = self.spikes + [len(self.voltages)]\n",
    "            v = self.v_reset\n",
    "\n",
    "            d_sra = self.sra[-1] + (self.g_delta / self.tau_m)\n",
    "\n",
    "        else:\n",
    "            dv = (\n",
    "                (self.dt / self.tau_m) * (self.E_l - self.voltages[-1])\n",
    "                - (self.tau_m * self.sra[-1] * (self.voltages[-1] - self.E_k))\n",
    "                + (input_current / self.R)\n",
    "            )\n",
    "\n",
    "            d_sra = -self.sra[-1] * (self.dt / self.tau_g)\n",
    "\n",
    "            v = self.voltages[-1] + dv\n",
    "\n",
    "        self.sra += [self.sra[-1] + d_sra]\n",
    "        self.voltages += [v]"
   ]
  },
  {
   "cell_type": "code",
   "execution_count": 240,
   "id": "28412270",
   "metadata": {},
   "outputs": [
    {
     "data": {
      "application/javascript": [
       "\n",
       "            setTimeout(function() {\n",
       "                var nbb_cell_id = 240;\n",
       "                var nbb_unformatted_code = \"mu = 0.1\\ndt = 0.1\\nsize = 5000\\nnp.random.seed(seed=1)\\nips = poisson.rvs(0.2, size=size - 1)\\nips[ips > 0] = 1\\nips *= 3\";\n",
       "                var nbb_formatted_code = \"mu = 0.1\\ndt = 0.1\\nsize = 5000\\nnp.random.seed(seed=1)\\nips = poisson.rvs(0.2, size=size - 1)\\nips[ips > 0] = 1\\nips *= 3\";\n",
       "                var nbb_cells = Jupyter.notebook.get_cells();\n",
       "                for (var i = 0; i < nbb_cells.length; ++i) {\n",
       "                    if (nbb_cells[i].input_prompt_number == nbb_cell_id) {\n",
       "                        if (nbb_cells[i].get_text() == nbb_unformatted_code) {\n",
       "                             nbb_cells[i].set_text(nbb_formatted_code);\n",
       "                        }\n",
       "                        break;\n",
       "                    }\n",
       "                }\n",
       "            }, 500);\n",
       "            "
      ],
      "text/plain": [
       "<IPython.core.display.Javascript object>"
      ]
     },
     "metadata": {},
     "output_type": "display_data"
    }
   ],
   "source": [
    "mu = 0.1\n",
    "dt = 0.1\n",
    "size = 5000\n",
    "np.random.seed(seed=1)\n",
    "ips = poisson.rvs(0.2, size=size - 1)\n",
    "ips[ips > 0] = 1\n",
    "ips *= 3"
   ]
  },
  {
   "cell_type": "code",
   "execution_count": 241,
   "id": "c0255b6d",
   "metadata": {},
   "outputs": [
    {
     "data": {
      "application/javascript": [
       "\n",
       "            setTimeout(function() {\n",
       "                var nbb_cell_id = 241;\n",
       "                var nbb_unformatted_code = \"ips = np.zeros(size - 1)\\nips[500:5000] = 40\";\n",
       "                var nbb_formatted_code = \"ips = np.zeros(size - 1)\\nips[500:5000] = 40\";\n",
       "                var nbb_cells = Jupyter.notebook.get_cells();\n",
       "                for (var i = 0; i < nbb_cells.length; ++i) {\n",
       "                    if (nbb_cells[i].input_prompt_number == nbb_cell_id) {\n",
       "                        if (nbb_cells[i].get_text() == nbb_unformatted_code) {\n",
       "                             nbb_cells[i].set_text(nbb_formatted_code);\n",
       "                        }\n",
       "                        break;\n",
       "                    }\n",
       "                }\n",
       "            }, 500);\n",
       "            "
      ],
      "text/plain": [
       "<IPython.core.display.Javascript object>"
      ]
     },
     "metadata": {},
     "output_type": "display_data"
    }
   ],
   "source": [
    "ips = np.zeros(size - 1)\n",
    "ips[500:5000] = 40"
   ]
  },
  {
   "cell_type": "code",
   "execution_count": 242,
   "id": "fa053895",
   "metadata": {},
   "outputs": [
    {
     "data": {
      "text/plain": [
       "[537, 577, 622, 685, 1036, 1781, 2526, 3272, 4017, 4762]"
      ]
     },
     "execution_count": 242,
     "metadata": {},
     "output_type": "execute_result"
    },
    {
     "data": {
      "application/javascript": [
       "\n",
       "            setTimeout(function() {\n",
       "                var nbb_cell_id = 242;\n",
       "                var nbb_unformatted_code = \"lif.spikes\";\n",
       "                var nbb_formatted_code = \"lif.spikes\";\n",
       "                var nbb_cells = Jupyter.notebook.get_cells();\n",
       "                for (var i = 0; i < nbb_cells.length; ++i) {\n",
       "                    if (nbb_cells[i].input_prompt_number == nbb_cell_id) {\n",
       "                        if (nbb_cells[i].get_text() == nbb_unformatted_code) {\n",
       "                             nbb_cells[i].set_text(nbb_formatted_code);\n",
       "                        }\n",
       "                        break;\n",
       "                    }\n",
       "                }\n",
       "            }, 500);\n",
       "            "
      ],
      "text/plain": [
       "<IPython.core.display.Javascript object>"
      ]
     },
     "metadata": {},
     "output_type": "display_data"
    }
   ],
   "source": [
    "lif.spikes"
   ]
  },
  {
   "cell_type": "code",
   "execution_count": 243,
   "id": "a8369a0c",
   "metadata": {},
   "outputs": [
    {
     "name": "stdout",
     "output_type": "stream",
     "text": [
      "no of spikes: 9\n"
     ]
    },
    {
     "data": {
      "image/png": "[encoded data removed]",
      "text/plain": [
       "<Figure size 1152x576 with 2 Axes>"
      ]
     },
     "metadata": {
      "needs_background": "light"
     },
     "output_type": "display_data"
    },
    {
     "data": {
      "application/javascript": [
       "\n",
       "            setTimeout(function() {\n",
       "                var nbb_cell_id = 243;\n",
       "                var nbb_unformatted_code = \"lif = LIF_SRA(dt=dt)\\n\\nfor inp in ips:\\n    lif.step(inp)\\n\\nplot_volt_trace_with_sra(lif.voltages, lif.v_th, dt=dt, sim_length=size, sra=lif.sra)\\nprint(f\\\"no of spikes: {len(lif.spikes)}\\\")\";\n",
       "                var nbb_formatted_code = \"lif = LIF_SRA(dt=dt)\\n\\nfor inp in ips:\\n    lif.step(inp)\\n\\nplot_volt_trace_with_sra(lif.voltages, lif.v_th, dt=dt, sim_length=size, sra=lif.sra)\\nprint(f\\\"no of spikes: {len(lif.spikes)}\\\")\";\n",
       "                var nbb_cells = Jupyter.notebook.get_cells();\n",
       "                for (var i = 0; i < nbb_cells.length; ++i) {\n",
       "                    if (nbb_cells[i].input_prompt_number == nbb_cell_id) {\n",
       "                        if (nbb_cells[i].get_text() == nbb_unformatted_code) {\n",
       "                             nbb_cells[i].set_text(nbb_formatted_code);\n",
       "                        }\n",
       "                        break;\n",
       "                    }\n",
       "                }\n",
       "            }, 500);\n",
       "            "
      ],
      "text/plain": [
       "<IPython.core.display.Javascript object>"
      ]
     },
     "metadata": {},
     "output_type": "display_data"
    }
   ],
   "source": [
    "lif = LIF_SRA(dt=dt)\n",
    "\n",
    "for inp in ips:\n",
    "    lif.step(inp)\n",
    "\n",
    "plot_volt_trace_with_sra(lif.voltages, lif.v_th, dt=dt, sim_length=size, sra=lif.sra)\n",
    "print(f\"no of spikes: {len(lif.spikes)}\")"
   ]
  },
  {
   "cell_type": "code",
   "execution_count": null,
   "id": "127e54a2",
   "metadata": {},
   "outputs": [],
   "source": []
  }
 ],
 "metadata": {
  "kernelspec": {
   "display_name": "Python 3 (ipykernel)",
   "language": "python",
   "name": "python3"
  },
  "language_info": {
   "codemirror_mode": {
    "name": "ipython",
    "version": 3
   },
   "file_extension": ".py",
   "mimetype": "text/x-python",
   "name": "python",
   "nbconvert_exporter": "python",
   "pygments_lexer": "ipython3",
   "version": "3.9.5"
  }
 },
 "nbformat": 4,
 "nbformat_minor": 5
}
