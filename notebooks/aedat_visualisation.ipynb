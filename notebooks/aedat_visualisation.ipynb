{
 "cells": [
  {
   "cell_type": "code",
   "execution_count": 1,
   "id": "c9e8556d",
   "metadata": {},
   "outputs": [
    {
     "data": {
      "application/javascript": [
       "\n",
       "            setTimeout(function() {\n",
       "                var nbb_cell_id = 1;\n",
       "                var nbb_unformatted_code = \"%load_ext nb_black\";\n",
       "                var nbb_formatted_code = \"%load_ext nb_black\";\n",
       "                var nbb_cells = Jupyter.notebook.get_cells();\n",
       "                for (var i = 0; i < nbb_cells.length; ++i) {\n",
       "                    if (nbb_cells[i].input_prompt_number == nbb_cell_id) {\n",
       "                        if (nbb_cells[i].get_text() == nbb_unformatted_code) {\n",
       "                             nbb_cells[i].set_text(nbb_formatted_code);\n",
       "                        }\n",
       "                        break;\n",
       "                    }\n",
       "                }\n",
       "            }, 500);\n",
       "            "
      ],
      "text/plain": [
       "<IPython.core.display.Javascript object>"
      ]
     },
     "metadata": {},
     "output_type": "display_data"
    }
   ],
   "source": [
    "%load_ext nb_black"
   ]
  },
  {
   "cell_type": "code",
   "execution_count": 2,
   "id": "b6135064",
   "metadata": {},
   "outputs": [
    {
     "data": {
      "application/javascript": [
       "\n",
       "            setTimeout(function() {\n",
       "                var nbb_cell_id = 2;\n",
       "                var nbb_unformatted_code = \"import torch\\nimport os\\nimport subprocess\\nimport aedat\\nimport pandas as pd\\nimport matplotlib.pyplot as plt\\nimport matplotlib.cm as cm\\nimport matplotlib.animation as animation\\nfrom tqdm.notebook import tqdm\\nfrom IPython.display import Video\";\n",
       "                var nbb_formatted_code = \"import torch\\nimport os\\nimport subprocess\\nimport aedat\\nimport pandas as pd\\nimport matplotlib.pyplot as plt\\nimport matplotlib.cm as cm\\nimport matplotlib.animation as animation\\nfrom tqdm.notebook import tqdm\\nfrom IPython.display import Video\";\n",
       "                var nbb_cells = Jupyter.notebook.get_cells();\n",
       "                for (var i = 0; i < nbb_cells.length; ++i) {\n",
       "                    if (nbb_cells[i].input_prompt_number == nbb_cell_id) {\n",
       "                        if (nbb_cells[i].get_text() == nbb_unformatted_code) {\n",
       "                             nbb_cells[i].set_text(nbb_formatted_code);\n",
       "                        }\n",
       "                        break;\n",
       "                    }\n",
       "                }\n",
       "            }, 500);\n",
       "            "
      ],
      "text/plain": [
       "<IPython.core.display.Javascript object>"
      ]
     },
     "metadata": {},
     "output_type": "display_data"
    }
   ],
   "source": [
    "import torch\n",
    "import os\n",
    "import subprocess\n",
    "import aedat\n",
    "import pandas as pd\n",
    "import matplotlib.pyplot as plt\n",
    "import matplotlib.cm as cm\n",
    "import matplotlib.animation as animation\n",
    "from tqdm.notebook import tqdm\n",
    "from IPython.display import Video"
   ]
  },
  {
   "cell_type": "markdown",
   "id": "4aab2704",
   "metadata": {},
   "source": [
    "## Load mapping + single recording using AEDAT Library\n",
    "Recording is loaded into an array of datapoints in which each entry is a gesture consisting of a label and its corresponding events. [Dataset is taken from IBM](https://www.research.ibm.com/interactive/dvsgesture/)"
   ]
  },
  {
   "cell_type": "code",
   "execution_count": 3,
   "id": "81aa89e3",
   "metadata": {},
   "outputs": [
    {
     "data": {
      "text/html": [
       "<div>\n",
       "<style scoped>\n",
       "    .dataframe tbody tr th:only-of-type {\n",
       "        vertical-align: middle;\n",
       "    }\n",
       "\n",
       "    .dataframe tbody tr th {\n",
       "        vertical-align: top;\n",
       "    }\n",
       "\n",
       "    .dataframe thead th {\n",
       "        text-align: right;\n",
       "    }\n",
       "</style>\n",
       "<table border=\"1\" class=\"dataframe\">\n",
       "  <thead>\n",
       "    <tr style=\"text-align: right;\">\n",
       "      <th></th>\n",
       "      <th>action</th>\n",
       "      <th>label</th>\n",
       "    </tr>\n",
       "  </thead>\n",
       "  <tbody>\n",
       "    <tr>\n",
       "      <th>0</th>\n",
       "      <td>hand_clapping</td>\n",
       "      <td>1</td>\n",
       "    </tr>\n",
       "    <tr>\n",
       "      <th>1</th>\n",
       "      <td>right_hand_wave</td>\n",
       "      <td>2</td>\n",
       "    </tr>\n",
       "    <tr>\n",
       "      <th>2</th>\n",
       "      <td>left_hand_wave</td>\n",
       "      <td>3</td>\n",
       "    </tr>\n",
       "    <tr>\n",
       "      <th>3</th>\n",
       "      <td>right_hand_clockwise</td>\n",
       "      <td>4</td>\n",
       "    </tr>\n",
       "    <tr>\n",
       "      <th>4</th>\n",
       "      <td>right_hand_counter_clockwise</td>\n",
       "      <td>5</td>\n",
       "    </tr>\n",
       "    <tr>\n",
       "      <th>5</th>\n",
       "      <td>left_hand_clockwise</td>\n",
       "      <td>6</td>\n",
       "    </tr>\n",
       "    <tr>\n",
       "      <th>6</th>\n",
       "      <td>left_hand_counter_clockwise</td>\n",
       "      <td>7</td>\n",
       "    </tr>\n",
       "    <tr>\n",
       "      <th>7</th>\n",
       "      <td>forearm_roll_forward</td>\n",
       "      <td>8</td>\n",
       "    </tr>\n",
       "    <tr>\n",
       "      <th>8</th>\n",
       "      <td>forearm_roll_backward</td>\n",
       "      <td>8</td>\n",
       "    </tr>\n",
       "    <tr>\n",
       "      <th>9</th>\n",
       "      <td>drums</td>\n",
       "      <td>9</td>\n",
       "    </tr>\n",
       "    <tr>\n",
       "      <th>10</th>\n",
       "      <td>guitar</td>\n",
       "      <td>10</td>\n",
       "    </tr>\n",
       "    <tr>\n",
       "      <th>11</th>\n",
       "      <td>random_other_gestures</td>\n",
       "      <td>11</td>\n",
       "    </tr>\n",
       "  </tbody>\n",
       "</table>\n",
       "</div>"
      ],
      "text/plain": [
       "                           action  label\n",
       "0                   hand_clapping      1\n",
       "1                 right_hand_wave      2\n",
       "2                  left_hand_wave      3\n",
       "3           right_hand_clockwise       4\n",
       "4   right_hand_counter_clockwise       5\n",
       "5            left_hand_clockwise       6\n",
       "6    left_hand_counter_clockwise       7\n",
       "7            forearm_roll_forward      8\n",
       "8           forearm_roll_backward      8\n",
       "9                           drums      9\n",
       "10                         guitar     10\n",
       "11          random_other_gestures     11"
      ]
     },
     "execution_count": 3,
     "metadata": {},
     "output_type": "execute_result"
    },
    {
     "data": {
      "application/javascript": [
       "\n",
       "            setTimeout(function() {\n",
       "                var nbb_cell_id = 3;\n",
       "                var nbb_unformatted_code = \"mapping_df = pd.read_csv(\\\"../data/gesture_mapping.csv\\\")\\nmapping_df\";\n",
       "                var nbb_formatted_code = \"mapping_df = pd.read_csv(\\\"../data/gesture_mapping.csv\\\")\\nmapping_df\";\n",
       "                var nbb_cells = Jupyter.notebook.get_cells();\n",
       "                for (var i = 0; i < nbb_cells.length; ++i) {\n",
       "                    if (nbb_cells[i].input_prompt_number == nbb_cell_id) {\n",
       "                        if (nbb_cells[i].get_text() == nbb_unformatted_code) {\n",
       "                             nbb_cells[i].set_text(nbb_formatted_code);\n",
       "                        }\n",
       "                        break;\n",
       "                    }\n",
       "                }\n",
       "            }, 500);\n",
       "            "
      ],
      "text/plain": [
       "<IPython.core.display.Javascript object>"
      ]
     },
     "metadata": {},
     "output_type": "display_data"
    }
   ],
   "source": [
    "mapping_df = pd.read_csv(\"../data/gesture_mapping.csv\")\n",
    "mapping_df"
   ]
  },
  {
   "cell_type": "code",
   "execution_count": 4,
   "id": "41b53e65",
   "metadata": {},
   "outputs": [
    {
     "name": "stdout",
     "output_type": "stream",
     "text": [
      "First datapoint shows a hand_clapping containing 213025 events.\n"
     ]
    },
    {
     "data": {
      "application/javascript": [
       "\n",
       "            setTimeout(function() {\n",
       "                var nbb_cell_id = 4;\n",
       "                var nbb_unformatted_code = \"dvs = aedat.DVSGestureData(\\n    \\\"../data/DvsGesture/user01_fluorescent.aedat\\\",\\n    \\\"../data/DvsGesture/user01_fluorescent_labels.csv\\\",\\n)\\n\\nlabel = mapping_df[mapping_df.label == dvs.datapoints[0].label].action[0]\\n\\nprint(\\n    f\\\"First datapoint shows a {label} containing {len(dvs.datapoints[0].events)} events.\\\"\\n)\";\n",
       "                var nbb_formatted_code = \"dvs = aedat.DVSGestureData(\\n    \\\"../data/DvsGesture/user01_fluorescent.aedat\\\",\\n    \\\"../data/DvsGesture/user01_fluorescent_labels.csv\\\",\\n)\\n\\nlabel = mapping_df[mapping_df.label == dvs.datapoints[0].label].action[0]\\n\\nprint(\\n    f\\\"First datapoint shows a {label} containing {len(dvs.datapoints[0].events)} events.\\\"\\n)\";\n",
       "                var nbb_cells = Jupyter.notebook.get_cells();\n",
       "                for (var i = 0; i < nbb_cells.length; ++i) {\n",
       "                    if (nbb_cells[i].input_prompt_number == nbb_cell_id) {\n",
       "                        if (nbb_cells[i].get_text() == nbb_unformatted_code) {\n",
       "                             nbb_cells[i].set_text(nbb_formatted_code);\n",
       "                        }\n",
       "                        break;\n",
       "                    }\n",
       "                }\n",
       "            }, 500);\n",
       "            "
      ],
      "text/plain": [
       "<IPython.core.display.Javascript object>"
      ]
     },
     "metadata": {},
     "output_type": "display_data"
    }
   ],
   "source": [
    "dvs = aedat.DVSGestureData(\n",
    "    \"../data/DvsGesture/user01_fluorescent.aedat\",\n",
    "    \"../data/DvsGesture/user01_fluorescent_labels.csv\",\n",
    ")\n",
    "\n",
    "label = mapping_df[mapping_df.label == dvs.datapoints[0].label].action[0]\n",
    "\n",
    "print(\n",
    "    f\"First datapoint shows a {label} containing {len(dvs.datapoints[0].events)} events.\"\n",
    ")"
   ]
  },
  {
   "cell_type": "markdown",
   "id": "e7abeb49",
   "metadata": {},
   "source": [
    "## Load single gesture event data into dataframe\n",
    "An event is defined as the change in polarity of a single pixel. Meaning that a pixel can either be turned of on. The resolution of the camera is 128x128. The events are recorded asynchronously and therefore contain a timestamp that monotocally increases within the event array\n",
    "\n",
    "Each event contains information about:\n",
    "- valid: validity of event\n",
    "- x: position of pixels x coordinate\n",
    "- y: position of pixels y coordinate\n",
    "- polarity: polarity of event on/off -> 0/1\n",
    "- timestamp: timestamp in microseconds"
   ]
  },
  {
   "cell_type": "code",
   "execution_count": 5,
   "id": "fecba29c",
   "metadata": {},
   "outputs": [
    {
     "data": {
      "text/html": [
       "<div>\n",
       "<style scoped>\n",
       "    .dataframe tbody tr th:only-of-type {\n",
       "        vertical-align: middle;\n",
       "    }\n",
       "\n",
       "    .dataframe tbody tr th {\n",
       "        vertical-align: top;\n",
       "    }\n",
       "\n",
       "    .dataframe thead th {\n",
       "        text-align: right;\n",
       "    }\n",
       "</style>\n",
       "<table border=\"1\" class=\"dataframe\">\n",
       "  <thead>\n",
       "    <tr style=\"text-align: right;\">\n",
       "      <th></th>\n",
       "      <th>valid</th>\n",
       "      <th>x</th>\n",
       "      <th>y</th>\n",
       "      <th>polarity</th>\n",
       "      <th>timestamp</th>\n",
       "    </tr>\n",
       "  </thead>\n",
       "  <tbody>\n",
       "    <tr>\n",
       "      <th>0</th>\n",
       "      <td>1</td>\n",
       "      <td>82</td>\n",
       "      <td>49</td>\n",
       "      <td>1</td>\n",
       "      <td>28</td>\n",
       "    </tr>\n",
       "    <tr>\n",
       "      <th>1</th>\n",
       "      <td>1</td>\n",
       "      <td>92</td>\n",
       "      <td>55</td>\n",
       "      <td>0</td>\n",
       "      <td>38</td>\n",
       "    </tr>\n",
       "    <tr>\n",
       "      <th>2</th>\n",
       "      <td>1</td>\n",
       "      <td>92</td>\n",
       "      <td>55</td>\n",
       "      <td>0</td>\n",
       "      <td>39</td>\n",
       "    </tr>\n",
       "    <tr>\n",
       "      <th>3</th>\n",
       "      <td>1</td>\n",
       "      <td>92</td>\n",
       "      <td>55</td>\n",
       "      <td>0</td>\n",
       "      <td>39</td>\n",
       "    </tr>\n",
       "    <tr>\n",
       "      <th>4</th>\n",
       "      <td>1</td>\n",
       "      <td>99</td>\n",
       "      <td>90</td>\n",
       "      <td>1</td>\n",
       "      <td>65</td>\n",
       "    </tr>\n",
       "    <tr>\n",
       "      <th>5</th>\n",
       "      <td>1</td>\n",
       "      <td>92</td>\n",
       "      <td>77</td>\n",
       "      <td>0</td>\n",
       "      <td>218</td>\n",
       "    </tr>\n",
       "    <tr>\n",
       "      <th>6</th>\n",
       "      <td>1</td>\n",
       "      <td>96</td>\n",
       "      <td>56</td>\n",
       "      <td>1</td>\n",
       "      <td>228</td>\n",
       "    </tr>\n",
       "    <tr>\n",
       "      <th>7</th>\n",
       "      <td>1</td>\n",
       "      <td>92</td>\n",
       "      <td>56</td>\n",
       "      <td>1</td>\n",
       "      <td>234</td>\n",
       "    </tr>\n",
       "    <tr>\n",
       "      <th>8</th>\n",
       "      <td>1</td>\n",
       "      <td>92</td>\n",
       "      <td>55</td>\n",
       "      <td>1</td>\n",
       "      <td>278</td>\n",
       "    </tr>\n",
       "    <tr>\n",
       "      <th>9</th>\n",
       "      <td>1</td>\n",
       "      <td>93</td>\n",
       "      <td>78</td>\n",
       "      <td>0</td>\n",
       "      <td>286</td>\n",
       "    </tr>\n",
       "  </tbody>\n",
       "</table>\n",
       "</div>"
      ],
      "text/plain": [
       "   valid   x   y  polarity  timestamp\n",
       "0      1  82  49         1         28\n",
       "1      1  92  55         0         38\n",
       "2      1  92  55         0         39\n",
       "3      1  92  55         0         39\n",
       "4      1  99  90         1         65\n",
       "5      1  92  77         0        218\n",
       "6      1  96  56         1        228\n",
       "7      1  92  56         1        234\n",
       "8      1  92  55         1        278\n",
       "9      1  93  78         0        286"
      ]
     },
     "execution_count": 5,
     "metadata": {},
     "output_type": "execute_result"
    },
    {
     "data": {
      "application/javascript": [
       "\n",
       "            setTimeout(function() {\n",
       "                var nbb_cell_id = 5;\n",
       "                var nbb_unformatted_code = \"data = []\\nfor event in dvs.datapoints[0].events:\\n    data.append(\\n        [\\n            event.get_valid(),\\n            event.get_x(),\\n            event.get_y(),\\n            event.get_polarity(),\\n            event.get_timestamp(),\\n        ]\\n    )\\ndf = pd.DataFrame(data=data, columns=[\\\"valid\\\", \\\"x\\\", \\\"y\\\", \\\"polarity\\\", \\\"timestamp\\\"])\\ndf.head(10)\";\n",
       "                var nbb_formatted_code = \"data = []\\nfor event in dvs.datapoints[0].events:\\n    data.append(\\n        [\\n            event.get_valid(),\\n            event.get_x(),\\n            event.get_y(),\\n            event.get_polarity(),\\n            event.get_timestamp(),\\n        ]\\n    )\\ndf = pd.DataFrame(data=data, columns=[\\\"valid\\\", \\\"x\\\", \\\"y\\\", \\\"polarity\\\", \\\"timestamp\\\"])\\ndf.head(10)\";\n",
       "                var nbb_cells = Jupyter.notebook.get_cells();\n",
       "                for (var i = 0; i < nbb_cells.length; ++i) {\n",
       "                    if (nbb_cells[i].input_prompt_number == nbb_cell_id) {\n",
       "                        if (nbb_cells[i].get_text() == nbb_unformatted_code) {\n",
       "                             nbb_cells[i].set_text(nbb_formatted_code);\n",
       "                        }\n",
       "                        break;\n",
       "                    }\n",
       "                }\n",
       "            }, 500);\n",
       "            "
      ],
      "text/plain": [
       "<IPython.core.display.Javascript object>"
      ]
     },
     "metadata": {},
     "output_type": "display_data"
    }
   ],
   "source": [
    "data = []\n",
    "for event in dvs.datapoints[0].events:\n",
    "    data.append(\n",
    "        [\n",
    "            event.get_valid(),\n",
    "            event.get_x(),\n",
    "            event.get_y(),\n",
    "            event.get_polarity(),\n",
    "            event.get_timestamp(),\n",
    "        ]\n",
    "    )\n",
    "df = pd.DataFrame(data=data, columns=[\"valid\", \"x\", \"y\", \"polarity\", \"timestamp\"])\n",
    "df.head(10)"
   ]
  },
  {
   "cell_type": "code",
   "execution_count": 6,
   "id": "960ebcb1",
   "metadata": {},
   "outputs": [
    {
     "data": {
      "text/plain": [
       "213025"
      ]
     },
     "execution_count": 6,
     "metadata": {},
     "output_type": "execute_result"
    },
    {
     "data": {
      "application/javascript": [
       "\n",
       "            setTimeout(function() {\n",
       "                var nbb_cell_id = 6;\n",
       "                var nbb_unformatted_code = \"len(df)\";\n",
       "                var nbb_formatted_code = \"len(df)\";\n",
       "                var nbb_cells = Jupyter.notebook.get_cells();\n",
       "                for (var i = 0; i < nbb_cells.length; ++i) {\n",
       "                    if (nbb_cells[i].input_prompt_number == nbb_cell_id) {\n",
       "                        if (nbb_cells[i].get_text() == nbb_unformatted_code) {\n",
       "                             nbb_cells[i].set_text(nbb_formatted_code);\n",
       "                        }\n",
       "                        break;\n",
       "                    }\n",
       "                }\n",
       "            }, 500);\n",
       "            "
      ],
      "text/plain": [
       "<IPython.core.display.Javascript object>"
      ]
     },
     "metadata": {},
     "output_type": "display_data"
    }
   ],
   "source": [
    "len(df)"
   ]
  },
  {
   "cell_type": "markdown",
   "id": "62b4a9bb",
   "metadata": {},
   "source": [
    "## Aggregate Pixels to generate frames\n",
    "\n",
    "Since I am not sure how to generate frames out of the event data I tried to approaches for now:\n",
    "- aggregate pixels into equally sized intervals and for each interval create a (128x128) tensor that contains pixel values from aggregated pixels that are set to 1\n",
    "- aggregate pixels into quantiles using pandas qcut function on the timestamp and generate tensors like above"
   ]
  },
  {
   "cell_type": "code",
   "execution_count": null,
   "id": "f1ee3032",
   "metadata": {},
   "outputs": [],
   "source": [
    "def generate_video(images, path):\n",
    "    plt.ioff()\n",
    "    for idx, img in enumerate(tqdm(images)):\n",
    "        plt.imshow(img, cmap=cm.Greys_r)\n",
    "        plt.savefig(f\"{path}/img_{idx}.png\")\n",
    "        plt.close()\n",
    "\n",
    "    subprocess.call(\n",
    "        [\n",
    "            \"ffmpeg\",\n",
    "            \"-framerate\",\n",
    "            \"8\",\n",
    "            \"-i\",\n",
    "            \"img_%d.png\",\n",
    "            \"-r\",\n",
    "            \"30\",\n",
    "            \"-pix_fmt\",\n",
    "            \"yuv420p\",\n",
    "            \"video.mp4\",\n",
    "        ],\n",
    "        cwd=path,\n",
    "        stdout=subprocess.DEVNULL,\n",
    "        stderr=subprocess.STDOUT,\n",
    "    )"
   ]
  },
  {
   "cell_type": "markdown",
   "id": "97229667",
   "metadata": {},
   "source": [
    "### Equally sized windows"
   ]
  },
  {
   "cell_type": "code",
   "execution_count": null,
   "id": "b4f3b6ae",
   "metadata": {},
   "outputs": [],
   "source": [
    "def aggr_pixels_to_tensors(df, window_size=1000):\n",
    "    images = []\n",
    "\n",
    "    data_length = len(df)\n",
    "    no_frames = int(data_length / window_size)\n",
    "\n",
    "    for window in tqdm(range(no_frames)):\n",
    "        tensor = torch.zeros(128, 128)\n",
    "\n",
    "        start = window * 1000\n",
    "        end = window + (window * 1000)\n",
    "\n",
    "        for idx, row in df[start:end].iterrows():\n",
    "            x = row[\"x\"]\n",
    "            y = row[\"y\"]\n",
    "\n",
    "            tensor[x][y] = 1\n",
    "\n",
    "        images.append(tensor)\n",
    "\n",
    "    return images"
   ]
  },
  {
   "cell_type": "code",
   "execution_count": null,
   "id": "06d4733b",
   "metadata": {},
   "outputs": [],
   "source": [
    "images = aggr_pixels_to_tensors(df)\n",
    "len(images)"
   ]
  },
  {
   "cell_type": "code",
   "execution_count": null,
   "id": "634c3661",
   "metadata": {},
   "outputs": [],
   "source": [
    "video_path = \"../data/images_qcut/video.mp4\"\n",
    "if not os.path.isfile(video_path):\n",
    "    generate_video(images, \"../data/images_qcut\")\n",
    "\n",
    "Video(video_path, html_attributes=\"muted autoplay loop\")"
   ]
  },
  {
   "cell_type": "markdown",
   "id": "29036b95",
   "metadata": {},
   "source": [
    "### Quantiles by timestamp"
   ]
  },
  {
   "cell_type": "code",
   "execution_count": null,
   "id": "d266ffb6",
   "metadata": {},
   "outputs": [],
   "source": [
    "groups = df.groupby(pd.qcut(df.timestamp, 100))"
   ]
  },
  {
   "cell_type": "code",
   "execution_count": null,
   "id": "762008bf",
   "metadata": {},
   "outputs": [],
   "source": [
    "groups.size().describe()"
   ]
  },
  {
   "cell_type": "code",
   "execution_count": null,
   "id": "16c4291c",
   "metadata": {},
   "outputs": [],
   "source": [
    "qcut_images = []\n",
    "for name, group in tqdm(groups):\n",
    "    tensor = torch.zeros(128, 128)\n",
    "\n",
    "    for _, row in group.iterrows():\n",
    "        x = row[\"x\"]\n",
    "        y = row[\"y\"]\n",
    "\n",
    "        tensor[x][y] = 1\n",
    "    qcut_images.append(tensor)"
   ]
  },
  {
   "cell_type": "code",
   "execution_count": null,
   "id": "7a6b405b",
   "metadata": {},
   "outputs": [],
   "source": [
    "qcut_video_path = \"../data/images_qcut/video.mp4\"\n",
    "if not os.path.isfile(qcut_video_path):\n",
    "    generate_video(qcut_images, \"../data/images_qcut\")\n",
    "\n",
    "Video(qcut_video_path, html_attributes=\"muted autoplay loop\")"
   ]
  },
  {
   "cell_type": "code",
   "execution_count": null,
   "id": "4adc3926",
   "metadata": {},
   "outputs": [],
   "source": []
  }
 ],
 "metadata": {
  "kernelspec": {
   "display_name": "Python 3 (ipykernel)",
   "language": "python",
   "name": "python3"
  },
  "language_info": {
   "codemirror_mode": {
    "name": "ipython",
    "version": 3
   },
   "file_extension": ".py",
   "mimetype": "text/x-python",
   "name": "python",
   "nbconvert_exporter": "python",
   "pygments_lexer": "ipython3",
   "version": "3.8.6"
  }
 },
 "nbformat": 4,
 "nbformat_minor": 5
}
