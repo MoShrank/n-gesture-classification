{
 "cells": [
  {
   "cell_type": "code",
   "execution_count": 1,
   "id": "353ab751",
   "metadata": {},
   "outputs": [
    {
     "data": {
      "application/javascript": [
       "\n",
       "            setTimeout(function() {\n",
       "                var nbb_cell_id = 1;\n",
       "                var nbb_unformatted_code = \"%load_ext nb_black\";\n",
       "                var nbb_formatted_code = \"%load_ext nb_black\";\n",
       "                var nbb_cells = Jupyter.notebook.get_cells();\n",
       "                for (var i = 0; i < nbb_cells.length; ++i) {\n",
       "                    if (nbb_cells[i].input_prompt_number == nbb_cell_id) {\n",
       "                        if (nbb_cells[i].get_text() == nbb_unformatted_code) {\n",
       "                             nbb_cells[i].set_text(nbb_formatted_code);\n",
       "                        }\n",
       "                        break;\n",
       "                    }\n",
       "                }\n",
       "            }, 500);\n",
       "            "
      ],
      "text/plain": [
       "<IPython.core.display.Javascript object>"
      ]
     },
     "metadata": {},
     "output_type": "display_data"
    }
   ],
   "source": [
    "%load_ext nb_black"
   ]
  },
  {
   "cell_type": "code",
   "execution_count": 2,
   "id": "b381d90e",
   "metadata": {},
   "outputs": [
    {
     "data": {
      "application/javascript": [
       "\n",
       "            setTimeout(function() {\n",
       "                var nbb_cell_id = 2;\n",
       "                var nbb_unformatted_code = \"import sys\\n\\nsys.path.append(\\\"..\\\")\";\n",
       "                var nbb_formatted_code = \"import sys\\n\\nsys.path.append(\\\"..\\\")\";\n",
       "                var nbb_cells = Jupyter.notebook.get_cells();\n",
       "                for (var i = 0; i < nbb_cells.length; ++i) {\n",
       "                    if (nbb_cells[i].input_prompt_number == nbb_cell_id) {\n",
       "                        if (nbb_cells[i].get_text() == nbb_unformatted_code) {\n",
       "                             nbb_cells[i].set_text(nbb_formatted_code);\n",
       "                        }\n",
       "                        break;\n",
       "                    }\n",
       "                }\n",
       "            }, 500);\n",
       "            "
      ],
      "text/plain": [
       "<IPython.core.display.Javascript object>"
      ]
     },
     "metadata": {},
     "output_type": "display_data"
    }
   ],
   "source": [
    "import sys\n",
    "\n",
    "sys.path.append(\"..\")"
   ]
  },
  {
   "cell_type": "code",
   "execution_count": 3,
   "id": "61cb22b1",
   "metadata": {},
   "outputs": [
    {
     "data": {
      "application/javascript": [
       "\n",
       "            setTimeout(function() {\n",
       "                var nbb_cell_id = 3;\n",
       "                var nbb_unformatted_code = \"import os\\nimport pickle\\nimport torch\\nimport norse\\nimport aedat\\nimport pandas as pd\\nimport numpy as np\\nimport matplotlib.pyplot as plt\\nfrom norse.torch.module.conv import LConv2d\\nfrom tqdm.notebook import tqdm, trange\\nimport tonic\\nimport tonic.transforms as transforms\\nfrom norse.torch.module.lif import LIF, LIFCell, LIFRecurrentCell\\nfrom typing import NamedTuple\\nfrom norse.torch import LIFParameters, LIFState\\nfrom norse.torch import LICell\";\n",
       "                var nbb_formatted_code = \"import os\\nimport pickle\\nimport torch\\nimport norse\\nimport aedat\\nimport pandas as pd\\nimport numpy as np\\nimport matplotlib.pyplot as plt\\nfrom norse.torch.module.conv import LConv2d\\nfrom tqdm.notebook import tqdm, trange\\nimport tonic\\nimport tonic.transforms as transforms\\nfrom norse.torch.module.lif import LIF, LIFCell, LIFRecurrentCell\\nfrom typing import NamedTuple\\nfrom norse.torch import LIFParameters, LIFState\\nfrom norse.torch import LICell\";\n",
       "                var nbb_cells = Jupyter.notebook.get_cells();\n",
       "                for (var i = 0; i < nbb_cells.length; ++i) {\n",
       "                    if (nbb_cells[i].input_prompt_number == nbb_cell_id) {\n",
       "                        if (nbb_cells[i].get_text() == nbb_unformatted_code) {\n",
       "                             nbb_cells[i].set_text(nbb_formatted_code);\n",
       "                        }\n",
       "                        break;\n",
       "                    }\n",
       "                }\n",
       "            }, 500);\n",
       "            "
      ],
      "text/plain": [
       "<IPython.core.display.Javascript object>"
      ]
     },
     "metadata": {},
     "output_type": "display_data"
    }
   ],
   "source": [
    "import os\n",
    "import pickle\n",
    "import torch\n",
    "import norse\n",
    "import aedat\n",
    "import pandas as pd\n",
    "import numpy as np\n",
    "import matplotlib.pyplot as plt\n",
    "from norse.torch.module.conv import LConv2d\n",
    "from tqdm.notebook import tqdm, trange\n",
    "import tonic\n",
    "import tonic.transforms as transforms\n",
    "from norse.torch.module.lif import LIF, LIFCell, LIFRecurrentCell\n",
    "from typing import NamedTuple\n",
    "from norse.torch import LIFParameters, LIFState\n",
    "from norse.torch import LICell"
   ]
  },
  {
   "cell_type": "code",
   "execution_count": 4,
   "id": "bee34acc",
   "metadata": {},
   "outputs": [
    {
     "data": {
      "application/javascript": [
       "\n",
       "            setTimeout(function() {\n",
       "                var nbb_cell_id = 4;\n",
       "                var nbb_unformatted_code = \"from util.preprocess_data import get_dvs_data_generator\";\n",
       "                var nbb_formatted_code = \"from util.preprocess_data import get_dvs_data_generator\";\n",
       "                var nbb_cells = Jupyter.notebook.get_cells();\n",
       "                for (var i = 0; i < nbb_cells.length; ++i) {\n",
       "                    if (nbb_cells[i].input_prompt_number == nbb_cell_id) {\n",
       "                        if (nbb_cells[i].get_text() == nbb_unformatted_code) {\n",
       "                             nbb_cells[i].set_text(nbb_formatted_code);\n",
       "                        }\n",
       "                        break;\n",
       "                    }\n",
       "                }\n",
       "            }, 500);\n",
       "            "
      ],
      "text/plain": [
       "<IPython.core.display.Javascript object>"
      ]
     },
     "metadata": {},
     "output_type": "display_data"
    }
   ],
   "source": [
    "from util.preprocess_data import get_dvs_data_generator"
   ]
  },
  {
   "cell_type": "code",
   "execution_count": 5,
   "id": "222821fb",
   "metadata": {},
   "outputs": [
    {
     "data": {
      "application/javascript": [
       "\n",
       "            setTimeout(function() {\n",
       "                var nbb_cell_id = 5;\n",
       "                var nbb_unformatted_code = \"trainloader, testloader = get_dvs_data_generator(\\n    batch_size=8, time_factor=0.01, spatial_factor=0.25\\n)\";\n",
       "                var nbb_formatted_code = \"trainloader, testloader = get_dvs_data_generator(\\n    batch_size=8, time_factor=0.01, spatial_factor=0.25\\n)\";\n",
       "                var nbb_cells = Jupyter.notebook.get_cells();\n",
       "                for (var i = 0; i < nbb_cells.length; ++i) {\n",
       "                    if (nbb_cells[i].input_prompt_number == nbb_cell_id) {\n",
       "                        if (nbb_cells[i].get_text() == nbb_unformatted_code) {\n",
       "                             nbb_cells[i].set_text(nbb_formatted_code);\n",
       "                        }\n",
       "                        break;\n",
       "                    }\n",
       "                }\n",
       "            }, 500);\n",
       "            "
      ],
      "text/plain": [
       "<IPython.core.display.Javascript object>"
      ]
     },
     "metadata": {},
     "output_type": "display_data"
    }
   ],
   "source": [
    "trainloader, testloader = get_dvs_data_generator(\n",
    "    batch_size=8, time_factor=0.01, spatial_factor=0.25\n",
    ")"
   ]
  },
  {
   "cell_type": "code",
   "execution_count": 6,
   "id": "83e62fa2",
   "metadata": {},
   "outputs": [
    {
     "data": {
      "application/javascript": [
       "\n",
       "            setTimeout(function() {\n",
       "                var nbb_cell_id = 6;\n",
       "                var nbb_unformatted_code = \"class SimpleSNN(torch.nn.Module):\\n    def __init__(self, input_features: int, output_features: int, dt):\\n        \\\"\\\"\\\"\\n        input_features (int): height x width\\n        \\\"\\\"\\\"\\n        super(SimpleSNN, self).__init__()\\n\\n        self.l1 = LIFCell(dt=dt)\\n        self.linear = torch.nn.Linear(input_features, output_features, bias=False)\\n        self.out = LICell(dt=dt)\\n\\n        self.input_features = input_features\\n\\n    def forward(self, x):\\n        seq_length, batch_size, _, _, _ = x.shape\\n\\n        l1_state = None\\n        out = None\\n\\n        l1_voltages = []\\n        out_voltages = []\\n\\n        for seq in range(seq_length):\\n            inp = x.to_dense()[seq, :, :, :].view(-1, self.input_features)\\n\\n            voltage, l1_state = self.l1(inp, l1_state)\\n            l1_voltages.append(voltage)\\n\\n            linear_out = self.linear(voltage)\\n\\n            voltage, out = self.out(linear_out, out)\\n\\n            out_voltages.append(voltage)\\n\\n        return torch.stack(out_voltages)\";\n",
       "                var nbb_formatted_code = \"class SimpleSNN(torch.nn.Module):\\n    def __init__(self, input_features: int, output_features: int, dt):\\n        \\\"\\\"\\\"\\n        input_features (int): height x width\\n        \\\"\\\"\\\"\\n        super(SimpleSNN, self).__init__()\\n\\n        self.l1 = LIFCell(dt=dt)\\n        self.linear = torch.nn.Linear(input_features, output_features, bias=False)\\n        self.out = LICell(dt=dt)\\n\\n        self.input_features = input_features\\n\\n    def forward(self, x):\\n        seq_length, batch_size, _, _, _ = x.shape\\n\\n        l1_state = None\\n        out = None\\n\\n        l1_voltages = []\\n        out_voltages = []\\n\\n        for seq in range(seq_length):\\n            inp = x.to_dense()[seq, :, :, :].view(-1, self.input_features)\\n\\n            voltage, l1_state = self.l1(inp, l1_state)\\n            l1_voltages.append(voltage)\\n\\n            linear_out = self.linear(voltage)\\n\\n            voltage, out = self.out(linear_out, out)\\n\\n            out_voltages.append(voltage)\\n\\n        return torch.stack(out_voltages)\";\n",
       "                var nbb_cells = Jupyter.notebook.get_cells();\n",
       "                for (var i = 0; i < nbb_cells.length; ++i) {\n",
       "                    if (nbb_cells[i].input_prompt_number == nbb_cell_id) {\n",
       "                        if (nbb_cells[i].get_text() == nbb_unformatted_code) {\n",
       "                             nbb_cells[i].set_text(nbb_formatted_code);\n",
       "                        }\n",
       "                        break;\n",
       "                    }\n",
       "                }\n",
       "            }, 500);\n",
       "            "
      ],
      "text/plain": [
       "<IPython.core.display.Javascript object>"
      ]
     },
     "metadata": {},
     "output_type": "display_data"
    }
   ],
   "source": [
    "class SimpleSNN(torch.nn.Module):\n",
    "    def __init__(self, input_features: int, output_features: int, dt):\n",
    "        \"\"\"\n",
    "        input_features (int): height x width\n",
    "        \"\"\"\n",
    "        super(SimpleSNN, self).__init__()\n",
    "\n",
    "        self.l1 = LIFCell(dt=dt)\n",
    "        self.linear = torch.nn.Linear(input_features, output_features, bias=False)\n",
    "        self.out = LICell(dt=dt)\n",
    "\n",
    "        self.input_features = input_features\n",
    "\n",
    "    def forward(self, x):\n",
    "        seq_length, batch_size, _, _, _ = x.shape\n",
    "\n",
    "        l1_state = None\n",
    "        out = None\n",
    "\n",
    "        l1_voltages = []\n",
    "        out_voltages = []\n",
    "\n",
    "        for seq in range(seq_length):\n",
    "            inp = x.to_dense()[seq, :, :, :].view(-1, self.input_features)\n",
    "\n",
    "            voltage, l1_state = self.l1(inp, l1_state)\n",
    "            l1_voltages.append(voltage)\n",
    "\n",
    "            linear_out = self.linear(voltage)\n",
    "\n",
    "            voltage, out = self.out(linear_out, out)\n",
    "\n",
    "            out_voltages.append(voltage)\n",
    "\n",
    "        return torch.stack(out_voltages)"
   ]
  },
  {
   "cell_type": "code",
   "execution_count": 7,
   "id": "2e4957f2",
   "metadata": {},
   "outputs": [
    {
     "data": {
      "application/javascript": [
       "\n",
       "            setTimeout(function() {\n",
       "                var nbb_cell_id = 7;\n",
       "                var nbb_unformatted_code = \"def decode(x):\\n    x, _ = torch.max(x, 1)\\n    log_p_y = torch.nn.functional.log_softmax(x, dim=1)\\n    return log_p_y\\n\\n\\nclass Model(torch.nn.Module):\\n    def __init__(self, snn: SimpleSNN):\\n        super(Model, self).__init__()\\n        self.snn = snn\\n        self.decoder = decode\\n\\n    def forward(self, x):\\n        x = self.snn(x)\\n        log_p_y = self.decoder(x)\\n        return log_p_y\";\n",
       "                var nbb_formatted_code = \"def decode(x):\\n    x, _ = torch.max(x, 1)\\n    log_p_y = torch.nn.functional.log_softmax(x, dim=1)\\n    return log_p_y\\n\\n\\nclass Model(torch.nn.Module):\\n    def __init__(self, snn: SimpleSNN):\\n        super(Model, self).__init__()\\n        self.snn = snn\\n        self.decoder = decode\\n\\n    def forward(self, x):\\n        x = self.snn(x)\\n        log_p_y = self.decoder(x)\\n        return log_p_y\";\n",
       "                var nbb_cells = Jupyter.notebook.get_cells();\n",
       "                for (var i = 0; i < nbb_cells.length; ++i) {\n",
       "                    if (nbb_cells[i].input_prompt_number == nbb_cell_id) {\n",
       "                        if (nbb_cells[i].get_text() == nbb_unformatted_code) {\n",
       "                             nbb_cells[i].set_text(nbb_formatted_code);\n",
       "                        }\n",
       "                        break;\n",
       "                    }\n",
       "                }\n",
       "            }, 500);\n",
       "            "
      ],
      "text/plain": [
       "<IPython.core.display.Javascript object>"
      ]
     },
     "metadata": {},
     "output_type": "display_data"
    }
   ],
   "source": [
    "def decode(x):\n",
    "    x, _ = torch.max(x, 1)\n",
    "    log_p_y = torch.nn.functional.log_softmax(x, dim=1)\n",
    "    return log_p_y\n",
    "\n",
    "\n",
    "class Model(torch.nn.Module):\n",
    "    def __init__(self, snn: SimpleSNN):\n",
    "        super(Model, self).__init__()\n",
    "        self.snn = snn\n",
    "        self.decoder = decode\n",
    "\n",
    "    def forward(self, x):\n",
    "        x = self.snn(x)\n",
    "        log_p_y = self.decoder(x)\n",
    "        return log_p_y"
   ]
  },
  {
   "cell_type": "code",
   "execution_count": 8,
   "id": "e6ba60ba",
   "metadata": {},
   "outputs": [
    {
     "data": {
      "application/javascript": [
       "\n",
       "            setTimeout(function() {\n",
       "                var nbb_cell_id = 8;\n",
       "                var nbb_unformatted_code = \"LR = 0.002\\n\\nsnn = SimpleSNN(32 * 32, 11, 0.01)\\nmodel = Model(snn)\\n\\noptimizer = torch.optim.Adam(model.parameters(), lr=LR)\";\n",
       "                var nbb_formatted_code = \"LR = 0.002\\n\\nsnn = SimpleSNN(32 * 32, 11, 0.01)\\nmodel = Model(snn)\\n\\noptimizer = torch.optim.Adam(model.parameters(), lr=LR)\";\n",
       "                var nbb_cells = Jupyter.notebook.get_cells();\n",
       "                for (var i = 0; i < nbb_cells.length; ++i) {\n",
       "                    if (nbb_cells[i].input_prompt_number == nbb_cell_id) {\n",
       "                        if (nbb_cells[i].get_text() == nbb_unformatted_code) {\n",
       "                             nbb_cells[i].set_text(nbb_formatted_code);\n",
       "                        }\n",
       "                        break;\n",
       "                    }\n",
       "                }\n",
       "            }, 500);\n",
       "            "
      ],
      "text/plain": [
       "<IPython.core.display.Javascript object>"
      ]
     },
     "metadata": {},
     "output_type": "display_data"
    }
   ],
   "source": [
    "LR = 0.002\n",
    "\n",
    "snn = SimpleSNN(32 * 32, 11, 0.01)\n",
    "model = Model(snn)\n",
    "\n",
    "optimizer = torch.optim.Adam(model.parameters(), lr=LR)"
   ]
  },
  {
   "cell_type": "code",
   "execution_count": null,
   "id": "138ab80b",
   "metadata": {},
   "outputs": [
    {
     "data": {
      "application/vnd.jupyter.widget-view+json": {
       "model_id": "983127a1e7a54f5c90d93e414c4168d6",
       "version_major": 2,
       "version_minor": 0
      },
      "text/plain": [
       "  0%|          | 0/5 [00:00<?, ?it/s]"
      ]
     },
     "metadata": {},
     "output_type": "display_data"
    },
    {
     "data": {
      "application/vnd.jupyter.widget-view+json": {
       "model_id": "65bb7154fd1f4780b1ea1c2f355149b5",
       "version_major": 2,
       "version_minor": 0
      },
      "text/plain": [
       "  0%|          | 0/135 [00:00<?, ?it/s]"
      ]
     },
     "metadata": {},
     "output_type": "display_data"
    }
   ],
   "source": [
    "EPOCHS = 5  # Increase this number for better performance\n",
    "\n",
    "\n",
    "def train(model, train_loader, optimizer, epoch, max_epochs):\n",
    "    model.train()\n",
    "    losses = []\n",
    "    for (data, target) in tqdm(train_loader):\n",
    "        optimizer.zero_grad()\n",
    "        output = model(data)\n",
    "        loss = torch.nn.functional.nll_loss(output, target)\n",
    "        loss.backward()\n",
    "        optimizer.step()\n",
    "        losses.append(loss.item())\n",
    "\n",
    "    mean_loss = np.mean(losses)\n",
    "    return losses, mean_loss\n",
    "\n",
    "\n",
    "training_losses = []\n",
    "mean_losses = []\n",
    "\n",
    "for epoch in trange(EPOCHS):\n",
    "    training_loss, mean_loss = train(\n",
    "        model, trainloader, optimizer, epoch, max_epochs=EPOCHS\n",
    "    )\n",
    "\n",
    "    training_losses += training_loss\n",
    "    mean_losses.append(mean_loss)\n",
    "\n",
    "    path = f\"../data/model_li/snn_epoch_{epoch}.pth\"\n",
    "    torch.save(model.state_dict(), path)"
   ]
  },
  {
   "cell_type": "code",
   "execution_count": null,
   "id": "745aed75",
   "metadata": {},
   "outputs": [],
   "source": [
    "def test(model, test_loader):\n",
    "    model.eval()\n",
    "    test_loss = 0\n",
    "    correct = 0\n",
    "\n",
    "    with torch.no_grad():\n",
    "        for data, target in tqdm(testloader):\n",
    "            output = model(data)\n",
    "            test_loss += torch.nn.functional.nll_loss(\n",
    "                output, target, reduction=\"sum\"\n",
    "            ).item()\n",
    "            pred = output.argmax(dim=1, keepdim=True)\n",
    "            correct += pred.eq(target.view_as(pred)).sum().item()\n",
    "\n",
    "    test_loss /= len(test_loader.dataset)\n",
    "\n",
    "    accuracy = 100.0 * correct / len(test_loader.dataset)\n",
    "\n",
    "    return test_loss, accuracy"
   ]
  },
  {
   "cell_type": "code",
   "execution_count": null,
   "id": "f4ab85c8",
   "metadata": {},
   "outputs": [],
   "source": [
    "loss, acc = test(model, testloader)"
   ]
  },
  {
   "cell_type": "code",
   "execution_count": null,
   "id": "52437054",
   "metadata": {},
   "outputs": [],
   "source": [
    "loss"
   ]
  },
  {
   "cell_type": "code",
   "execution_count": null,
   "id": "96ace5a0",
   "metadata": {},
   "outputs": [],
   "source": [
    "acc"
   ]
  },
  {
   "cell_type": "code",
   "execution_count": null,
   "id": "57138d5f",
   "metadata": {},
   "outputs": [],
   "source": [
    "data = None\n",
    "target = None\n",
    "for x, y in testloader:\n",
    "    data = x\n",
    "    target = y\n",
    "    break"
   ]
  },
  {
   "cell_type": "code",
   "execution_count": null,
   "id": "5c3ef143",
   "metadata": {},
   "outputs": [],
   "source": [
    "example_input = data\n",
    "example_input.shape"
   ]
  },
  {
   "cell_type": "code",
   "execution_count": null,
   "id": "597e5911",
   "metadata": {},
   "outputs": [],
   "source": [
    "trained_snn = model.snn\n",
    "trained_readout_voltages = trained_snn(example_input)\n",
    "trained_readout_voltages.shape"
   ]
  },
  {
   "cell_type": "code",
   "execution_count": null,
   "id": "98308123",
   "metadata": {},
   "outputs": [],
   "source": [
    "voltages = trained_readout_voltages.squeeze(1).detach().numpy()\n",
    "voltages.shape"
   ]
  },
  {
   "cell_type": "code",
   "execution_count": null,
   "id": "a4d3a965",
   "metadata": {},
   "outputs": [],
   "source": [
    "for n in range(voltages.shape[1]):\n",
    "    plt.plot(voltages[0][n])\n",
    "\n",
    "\n",
    "plt.ylabel(\"Voltage [a.u.]\")\n",
    "plt.xlabel(\"Time [ms]\")\n",
    "plt.show()"
   ]
  },
  {
   "cell_type": "code",
   "execution_count": null,
   "id": "befea09c",
   "metadata": {},
   "outputs": [],
   "source": []
  }
 ],
 "metadata": {
  "kernelspec": {
   "display_name": "Python 3 (ipykernel)",
   "language": "python",
   "name": "python3"
  },
  "language_info": {
   "codemirror_mode": {
    "name": "ipython",
    "version": 3
   },
   "file_extension": ".py",
   "mimetype": "text/x-python",
   "name": "python",
   "nbconvert_exporter": "python",
   "pygments_lexer": "ipython3",
   "version": "3.8.6"
  }
 },
 "nbformat": 4,
 "nbformat_minor": 5
}
