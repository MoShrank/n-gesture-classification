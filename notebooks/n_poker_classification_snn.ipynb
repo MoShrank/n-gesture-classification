{
 "cells": [
  {
   "cell_type": "code",
   "execution_count": 1,
   "id": "db62b031",
   "metadata": {},
   "outputs": [],
   "source": [
    "import sys\n",
    "sys.path.append('..')"
   ]
  },
  {
   "cell_type": "code",
   "execution_count": 2,
   "id": "16cd5dca",
   "metadata": {},
   "outputs": [],
   "source": [
    "import numpy as np\n",
    "import torch\n",
    "from tqdm.notebook import tqdm, trange\n",
    "from norse.torch.module.lif import LIFRecurrentCell\n",
    "from norse.torch import LICell"
   ]
  },
  {
   "cell_type": "code",
   "execution_count": 3,
   "id": "a2c4c328",
   "metadata": {},
   "outputs": [
    {
     "name": "stdout",
     "output_type": "stream",
     "text": [
      "Using downloaded and verified file: ../data/pips_train.tar.gz\n",
      "Extracting ../data/pips_train.tar.gz to ../data\n",
      "Using downloaded and verified file: ../data/pips_test.tar.gz\n",
      "Extracting ../data/pips_test.tar.gz to ../data\n"
     ]
    }
   ],
   "source": [
    "import tonic\n",
    "import torchvision\n",
    "\n",
    "transform = tonic.transforms.Compose(\n",
    "    [\n",
    "        tonic.transforms.ToSparseTensor(merge_polarities=True),\n",
    "    ]\n",
    ")\n",
    "\n",
    "download = True\n",
    "trainset = tonic.datasets.POKERDVS(save_to='../data', download=download, train=True)\n",
    "testset = tonic.datasets.POKERDVS(save_to='../data', download=download, transform=transform, train=False)"
   ]
  },
  {
   "cell_type": "code",
   "execution_count": 20,
   "id": "9ebb4f6f",
   "metadata": {},
   "outputs": [
    {
     "data": {
      "text/plain": [
       "48"
      ]
     },
     "execution_count": 20,
     "metadata": {},
     "output_type": "execute_result"
    }
   ],
   "source": [
    "len(trainset)"
   ]
  },
  {
   "cell_type": "code",
   "execution_count": 41,
   "id": "5850d52e",
   "metadata": {},
   "outputs": [
    {
     "data": {
      "text/plain": [
       "'txyp'"
      ]
     },
     "execution_count": 41,
     "metadata": {},
     "output_type": "execute_result"
    }
   ],
   "source": [
    "trainset.ordering"
   ]
  },
  {
   "cell_type": "code",
   "execution_count": 42,
   "id": "dfa8adba",
   "metadata": {},
   "outputs": [
    {
     "data": {
      "text/plain": [
       "array([205.,   7.,  12.,   0.])"
      ]
     },
     "execution_count": 42,
     "metadata": {},
     "output_type": "execute_result"
    }
   ],
   "source": [
    "trainset[0][0][4]"
   ]
  },
  {
   "cell_type": "code",
   "execution_count": null,
   "id": "14672836",
   "metadata": {},
   "outputs": [],
   "source": []
  },
  {
   "cell_type": "code",
   "execution_count": 21,
   "id": "4b2a1baa",
   "metadata": {},
   "outputs": [
    {
     "data": {
      "text/plain": [
       "(2599, 4)"
      ]
     },
     "execution_count": 21,
     "metadata": {},
     "output_type": "execute_result"
    }
   ],
   "source": [
    "events = trainset[0][0]\n",
    "events.shape"
   ]
  },
  {
   "cell_type": "code",
   "execution_count": 22,
   "id": "ac8f029e",
   "metadata": {},
   "outputs": [
    {
     "data": {
      "text/plain": [
       "['cl', 'he', 'di', 'sp']"
      ]
     },
     "execution_count": 22,
     "metadata": {},
     "output_type": "execute_result"
    }
   ],
   "source": [
    "trainset.classes"
   ]
  },
  {
   "cell_type": "code",
   "execution_count": 23,
   "id": "c0d361da",
   "metadata": {},
   "outputs": [
    {
     "data": {
      "image/png": "[encoded data removed]",
      "text/plain": [
       "<Figure size 432x288 with 6 Axes>"
      ]
     },
     "metadata": {
      "needs_background": "light"
     },
     "output_type": "display_data"
    }
   ],
   "source": [
    "tonic.utils.plot_event_grid(events, trainset.ordering, axis_array=(2, 3))"
   ]
  },
  {
   "cell_type": "code",
   "execution_count": 24,
   "id": "b3632e77",
   "metadata": {},
   "outputs": [
    {
     "data": {
      "text/plain": [
       "(35, 35)"
      ]
     },
     "execution_count": 24,
     "metadata": {},
     "output_type": "execute_result"
    }
   ],
   "source": [
    "trainset.sensor_size"
   ]
  },
  {
   "cell_type": "code",
   "execution_count": 9,
   "id": "292d1dcb",
   "metadata": {},
   "outputs": [],
   "source": [
    "trainset.transform = transform\n",
    "\n",
    "BATCH_SIZE = 4\n",
    "\n",
    "train_loader = torch.utils.data.DataLoader(\n",
    "    trainset,\n",
    "    batch_size=BATCH_SIZE,\n",
    "    collate_fn=tonic.utils.pad_tensors,\n",
    "    shuffle=True,\n",
    ")\n",
    "\n",
    "test_loader = torch.utils.data.DataLoader(\n",
    "    testset,\n",
    "    batch_size=BATCH_SIZE,\n",
    "    collate_fn=tonic.utils.pad_tensors,\n",
    "    shuffle=False,\n",
    ")"
   ]
  },
  {
   "cell_type": "code",
   "execution_count": 10,
   "id": "4926bc49",
   "metadata": {},
   "outputs": [],
   "source": [
    "class SimpleSNN(torch.nn.Module):\n",
    "    def __init__(self, input_features: int, hidden_features: int, output_features: int, dt):\n",
    "        \"\"\"\n",
    "        input_features (int): height x width\n",
    "        \"\"\"\n",
    "        super(SimpleSNN, self).__init__()\n",
    "\n",
    "        self.l1 = LIFRecurrentCell(input_features, hidden_features, dt=dt)\n",
    "        self.linear = torch.nn.Linear(hidden_features, output_features, bias=False)\n",
    "        self.out = LICell(dt=dt)\n",
    "\n",
    "        self.input_features = input_features\n",
    "\n",
    "    def forward(self, x):\n",
    "        seq_length, batch_size, _, _, _ = x.shape\n",
    "\n",
    "        l1_state = None\n",
    "        out = None\n",
    "\n",
    "        l1_voltages = []\n",
    "        out_voltages = []\n",
    "\n",
    "        for seq in range(seq_length):\n",
    "            inp = x.to_dense()[seq, :, :, :].view(-1, self.input_features)\n",
    "\n",
    "            voltage, l1_state = self.l1(inp, l1_state)\n",
    "            l1_voltages.append(voltage)\n",
    "\n",
    "            linear_out = self.linear(voltage)\n",
    "\n",
    "            voltage, out = self.out(linear_out, out)\n",
    "\n",
    "            out_voltages.append(voltage)\n",
    "\n",
    "        return torch.stack(out_voltages)"
   ]
  },
  {
   "cell_type": "code",
   "execution_count": 11,
   "id": "2478aefc",
   "metadata": {},
   "outputs": [],
   "source": [
    "def decode(x):\n",
    "    x, _ = torch.max(x, 1)\n",
    "    log_p_y = torch.nn.functional.log_softmax(x, dim=1)\n",
    "    return log_p_y\n",
    "\n",
    "\n",
    "class Model(torch.nn.Module):\n",
    "    def __init__(self, snn: SimpleSNN):\n",
    "        super(Model, self).__init__()\n",
    "        self.snn = snn\n",
    "        self.decoder = decode\n",
    "\n",
    "    def forward(self, x):\n",
    "        x = self.snn(x)\n",
    "        log_p_y = self.decoder(x)\n",
    "        return log_p_y"
   ]
  },
  {
   "cell_type": "code",
   "execution_count": 28,
   "id": "cfc780d6",
   "metadata": {},
   "outputs": [],
   "source": [
    "LR = 0.002\n",
    "\n",
    "snn = SimpleSNN(35 * 35, 100, 4, 1e-6)\n",
    "model = Model(snn)\n",
    "\n",
    "optimizer = torch.optim.Adam(model.parameters(), lr=LR)"
   ]
  },
  {
   "cell_type": "code",
   "execution_count": 29,
   "id": "80bc3247",
   "metadata": {},
   "outputs": [
    {
     "data": {
      "application/vnd.jupyter.widget-view+json": {
       "model_id": "48486921a5e6495a8ab59c5f1f5b3b86",
       "version_major": 2,
       "version_minor": 0
      },
      "text/plain": [
       "  0%|          | 0/5 [00:00<?, ?it/s]"
      ]
     },
     "metadata": {},
     "output_type": "display_data"
    },
    {
     "data": {
      "application/vnd.jupyter.widget-view+json": {
       "model_id": "cda41c3ad9fe4e269d286a63e61569fb",
       "version_major": 2,
       "version_minor": 0
      },
      "text/plain": [
       "  0%|          | 0/12 [00:00<?, ?it/s]"
      ]
     },
     "metadata": {},
     "output_type": "display_data"
    },
    {
     "data": {
      "application/vnd.jupyter.widget-view+json": {
       "model_id": "8960bd01bf7d4fa8927439e3e53f5de0",
       "version_major": 2,
       "version_minor": 0
      },
      "text/plain": [
       "  0%|          | 0/12 [00:00<?, ?it/s]"
      ]
     },
     "metadata": {},
     "output_type": "display_data"
    },
    {
     "data": {
      "application/vnd.jupyter.widget-view+json": {
       "model_id": "26322f1f5ac44d9bb3e68f07fe745f3d",
       "version_major": 2,
       "version_minor": 0
      },
      "text/plain": [
       "  0%|          | 0/12 [00:00<?, ?it/s]"
      ]
     },
     "metadata": {},
     "output_type": "display_data"
    },
    {
     "data": {
      "application/vnd.jupyter.widget-view+json": {
       "model_id": "dcaa712b72434f25ba1c0719ee508331",
       "version_major": 2,
       "version_minor": 0
      },
      "text/plain": [
       "  0%|          | 0/12 [00:00<?, ?it/s]"
      ]
     },
     "metadata": {},
     "output_type": "display_data"
    },
    {
     "data": {
      "application/vnd.jupyter.widget-view+json": {
       "model_id": "58199281e69a4b5aa8abf22f9124a157",
       "version_major": 2,
       "version_minor": 0
      },
      "text/plain": [
       "  0%|          | 0/12 [00:00<?, ?it/s]"
      ]
     },
     "metadata": {},
     "output_type": "display_data"
    }
   ],
   "source": [
    "EPOCHS = 5  # Increase this number for better performance\n",
    "\n",
    "\n",
    "def train(model, train_loader, optimizer, epoch, max_epochs):\n",
    "    model.train()\n",
    "    losses = []\n",
    "    for (data, target) in tqdm(train_loader):\n",
    "        optimizer.zero_grad()\n",
    "        output = model(data)\n",
    "        loss = torch.nn.functional.nll_loss(output, target)\n",
    "        loss.backward()\n",
    "        optimizer.step()\n",
    "        losses.append(loss.item())\n",
    "\n",
    "    mean_loss = np.mean(losses)\n",
    "    return losses, mean_loss\n",
    "\n",
    "\n",
    "training_losses = []\n",
    "mean_losses = []\n",
    "\n",
    "for epoch in trange(EPOCHS):\n",
    "    training_loss, mean_loss = train(\n",
    "        model, train_loader, optimizer, epoch, max_epochs=EPOCHS\n",
    "    )\n",
    "\n",
    "    training_losses += training_loss\n",
    "    mean_losses.append(mean_loss)\n",
    "\n",
    "    path = f\"../data/model_li/snn_epoch_{epoch}.pth\"\n",
    "    torch.save(model.state_dict(), path)"
   ]
  },
  {
   "cell_type": "code",
   "execution_count": 15,
   "id": "97bb20b7",
   "metadata": {},
   "outputs": [
    {
     "ename": "AttributeError",
     "evalue": "'str' object has no attribute 'copy'",
     "output_type": "error",
     "traceback": [
      "\u001b[0;31m---------------------------------------------------------------------------\u001b[0m",
      "\u001b[0;31mAttributeError\u001b[0m                            Traceback (most recent call last)",
      "\u001b[0;32m/tmp/ipykernel_19685/2190815844.py\u001b[0m in \u001b[0;36m<module>\u001b[0;34m\u001b[0m\n\u001b[1;32m      1\u001b[0m \u001b[0msnn\u001b[0m \u001b[0;34m=\u001b[0m \u001b[0mSimpleSNN\u001b[0m\u001b[0;34m(\u001b[0m\u001b[0;36m35\u001b[0m \u001b[0;34m*\u001b[0m \u001b[0;36m35\u001b[0m\u001b[0;34m,\u001b[0m \u001b[0;36m100\u001b[0m\u001b[0;34m,\u001b[0m \u001b[0;36m4\u001b[0m\u001b[0;34m,\u001b[0m \u001b[0;36m1e-6\u001b[0m\u001b[0;34m)\u001b[0m\u001b[0;34m\u001b[0m\u001b[0;34m\u001b[0m\u001b[0m\n\u001b[1;32m      2\u001b[0m \u001b[0mmodel\u001b[0m \u001b[0;34m=\u001b[0m \u001b[0mModel\u001b[0m\u001b[0;34m(\u001b[0m\u001b[0msnn\u001b[0m\u001b[0;34m)\u001b[0m\u001b[0;34m\u001b[0m\u001b[0;34m\u001b[0m\u001b[0m\n\u001b[0;32m----> 3\u001b[0;31m \u001b[0mmodel\u001b[0m\u001b[0;34m.\u001b[0m\u001b[0mload_state_dict\u001b[0m\u001b[0;34m(\u001b[0m\u001b[0;34m\"../data/norse_tutorial_model/model_epoch_4.pth\"\u001b[0m\u001b[0;34m)\u001b[0m\u001b[0;34m\u001b[0m\u001b[0;34m\u001b[0m\u001b[0m\n\u001b[0m",
      "\u001b[0;32m~/.pyenv/versions/3.8.6/envs/ml/lib/python3.8/site-packages/torch/nn/modules/module.py\u001b[0m in \u001b[0;36mload_state_dict\u001b[0;34m(self, state_dict, strict)\u001b[0m\n\u001b[1;32m   1377\u001b[0m         \u001b[0;31m# copy state_dict so _load_from_state_dict can modify it\u001b[0m\u001b[0;34m\u001b[0m\u001b[0;34m\u001b[0m\u001b[0;34m\u001b[0m\u001b[0m\n\u001b[1;32m   1378\u001b[0m         \u001b[0mmetadata\u001b[0m \u001b[0;34m=\u001b[0m \u001b[0mgetattr\u001b[0m\u001b[0;34m(\u001b[0m\u001b[0mstate_dict\u001b[0m\u001b[0;34m,\u001b[0m \u001b[0;34m'_metadata'\u001b[0m\u001b[0;34m,\u001b[0m \u001b[0;32mNone\u001b[0m\u001b[0;34m)\u001b[0m\u001b[0;34m\u001b[0m\u001b[0;34m\u001b[0m\u001b[0m\n\u001b[0;32m-> 1379\u001b[0;31m         \u001b[0mstate_dict\u001b[0m \u001b[0;34m=\u001b[0m \u001b[0mstate_dict\u001b[0m\u001b[0;34m.\u001b[0m\u001b[0mcopy\u001b[0m\u001b[0;34m(\u001b[0m\u001b[0;34m)\u001b[0m\u001b[0;34m\u001b[0m\u001b[0;34m\u001b[0m\u001b[0m\n\u001b[0m\u001b[1;32m   1380\u001b[0m         \u001b[0;32mif\u001b[0m \u001b[0mmetadata\u001b[0m \u001b[0;32mis\u001b[0m \u001b[0;32mnot\u001b[0m \u001b[0;32mNone\u001b[0m\u001b[0;34m:\u001b[0m\u001b[0;34m\u001b[0m\u001b[0;34m\u001b[0m\u001b[0m\n\u001b[1;32m   1381\u001b[0m             \u001b[0;31m# mypy isn't aware that \"_metadata\" exists in state_dict\u001b[0m\u001b[0;34m\u001b[0m\u001b[0;34m\u001b[0m\u001b[0;34m\u001b[0m\u001b[0m\n",
      "\u001b[0;31mAttributeError\u001b[0m: 'str' object has no attribute 'copy'"
     ]
    }
   ],
   "source": [
    "snn = SimpleSNN(35 * 35, 100, 4, 1e-6)\n",
    "model = Model(snn)\n",
    "model.load_state_dict(\"../data/norse_tutorial_model/model_epoch_4.pth\")"
   ]
  },
  {
   "cell_type": "code",
   "execution_count": 14,
   "id": "e1b534d7",
   "metadata": {},
   "outputs": [],
   "source": [
    "model_dict = torch.load('../data/norse_tutorial_model/model_epoch_4.pth')"
   ]
  },
  {
   "cell_type": "code",
   "execution_count": 6,
   "id": "44038b3f",
   "metadata": {},
   "outputs": [
    {
     "data": {
      "text/plain": [
       "OrderedDict([('snn.l1.input_weights',\n",
       "              tensor([[ 0.1794, -0.0728,  0.3096,  ..., -0.0262, -0.0662,  0.2231],\n",
       "                      [ 0.1744,  0.1430,  0.0771,  ..., -0.1205,  0.2236,  0.1661],\n",
       "                      [-0.0514, -0.0562,  0.0787,  ..., -0.1206,  0.3038, -0.0591],\n",
       "                      ...,\n",
       "                      [-0.1746,  0.0274,  0.1406,  ..., -0.0428, -0.1830, -0.1080],\n",
       "                      [-0.0223, -0.0677,  0.1295,  ..., -0.0016, -0.1941,  0.0792],\n",
       "                      [-0.0198,  0.1578,  0.1029,  ..., -0.0913, -0.1683,  0.0422]])),\n",
       "             ('snn.l1.recurrent_weights',\n",
       "              tensor([[ 0.0000,  0.1317, -0.0573,  ...,  0.0068,  0.0968, -0.1231],\n",
       "                      [-0.0333,  0.0000,  0.0830,  ...,  0.1568, -0.1215, -0.0185],\n",
       "                      [ 0.0842, -0.0362,  0.0000,  ...,  0.0882,  0.0507,  0.0523],\n",
       "                      ...,\n",
       "                      [ 0.0563, -0.0489, -0.0902,  ...,  0.0000, -0.2355, -0.2430],\n",
       "                      [-0.0448, -0.0842,  0.0201,  ...,  0.0523,  0.0000, -0.2331],\n",
       "                      [-0.0817, -0.0935,  0.1853,  ..., -0.1656, -0.0251,  0.0000]])),\n",
       "             ('snn.fc_out.weight',\n",
       "              tensor([[ 6.0826e-02, -7.4228e-02,  4.8435e-02,  1.6297e-02,  3.8053e-02,\n",
       "                       -3.0910e-02, -9.9413e-02, -1.0609e-01,  1.4186e-01,  8.6901e-03,\n",
       "                        8.0174e-02,  4.1422e-02, -5.1842e-03, -4.3387e-02, -3.3189e-03,\n",
       "                       -1.2128e-02, -7.7742e-03, -6.3038e-02, -4.8634e-02, -6.6465e-02,\n",
       "                        1.9330e-02, -1.9207e-02,  5.9075e-02, -8.2629e-02, -5.4960e-02,\n",
       "                        6.4568e-02, -9.2369e-02,  2.9996e-02, -2.8619e-02,  1.0559e-01,\n",
       "                       -5.5731e-02,  7.1602e-03, -1.5059e-02,  4.3367e-02, -1.0490e-01,\n",
       "                       -5.7859e-02, -7.8808e-02,  4.1472e-02, -5.3366e-02,  1.2462e-02,\n",
       "                        3.4579e-02, -6.5244e-02,  3.8186e-03,  1.5161e-02,  1.0858e-01,\n",
       "                       -7.6671e-02,  5.0892e-02,  1.1489e-01,  8.7973e-02,  4.3446e-02,\n",
       "                       -2.3242e-02, -9.6674e-03, -9.5074e-02,  7.1347e-03,  6.4267e-02,\n",
       "                       -4.8246e-02, -8.8457e-02, -8.5978e-02, -5.4601e-02, -8.6257e-02,\n",
       "                       -1.5497e-02, -4.4703e-02,  3.9442e-02,  9.2373e-02,  9.7907e-02,\n",
       "                       -1.3442e-01,  6.8165e-02,  8.8879e-02,  6.4948e-02,  8.1146e-02,\n",
       "                       -8.2417e-02, -5.5428e-02,  8.4213e-02, -2.9312e-02,  4.4624e-02,\n",
       "                       -2.8427e-02, -7.8579e-02,  1.1719e-01, -4.1872e-02, -8.2925e-03,\n",
       "                        8.0607e-03, -3.9513e-02, -4.7072e-02, -7.2663e-02,  2.6016e-02,\n",
       "                       -6.7295e-02, -5.9721e-02,  2.6713e-02,  3.6475e-02,  2.0348e-02,\n",
       "                       -2.4573e-02,  8.4736e-02, -7.5616e-03,  2.8746e-02,  1.0371e-01,\n",
       "                        1.2365e-01,  5.4276e-02, -4.3517e-02, -5.4276e-02, -4.7506e-04],\n",
       "                      [ 2.2162e-02,  4.0577e-02, -7.6413e-02,  9.6362e-03, -1.0361e-01,\n",
       "                       -1.0274e-01,  7.4582e-02,  2.7779e-02, -8.5058e-03, -1.5133e-02,\n",
       "                        6.2621e-02, -3.9079e-02, -1.6301e-02, -7.8054e-02, -2.5603e-02,\n",
       "                       -5.1298e-02, -4.6720e-02, -3.7087e-02,  7.6075e-02,  2.6912e-02,\n",
       "                        1.5491e-02,  1.3576e-02, -4.1220e-02, -3.8036e-02, -9.8307e-02,\n",
       "                        9.8329e-03, -6.6795e-02, -2.4967e-02,  8.6762e-02,  3.4852e-02,\n",
       "                        8.0052e-02,  5.8161e-02,  1.0348e-02,  4.1548e-02,  4.8044e-02,\n",
       "                        5.5605e-02, -5.4496e-02,  9.1020e-02, -5.3615e-02,  6.9763e-02,\n",
       "                       -2.3606e-03,  8.0692e-02,  1.7761e-02, -1.3005e-02,  1.0996e-02,\n",
       "                        2.2466e-02,  6.3196e-02, -6.7752e-02, -7.0689e-02,  5.6124e-02,\n",
       "                        7.2134e-03, -9.3019e-03, -7.7170e-02,  9.6005e-02,  7.0106e-02,\n",
       "                       -4.4138e-02,  8.6783e-02,  6.8783e-02, -8.1139e-02,  1.0226e-03,\n",
       "                        1.5188e-03,  7.9859e-02,  8.8912e-02, -5.8437e-02, -2.6503e-02,\n",
       "                        1.4918e-02,  6.4909e-02, -6.4488e-02, -3.4751e-02, -4.6660e-02,\n",
       "                        4.5550e-02, -3.8542e-02, -8.2865e-02,  1.1764e-02, -9.2356e-02,\n",
       "                        8.2579e-02,  2.7166e-02, -8.2940e-02, -2.0616e-03,  5.2535e-03,\n",
       "                       -3.0810e-02,  9.6612e-03, -2.0201e-02, -1.6143e-02,  4.2374e-02,\n",
       "                        4.9965e-02,  9.6033e-02,  5.9660e-02,  5.1638e-02,  4.7563e-02,\n",
       "                        7.6304e-02, -5.0516e-03, -6.2900e-02, -4.7473e-02,  1.9788e-03,\n",
       "                       -9.4514e-02, -1.0740e-02,  6.9816e-02, -9.7896e-02,  6.5879e-03],\n",
       "                      [-2.4707e-02,  5.1699e-02, -3.5827e-02, -1.7349e-02,  2.7409e-02,\n",
       "                       -2.9945e-02,  6.5037e-02, -6.4068e-02, -8.2135e-02, -8.4468e-02,\n",
       "                        6.6102e-02,  3.0641e-02, -4.9188e-02,  1.3810e-02, -5.4667e-02,\n",
       "                       -7.7258e-02, -4.3241e-03, -2.5134e-02, -9.2353e-02, -1.0390e-03,\n",
       "                        9.0723e-02, -7.1995e-02, -5.7561e-02, -1.0211e-01,  4.9376e-02,\n",
       "                       -6.9516e-02,  6.0990e-02,  4.2720e-02,  8.5587e-02,  5.4294e-02,\n",
       "                        7.9085e-02,  9.9315e-02, -2.8158e-02,  7.4302e-02,  6.2342e-02,\n",
       "                       -5.5239e-02, -9.6470e-02, -6.1454e-02, -4.2729e-02,  8.5395e-02,\n",
       "                        3.9723e-02,  3.1721e-02,  4.8933e-02, -1.0101e-01, -3.4684e-02,\n",
       "                        9.0635e-03, -1.0393e-01, -6.0887e-02,  5.7429e-02,  8.0745e-02,\n",
       "                        5.5374e-02,  5.5222e-02,  7.8773e-02, -1.2412e-02,  5.7504e-02,\n",
       "                        5.4197e-03, -3.4385e-02, -1.4909e-02, -3.4063e-02, -4.7691e-02,\n",
       "                       -9.0478e-02,  4.5194e-02,  7.9645e-02,  6.6733e-02,  5.0191e-02,\n",
       "                       -4.4421e-02,  1.2326e-02, -4.6002e-02, -7.6474e-02,  2.2051e-02,\n",
       "                        3.3592e-03, -9.5550e-02, -5.6342e-02,  2.4927e-02,  9.0351e-02,\n",
       "                       -4.9835e-02, -8.5020e-02,  6.4726e-04, -8.6709e-02,  6.7627e-02,\n",
       "                        8.2178e-02, -8.6675e-02, -5.3184e-03,  8.6643e-02,  3.8583e-02,\n",
       "                       -3.1778e-02,  5.3563e-02, -9.3428e-02, -4.4570e-02,  8.0009e-03,\n",
       "                        8.7542e-02, -6.1182e-02, -6.4759e-02, -4.4632e-02,  1.2079e-02,\n",
       "                        3.6205e-02, -8.3122e-02,  4.0616e-03,  2.1471e-02,  3.2489e-02],\n",
       "                      [-5.5659e-02, -7.9672e-02,  8.0898e-02, -3.8153e-02,  7.8020e-02,\n",
       "                       -9.7569e-03, -8.9191e-02,  8.9026e-02, -8.5737e-03, -9.9117e-02,\n",
       "                        6.1970e-03,  2.6326e-02, -1.1278e-02, -1.1150e-01,  4.9871e-04,\n",
       "                       -1.0761e-01, -8.0085e-02, -4.7288e-02, -1.0232e-01, -1.0396e-01,\n",
       "                       -3.4184e-02,  2.2984e-02, -6.8189e-02,  4.0869e-03,  4.7504e-02,\n",
       "                       -2.6107e-02,  6.1785e-02,  6.7595e-02, -5.3046e-02, -7.6324e-02,\n",
       "                       -5.9401e-02, -5.8575e-02, -1.7726e-03, -5.8421e-03, -1.0481e-01,\n",
       "                       -5.2154e-02, -2.2490e-02,  8.8900e-03,  2.6675e-02, -9.3159e-02,\n",
       "                        8.2592e-05, -5.2909e-02,  7.2012e-02, -4.1974e-02,  1.9273e-02,\n",
       "                       -2.3076e-02, -5.1759e-02,  6.0023e-02,  1.8149e-02,  3.1436e-02,\n",
       "                       -1.2214e-02,  4.5864e-02, -2.4234e-02,  8.1235e-02,  6.2703e-02,\n",
       "                        1.0648e-02, -6.4912e-02, -7.6151e-02, -9.0411e-02,  1.5108e-02,\n",
       "                        4.4932e-02, -4.9510e-03, -8.9866e-02, -7.1431e-02, -5.5378e-02,\n",
       "                        1.0501e-01,  7.4382e-02,  2.7237e-02,  4.5962e-02, -5.9642e-02,\n",
       "                        4.5501e-02,  8.2040e-02,  5.8232e-02,  1.3531e-02, -4.6272e-02,\n",
       "                        5.5142e-02, -1.4472e-02,  6.8042e-02, -6.5140e-02, -1.0574e-02,\n",
       "                       -7.6808e-02,  1.7187e-02, -3.6501e-02, -9.1243e-02, -9.2547e-02,\n",
       "                        6.9906e-02,  4.9140e-02,  2.5459e-02,  2.5479e-02, -7.3630e-02,\n",
       "                       -6.5659e-02, -9.7426e-02, -3.1146e-02,  2.5678e-02, -5.1495e-02,\n",
       "                       -1.9196e-02, -8.2972e-02,  5.8712e-02, -9.1579e-02, -9.4351e-02]]))])"
      ]
     },
     "execution_count": 6,
     "metadata": {},
     "output_type": "execute_result"
    }
   ],
   "source": [
    "model"
   ]
  },
  {
   "cell_type": "code",
   "execution_count": 30,
   "id": "05d2bd8c",
   "metadata": {},
   "outputs": [],
   "source": [
    "def test(model, test_loader):\n",
    "    model.eval()\n",
    "    test_loss = 0\n",
    "    correct = 0\n",
    "\n",
    "    with torch.no_grad():\n",
    "        for data, target in tqdm(test_loader):\n",
    "            output = model(data)\n",
    "            test_loss += torch.nn.functional.nll_loss(\n",
    "                output, target, reduction=\"sum\"\n",
    "            ).item()\n",
    "            pred = output.argmax(dim=1, keepdim=True)\n",
    "            correct += pred.eq(target.view_as(pred)).sum().item()\n",
    "\n",
    "    test_loss /= len(test_loader.dataset)\n",
    "\n",
    "    accuracy = 100.0 * correct / len(test_loader.dataset)\n",
    "\n",
    "    return test_loss, accuracy"
   ]
  },
  {
   "cell_type": "code",
   "execution_count": 31,
   "id": "64f0d168",
   "metadata": {},
   "outputs": [
    {
     "data": {
      "application/vnd.jupyter.widget-view+json": {
       "model_id": "30d065ce59da46968dd7eedb0f29090c",
       "version_major": 2,
       "version_minor": 0
      },
      "text/plain": [
       "  0%|          | 0/5 [00:00<?, ?it/s]"
      ]
     },
     "metadata": {},
     "output_type": "display_data"
    }
   ],
   "source": [
    "loss, acc = test(model, test_loader)"
   ]
  },
  {
   "cell_type": "code",
   "execution_count": 32,
   "id": "cec71226",
   "metadata": {},
   "outputs": [
    {
     "data": {
      "text/plain": [
       "25.0"
      ]
     },
     "execution_count": 32,
     "metadata": {},
     "output_type": "execute_result"
    }
   ],
   "source": [
    "acc"
   ]
  },
  {
   "cell_type": "code",
   "execution_count": null,
   "id": "d95a26ac",
   "metadata": {},
   "outputs": [],
   "source": []
  }
 ],
 "metadata": {
  "kernelspec": {
   "display_name": "Python 3 (ipykernel)",
   "language": "python",
   "name": "python3"
  },
  "language_info": {
   "codemirror_mode": {
    "name": "ipython",
    "version": 3
   },
   "file_extension": ".py",
   "mimetype": "text/x-python",
   "name": "python",
   "nbconvert_exporter": "python",
   "pygments_lexer": "ipython3",
   "version": "3.8.6"
  }
 },
 "nbformat": 4,
 "nbformat_minor": 5
}
