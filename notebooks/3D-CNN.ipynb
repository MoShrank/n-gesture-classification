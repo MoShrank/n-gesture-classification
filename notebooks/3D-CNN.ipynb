{
 "cells": [
  {
   "cell_type": "code",
   "execution_count": 1,
   "id": "4234b5d1",
   "metadata": {},
   "outputs": [
    {
     "data": {
      "application/javascript": [
       "\n",
       "            setTimeout(function() {\n",
       "                var nbb_cell_id = 1;\n",
       "                var nbb_unformatted_code = \"%load_ext nb_black\";\n",
       "                var nbb_formatted_code = \"%load_ext nb_black\";\n",
       "                var nbb_cells = Jupyter.notebook.get_cells();\n",
       "                for (var i = 0; i < nbb_cells.length; ++i) {\n",
       "                    if (nbb_cells[i].input_prompt_number == nbb_cell_id) {\n",
       "                        if (nbb_cells[i].get_text() == nbb_unformatted_code) {\n",
       "                             nbb_cells[i].set_text(nbb_formatted_code);\n",
       "                        }\n",
       "                        break;\n",
       "                    }\n",
       "                }\n",
       "            }, 500);\n",
       "            "
      ],
      "text/plain": [
       "<IPython.core.display.Javascript object>"
      ]
     },
     "metadata": {},
     "output_type": "display_data"
    }
   ],
   "source": [
    "%load_ext nb_black"
   ]
  },
  {
   "cell_type": "code",
   "execution_count": 2,
   "id": "18c7b43e",
   "metadata": {},
   "outputs": [
    {
     "data": {
      "application/javascript": [
       "\n",
       "            setTimeout(function() {\n",
       "                var nbb_cell_id = 2;\n",
       "                var nbb_unformatted_code = \"import torch\\nimport torch.nn as nn\\nimport torch.nn.functional as F\\nimport torchvision\\nimport tonic\\nimport numpy as np\\nimport matplotlib.pyplot as plt\\nfrom tqdm.notebook import tqdm\\nimport tonic\\nimport tonic.transforms as transforms\";\n",
       "                var nbb_formatted_code = \"import torch\\nimport torch.nn as nn\\nimport torch.nn.functional as F\\nimport torchvision\\nimport tonic\\nimport numpy as np\\nimport matplotlib.pyplot as plt\\nfrom tqdm.notebook import tqdm\\nimport tonic\\nimport tonic.transforms as transforms\";\n",
       "                var nbb_cells = Jupyter.notebook.get_cells();\n",
       "                for (var i = 0; i < nbb_cells.length; ++i) {\n",
       "                    if (nbb_cells[i].input_prompt_number == nbb_cell_id) {\n",
       "                        if (nbb_cells[i].get_text() == nbb_unformatted_code) {\n",
       "                             nbb_cells[i].set_text(nbb_formatted_code);\n",
       "                        }\n",
       "                        break;\n",
       "                    }\n",
       "                }\n",
       "            }, 500);\n",
       "            "
      ],
      "text/plain": [
       "<IPython.core.display.Javascript object>"
      ]
     },
     "metadata": {},
     "output_type": "display_data"
    }
   ],
   "source": [
    "import torch\n",
    "import torch.nn as nn\n",
    "import torch.nn.functional as F\n",
    "import torchvision\n",
    "import tonic\n",
    "import numpy as np\n",
    "import matplotlib.pyplot as plt\n",
    "from tqdm.notebook import tqdm\n",
    "import tonic\n",
    "import tonic.transforms as transforms"
   ]
  },
  {
   "cell_type": "code",
   "execution_count": 3,
   "id": "83421556",
   "metadata": {},
   "outputs": [
    {
     "data": {
      "application/javascript": [
       "\n",
       "            setTimeout(function() {\n",
       "                var nbb_cell_id = 3;\n",
       "                var nbb_unformatted_code = \"transform = tonic.transforms.Compose(\\n    [\\n        transforms.Downsample(time_factor=1e-3, spatial_factor=0.5),\\n        transforms.ToFrame(n_time_bins=120, merge_polarities=True),\\n        tonic.transforms.NumpyAsType(\\\"float32\\\")\\n        # tonic.transforms.ToSparseTensor(merge_polarities=True),\\n    ]\\n)\\n\\ndownload = False\\ntrainset = tonic.datasets.DVSGesture(\\n    save_to=\\\"../data\\\", transform=transform, download=download, train=True\\n)\\ntestset = tonic.datasets.DVSGesture(\\n    save_to=\\\"../data\\\", download=download, transform=transform, train=False\\n)\";\n",
       "                var nbb_formatted_code = \"transform = tonic.transforms.Compose(\\n    [\\n        transforms.Downsample(time_factor=1e-3, spatial_factor=0.5),\\n        transforms.ToFrame(n_time_bins=120, merge_polarities=True),\\n        tonic.transforms.NumpyAsType(\\\"float32\\\")\\n        # tonic.transforms.ToSparseTensor(merge_polarities=True),\\n    ]\\n)\\n\\ndownload = False\\ntrainset = tonic.datasets.DVSGesture(\\n    save_to=\\\"../data\\\", transform=transform, download=download, train=True\\n)\\ntestset = tonic.datasets.DVSGesture(\\n    save_to=\\\"../data\\\", download=download, transform=transform, train=False\\n)\";\n",
       "                var nbb_cells = Jupyter.notebook.get_cells();\n",
       "                for (var i = 0; i < nbb_cells.length; ++i) {\n",
       "                    if (nbb_cells[i].input_prompt_number == nbb_cell_id) {\n",
       "                        if (nbb_cells[i].get_text() == nbb_unformatted_code) {\n",
       "                             nbb_cells[i].set_text(nbb_formatted_code);\n",
       "                        }\n",
       "                        break;\n",
       "                    }\n",
       "                }\n",
       "            }, 500);\n",
       "            "
      ],
      "text/plain": [
       "<IPython.core.display.Javascript object>"
      ]
     },
     "metadata": {},
     "output_type": "display_data"
    }
   ],
   "source": [
    "transform = tonic.transforms.Compose(\n",
    "    [\n",
    "        transforms.Downsample(time_factor=1e-3, spatial_factor=0.5),\n",
    "        transforms.ToFrame(n_time_bins=120, merge_polarities=True),\n",
    "        tonic.transforms.NumpyAsType(\"float32\")\n",
    "        # tonic.transforms.ToSparseTensor(merge_polarities=True),\n",
    "    ]\n",
    ")\n",
    "\n",
    "download = False\n",
    "trainset = tonic.datasets.DVSGesture(\n",
    "    save_to=\"../data\", transform=transform, download=download, train=True\n",
    ")\n",
    "testset = tonic.datasets.DVSGesture(\n",
    "    save_to=\"../data\", download=download, transform=transform, train=False\n",
    ")"
   ]
  },
  {
   "cell_type": "code",
   "execution_count": 4,
   "id": "4a18a6d7",
   "metadata": {},
   "outputs": [
    {
     "data": {
      "text/plain": [
       "1077"
      ]
     },
     "execution_count": 4,
     "metadata": {},
     "output_type": "execute_result"
    },
    {
     "data": {
      "application/javascript": [
       "\n",
       "            setTimeout(function() {\n",
       "                var nbb_cell_id = 4;\n",
       "                var nbb_unformatted_code = \"len(trainset)\";\n",
       "                var nbb_formatted_code = \"len(trainset)\";\n",
       "                var nbb_cells = Jupyter.notebook.get_cells();\n",
       "                for (var i = 0; i < nbb_cells.length; ++i) {\n",
       "                    if (nbb_cells[i].input_prompt_number == nbb_cell_id) {\n",
       "                        if (nbb_cells[i].get_text() == nbb_unformatted_code) {\n",
       "                             nbb_cells[i].set_text(nbb_formatted_code);\n",
       "                        }\n",
       "                        break;\n",
       "                    }\n",
       "                }\n",
       "            }, 500);\n",
       "            "
      ],
      "text/plain": [
       "<IPython.core.display.Javascript object>"
      ]
     },
     "metadata": {},
     "output_type": "display_data"
    }
   ],
   "source": [
    "len(trainset)"
   ]
  },
  {
   "cell_type": "code",
   "execution_count": 5,
   "id": "b270b753",
   "metadata": {},
   "outputs": [
    {
     "name": "stdout",
     "output_type": "stream",
     "text": [
      "events shape: (120, 1, 64, 64)\n"
     ]
    },
    {
     "data": {
      "application/javascript": [
       "\n",
       "            setTimeout(function() {\n",
       "                var nbb_cell_id = 5;\n",
       "                var nbb_unformatted_code = \"events = trainset[0][0]\\nprint(f\\\"events shape: {events.shape}\\\")\";\n",
       "                var nbb_formatted_code = \"events = trainset[0][0]\\nprint(f\\\"events shape: {events.shape}\\\")\";\n",
       "                var nbb_cells = Jupyter.notebook.get_cells();\n",
       "                for (var i = 0; i < nbb_cells.length; ++i) {\n",
       "                    if (nbb_cells[i].input_prompt_number == nbb_cell_id) {\n",
       "                        if (nbb_cells[i].get_text() == nbb_unformatted_code) {\n",
       "                             nbb_cells[i].set_text(nbb_formatted_code);\n",
       "                        }\n",
       "                        break;\n",
       "                    }\n",
       "                }\n",
       "            }, 500);\n",
       "            "
      ],
      "text/plain": [
       "<IPython.core.display.Javascript object>"
      ]
     },
     "metadata": {},
     "output_type": "display_data"
    }
   ],
   "source": [
    "events = trainset[0][0]\n",
    "print(f\"events shape: {events.shape}\")"
   ]
  },
  {
   "cell_type": "code",
   "execution_count": 6,
   "id": "20b152a3",
   "metadata": {},
   "outputs": [
    {
     "name": "stdout",
     "output_type": "stream",
     "text": [
      "number of classes: 11\n"
     ]
    },
    {
     "data": {
      "text/plain": [
       "['hand_clapping',\n",
       " 'right_hand_wave',\n",
       " 'left_hand_wave',\n",
       " 'right_arm_clockwise',\n",
       " 'right_arm_counter_clockwise',\n",
       " 'left_arm_clockwise',\n",
       " 'left_arm_counter_clockwise',\n",
       " 'arm_roll',\n",
       " 'air_drums',\n",
       " 'air_guitar',\n",
       " 'other_gestures']"
      ]
     },
     "execution_count": 6,
     "metadata": {},
     "output_type": "execute_result"
    },
    {
     "data": {
      "application/javascript": [
       "\n",
       "            setTimeout(function() {\n",
       "                var nbb_cell_id = 6;\n",
       "                var nbb_unformatted_code = \"no_classes = len(trainset.classes)\\nprint(f\\\"number of classes: {no_classes}\\\")\\ntrainset.classes\";\n",
       "                var nbb_formatted_code = \"no_classes = len(trainset.classes)\\nprint(f\\\"number of classes: {no_classes}\\\")\\ntrainset.classes\";\n",
       "                var nbb_cells = Jupyter.notebook.get_cells();\n",
       "                for (var i = 0; i < nbb_cells.length; ++i) {\n",
       "                    if (nbb_cells[i].input_prompt_number == nbb_cell_id) {\n",
       "                        if (nbb_cells[i].get_text() == nbb_unformatted_code) {\n",
       "                             nbb_cells[i].set_text(nbb_formatted_code);\n",
       "                        }\n",
       "                        break;\n",
       "                    }\n",
       "                }\n",
       "            }, 500);\n",
       "            "
      ],
      "text/plain": [
       "<IPython.core.display.Javascript object>"
      ]
     },
     "metadata": {},
     "output_type": "display_data"
    }
   ],
   "source": [
    "no_classes = len(trainset.classes)\n",
    "print(f\"number of classes: {no_classes}\")\n",
    "trainset.classes"
   ]
  },
  {
   "cell_type": "code",
   "execution_count": 7,
   "id": "59ea6ef8",
   "metadata": {},
   "outputs": [
    {
     "data": {
      "text/plain": [
       "1077"
      ]
     },
     "execution_count": 7,
     "metadata": {},
     "output_type": "execute_result"
    },
    {
     "data": {
      "application/javascript": [
       "\n",
       "            setTimeout(function() {\n",
       "                var nbb_cell_id = 7;\n",
       "                var nbb_unformatted_code = \"len(trainset.targets)\";\n",
       "                var nbb_formatted_code = \"len(trainset.targets)\";\n",
       "                var nbb_cells = Jupyter.notebook.get_cells();\n",
       "                for (var i = 0; i < nbb_cells.length; ++i) {\n",
       "                    if (nbb_cells[i].input_prompt_number == nbb_cell_id) {\n",
       "                        if (nbb_cells[i].get_text() == nbb_unformatted_code) {\n",
       "                             nbb_cells[i].set_text(nbb_formatted_code);\n",
       "                        }\n",
       "                        break;\n",
       "                    }\n",
       "                }\n",
       "            }, 500);\n",
       "            "
      ],
      "text/plain": [
       "<IPython.core.display.Javascript object>"
      ]
     },
     "metadata": {},
     "output_type": "display_data"
    }
   ],
   "source": [
    "len(trainset.targets)"
   ]
  },
  {
   "cell_type": "code",
   "execution_count": 8,
   "id": "499e0a51",
   "metadata": {},
   "outputs": [
    {
     "data": {
      "image/png": "[encoded data removed]",
      "text/plain": [
       "<Figure size 432x288 with 1 Axes>"
      ]
     },
     "metadata": {
      "needs_background": "light"
     },
     "output_type": "display_data"
    },
    {
     "data": {
      "application/javascript": [
       "\n",
       "            setTimeout(function() {\n",
       "                var nbb_cell_id = 8;\n",
       "                var nbb_unformatted_code = \"from collections import Counter\\n\\ndis = np.unique(np.array(trainset.targets), return_counts=True)[1]\\nfig, ax = plt.subplots()\\nrects = ax.bar(range(11), dis)\\nax.set_xticks([ind for ind in range(11)])\\nax.set_xticklabels(range(11))\\nplt.title(\\\"class distribution\\\")\\nplt.show()\";\n",
       "                var nbb_formatted_code = \"from collections import Counter\\n\\ndis = np.unique(np.array(trainset.targets), return_counts=True)[1]\\nfig, ax = plt.subplots()\\nrects = ax.bar(range(11), dis)\\nax.set_xticks([ind for ind in range(11)])\\nax.set_xticklabels(range(11))\\nplt.title(\\\"class distribution\\\")\\nplt.show()\";\n",
       "                var nbb_cells = Jupyter.notebook.get_cells();\n",
       "                for (var i = 0; i < nbb_cells.length; ++i) {\n",
       "                    if (nbb_cells[i].input_prompt_number == nbb_cell_id) {\n",
       "                        if (nbb_cells[i].get_text() == nbb_unformatted_code) {\n",
       "                             nbb_cells[i].set_text(nbb_formatted_code);\n",
       "                        }\n",
       "                        break;\n",
       "                    }\n",
       "                }\n",
       "            }, 500);\n",
       "            "
      ],
      "text/plain": [
       "<IPython.core.display.Javascript object>"
      ]
     },
     "metadata": {},
     "output_type": "display_data"
    }
   ],
   "source": [
    "from collections import Counter\n",
    "\n",
    "dis = np.unique(np.array(trainset.targets), return_counts=True)[1]\n",
    "fig, ax = plt.subplots()\n",
    "rects = ax.bar(range(11), dis)\n",
    "ax.set_xticks([ind for ind in range(11)])\n",
    "ax.set_xticklabels(range(11))\n",
    "plt.title(\"class distribution\")\n",
    "plt.show()"
   ]
  },
  {
   "cell_type": "code",
   "execution_count": 9,
   "id": "3eb1b490",
   "metadata": {},
   "outputs": [
    {
     "data": {
      "image/png": "[encoded data removed]",
      "text/plain": [
       "<Figure size 1152x864 with 5 Axes>"
      ]
     },
     "metadata": {
      "needs_background": "light"
     },
     "output_type": "display_data"
    },
    {
     "data": {
      "application/javascript": [
       "\n",
       "            setTimeout(function() {\n",
       "                var nbb_cell_id = 9;\n",
       "                var nbb_unformatted_code = \"w = 10\\nh = 10\\nfig = plt.figure(figsize=(16, 12))\\ncolumns = 5\\nrows = 1\\nfor i in range(1, columns * rows + 1):\\n    fig.add_subplot(rows, columns, i)\\n    plt.imshow(events[i, 0])\\nplt.show()\";\n",
       "                var nbb_formatted_code = \"w = 10\\nh = 10\\nfig = plt.figure(figsize=(16, 12))\\ncolumns = 5\\nrows = 1\\nfor i in range(1, columns * rows + 1):\\n    fig.add_subplot(rows, columns, i)\\n    plt.imshow(events[i, 0])\\nplt.show()\";\n",
       "                var nbb_cells = Jupyter.notebook.get_cells();\n",
       "                for (var i = 0; i < nbb_cells.length; ++i) {\n",
       "                    if (nbb_cells[i].input_prompt_number == nbb_cell_id) {\n",
       "                        if (nbb_cells[i].get_text() == nbb_unformatted_code) {\n",
       "                             nbb_cells[i].set_text(nbb_formatted_code);\n",
       "                        }\n",
       "                        break;\n",
       "                    }\n",
       "                }\n",
       "            }, 500);\n",
       "            "
      ],
      "text/plain": [
       "<IPython.core.display.Javascript object>"
      ]
     },
     "metadata": {},
     "output_type": "display_data"
    }
   ],
   "source": [
    "w = 10\n",
    "h = 10\n",
    "fig = plt.figure(figsize=(16, 12))\n",
    "columns = 5\n",
    "rows = 1\n",
    "for i in range(1, columns * rows + 1):\n",
    "    fig.add_subplot(rows, columns, i)\n",
    "    plt.imshow(events[i, 0])\n",
    "plt.show()"
   ]
  },
  {
   "cell_type": "code",
   "execution_count": 10,
   "id": "00aa06ec",
   "metadata": {},
   "outputs": [
    {
     "data": {
      "application/javascript": [
       "\n",
       "            setTimeout(function() {\n",
       "                var nbb_cell_id = 10;\n",
       "                var nbb_unformatted_code = \"BATCH_SIZE = 8\\n\\ntrain_loader = torch.utils.data.DataLoader(\\n    trainset, batch_size=BATCH_SIZE, shuffle=True\\n)\\n\\ntest_loader = torch.utils.data.DataLoader(testset, batch_size=BATCH_SIZE, shuffle=False)\";\n",
       "                var nbb_formatted_code = \"BATCH_SIZE = 8\\n\\ntrain_loader = torch.utils.data.DataLoader(\\n    trainset, batch_size=BATCH_SIZE, shuffle=True\\n)\\n\\ntest_loader = torch.utils.data.DataLoader(testset, batch_size=BATCH_SIZE, shuffle=False)\";\n",
       "                var nbb_cells = Jupyter.notebook.get_cells();\n",
       "                for (var i = 0; i < nbb_cells.length; ++i) {\n",
       "                    if (nbb_cells[i].input_prompt_number == nbb_cell_id) {\n",
       "                        if (nbb_cells[i].get_text() == nbb_unformatted_code) {\n",
       "                             nbb_cells[i].set_text(nbb_formatted_code);\n",
       "                        }\n",
       "                        break;\n",
       "                    }\n",
       "                }\n",
       "            }, 500);\n",
       "            "
      ],
      "text/plain": [
       "<IPython.core.display.Javascript object>"
      ]
     },
     "metadata": {},
     "output_type": "display_data"
    }
   ],
   "source": [
    "BATCH_SIZE = 8\n",
    "\n",
    "train_loader = torch.utils.data.DataLoader(\n",
    "    trainset, batch_size=BATCH_SIZE, shuffle=True\n",
    ")\n",
    "\n",
    "test_loader = torch.utils.data.DataLoader(testset, batch_size=BATCH_SIZE, shuffle=False)"
   ]
  },
  {
   "cell_type": "code",
   "execution_count": 29,
   "id": "1b38ad3f",
   "metadata": {},
   "outputs": [
    {
     "data": {
      "application/javascript": [
       "\n",
       "            setTimeout(function() {\n",
       "                var nbb_cell_id = 29;\n",
       "                var nbb_unformatted_code = \"class CNN3D(nn.Module):\\n    def __init__(self):\\n        super().__init__()\\n        self.conv1 = nn.Conv3d(1, 32, (2, 2, 2), padding=2)\\n        self.conv2 = nn.Conv3d(32, 64, (2, 2, 2), padding=2)\\n        self.conv3 = nn.Conv3d(64, 128, (2, 2, 2), padding=2)\\n        self.pool = nn.MaxPool3d((6, 2, 2))\\n        self.fc1 = nn.Linear(128 * 1 * 10 * 10, 120)\\n        self.fc2 = nn.Linear(120, 60)\\n        self.fc3 = nn.Linear(60, 11)\\n\\n    def forward(self, x):\\n        x = self.pool(F.relu(self.conv1(x)))\\n        x = self.pool(F.relu(self.conv2(x)))\\n        x = self.pool(F.relu(self.conv3(x)))\\n        x = torch.flatten(x, 1)  # flatten all dimensions except batch\\n        x = F.relu(self.fc1(x))\\n\\n        x = F.relu(self.fc2(x))\\n\\n        x = F.softmax(self.fc3(x), 1)\\n        return x\";\n",
       "                var nbb_formatted_code = \"class CNN3D(nn.Module):\\n    def __init__(self):\\n        super().__init__()\\n        self.conv1 = nn.Conv3d(1, 32, (2, 2, 2), padding=2)\\n        self.conv2 = nn.Conv3d(32, 64, (2, 2, 2), padding=2)\\n        self.conv3 = nn.Conv3d(64, 128, (2, 2, 2), padding=2)\\n        self.pool = nn.MaxPool3d((6, 2, 2))\\n        self.fc1 = nn.Linear(128 * 1 * 10 * 10, 120)\\n        self.fc2 = nn.Linear(120, 60)\\n        self.fc3 = nn.Linear(60, 11)\\n\\n    def forward(self, x):\\n        x = self.pool(F.relu(self.conv1(x)))\\n        x = self.pool(F.relu(self.conv2(x)))\\n        x = self.pool(F.relu(self.conv3(x)))\\n        x = torch.flatten(x, 1)  # flatten all dimensions except batch\\n        x = F.relu(self.fc1(x))\\n\\n        x = F.relu(self.fc2(x))\\n\\n        x = F.softmax(self.fc3(x), 1)\\n        return x\";\n",
       "                var nbb_cells = Jupyter.notebook.get_cells();\n",
       "                for (var i = 0; i < nbb_cells.length; ++i) {\n",
       "                    if (nbb_cells[i].input_prompt_number == nbb_cell_id) {\n",
       "                        if (nbb_cells[i].get_text() == nbb_unformatted_code) {\n",
       "                             nbb_cells[i].set_text(nbb_formatted_code);\n",
       "                        }\n",
       "                        break;\n",
       "                    }\n",
       "                }\n",
       "            }, 500);\n",
       "            "
      ],
      "text/plain": [
       "<IPython.core.display.Javascript object>"
      ]
     },
     "metadata": {},
     "output_type": "display_data"
    }
   ],
   "source": [
    "class CNN3D(nn.Module):\n",
    "    def __init__(self):\n",
    "        super().__init__()\n",
    "        self.conv1 = nn.Conv3d(1, 32, (2, 2, 2), padding=2)\n",
    "        self.conv2 = nn.Conv3d(32, 64, (2, 2, 2), padding=2)\n",
    "        self.conv3 = nn.Conv3d(64, 128, (2, 2, 2), padding=2)\n",
    "        self.pool = nn.MaxPool3d((6, 2, 2))\n",
    "        self.fc1 = nn.Linear(128 * 1 * 10 * 10, 120)\n",
    "        self.fc2 = nn.Linear(120, 60)\n",
    "        self.fc3 = nn.Linear(60, 11)\n",
    "\n",
    "    def forward(self, x):\n",
    "        x = self.pool(F.relu(self.conv1(x)))\n",
    "        x = self.pool(F.relu(self.conv2(x)))\n",
    "        x = self.pool(F.relu(self.conv3(x)))\n",
    "        x = torch.flatten(x, 1)  # flatten all dimensions except batch\n",
    "        x = F.relu(self.fc1(x))\n",
    "\n",
    "        x = F.relu(self.fc2(x))\n",
    "\n",
    "        x = F.softmax(self.fc3(x), 1)\n",
    "        return x"
   ]
  },
  {
   "cell_type": "code",
   "execution_count": 30,
   "id": "c3a02f5f",
   "metadata": {},
   "outputs": [
    {
     "data": {
      "application/javascript": [
       "\n",
       "            setTimeout(function() {\n",
       "                var nbb_cell_id = 30;\n",
       "                var nbb_unformatted_code = \"torch.cuda.empty_cache()\";\n",
       "                var nbb_formatted_code = \"torch.cuda.empty_cache()\";\n",
       "                var nbb_cells = Jupyter.notebook.get_cells();\n",
       "                for (var i = 0; i < nbb_cells.length; ++i) {\n",
       "                    if (nbb_cells[i].input_prompt_number == nbb_cell_id) {\n",
       "                        if (nbb_cells[i].get_text() == nbb_unformatted_code) {\n",
       "                             nbb_cells[i].set_text(nbb_formatted_code);\n",
       "                        }\n",
       "                        break;\n",
       "                    }\n",
       "                }\n",
       "            }, 500);\n",
       "            "
      ],
      "text/plain": [
       "<IPython.core.display.Javascript object>"
      ]
     },
     "metadata": {},
     "output_type": "display_data"
    }
   ],
   "source": [
    "torch.cuda.empty_cache()"
   ]
  },
  {
   "cell_type": "code",
   "execution_count": 31,
   "id": "47a0aa56",
   "metadata": {},
   "outputs": [
    {
     "name": "stdout",
     "output_type": "stream",
     "text": [
      "Running on cpu\n"
     ]
    },
    {
     "data": {
      "application/vnd.jupyter.widget-view+json": {
       "model_id": "60e4f51e1c3a467c9cde5f1a5676ae14",
       "version_major": 2,
       "version_minor": 0
      },
      "text/plain": [
       "  0%|          | 0/3 [00:00<?, ?it/s]"
      ]
     },
     "metadata": {},
     "output_type": "display_data"
    },
    {
     "data": {
      "application/vnd.jupyter.widget-view+json": {
       "model_id": "edeea4d2f5c544d08872354c654e11f7",
       "version_major": 2,
       "version_minor": 0
      },
      "text/plain": [
       "  0%|          | 0/135 [00:00<?, ?it/s]"
      ]
     },
     "metadata": {},
     "output_type": "display_data"
    },
    {
     "data": {
      "application/vnd.jupyter.widget-view+json": {
       "model_id": "e07b0caabb2b472ca0f16edfdbe7fd29",
       "version_major": 2,
       "version_minor": 0
      },
      "text/plain": [
       "  0%|          | 0/135 [00:00<?, ?it/s]"
      ]
     },
     "metadata": {},
     "output_type": "display_data"
    },
    {
     "data": {
      "application/vnd.jupyter.widget-view+json": {
       "model_id": "5f2fd8ac69e9439a8be6dfb5936f44ce",
       "version_major": 2,
       "version_minor": 0
      },
      "text/plain": [
       "  0%|          | 0/135 [00:00<?, ?it/s]"
      ]
     },
     "metadata": {},
     "output_type": "display_data"
    },
    {
     "name": "stdout",
     "output_type": "stream",
     "text": [
      "Finished Training\n"
     ]
    },
    {
     "data": {
      "application/javascript": [
       "\n",
       "            setTimeout(function() {\n",
       "                var nbb_cell_id = 31;\n",
       "                var nbb_unformatted_code = \"EPOCHS = 3\\n\\nif torch.cuda.is_available():\\n    DEVICE = torch.device(\\\"cuda\\\")\\nelse:\\n    DEVICE = torch.device(\\\"cpu\\\")\\n\\nDEVICE = torch.device(\\\"cpu\\\")\\n\\nprint(f\\\"Running on {DEVICE}\\\")\\n\\ncnn = CNN3D().to(DEVICE)\\n\\nimport torch.optim as optim\\n\\ncriterion = nn.CrossEntropyLoss()\\noptimizer = optim.SGD(cnn.parameters(), lr=0.001, momentum=0.9)\\n\\ncnn.train()\\n\\nfor epoch in tqdm(range(EPOCHS)):  # loop over the dataset multiple times\\n\\n    running_loss = 0.0\\n\\n    for i, data in enumerate(tqdm(train_loader)):\\n        # get the inputs; data is a list of [inputs, labels]\\n        inputs, labels = data\\n\\n        inputs = inputs.to(DEVICE).permute((0, 2, 1, 3, 4))\\n        labels = labels.to(DEVICE)\\n\\n        # zero the parameter gradients\\n        optimizer.zero_grad()\\n\\n        # forward + backward + optimize\\n        outputs = cnn(inputs)\\n        loss = criterion(outputs, labels)\\n        loss.backward()\\n        optimizer.step()\\n\\n        # print statistics\\n        running_loss += loss.item()\\n        if i % 2000 == 1999:  # print every 2000 mini-batches\\n            print(\\\"[%d, %5d] loss: %.3f\\\" % (epoch + 1, i + 1, running_loss / 2000))\\n            running_loss = 0.0\\n\\nprint(\\\"Finished Training\\\")\";\n",
       "                var nbb_formatted_code = \"EPOCHS = 3\\n\\nif torch.cuda.is_available():\\n    DEVICE = torch.device(\\\"cuda\\\")\\nelse:\\n    DEVICE = torch.device(\\\"cpu\\\")\\n\\nDEVICE = torch.device(\\\"cpu\\\")\\n\\nprint(f\\\"Running on {DEVICE}\\\")\\n\\ncnn = CNN3D().to(DEVICE)\\n\\nimport torch.optim as optim\\n\\ncriterion = nn.CrossEntropyLoss()\\noptimizer = optim.SGD(cnn.parameters(), lr=0.001, momentum=0.9)\\n\\ncnn.train()\\n\\nfor epoch in tqdm(range(EPOCHS)):  # loop over the dataset multiple times\\n\\n    running_loss = 0.0\\n\\n    for i, data in enumerate(tqdm(train_loader)):\\n        # get the inputs; data is a list of [inputs, labels]\\n        inputs, labels = data\\n\\n        inputs = inputs.to(DEVICE).permute((0, 2, 1, 3, 4))\\n        labels = labels.to(DEVICE)\\n\\n        # zero the parameter gradients\\n        optimizer.zero_grad()\\n\\n        # forward + backward + optimize\\n        outputs = cnn(inputs)\\n        loss = criterion(outputs, labels)\\n        loss.backward()\\n        optimizer.step()\\n\\n        # print statistics\\n        running_loss += loss.item()\\n        if i % 2000 == 1999:  # print every 2000 mini-batches\\n            print(\\\"[%d, %5d] loss: %.3f\\\" % (epoch + 1, i + 1, running_loss / 2000))\\n            running_loss = 0.0\\n\\nprint(\\\"Finished Training\\\")\";\n",
       "                var nbb_cells = Jupyter.notebook.get_cells();\n",
       "                for (var i = 0; i < nbb_cells.length; ++i) {\n",
       "                    if (nbb_cells[i].input_prompt_number == nbb_cell_id) {\n",
       "                        if (nbb_cells[i].get_text() == nbb_unformatted_code) {\n",
       "                             nbb_cells[i].set_text(nbb_formatted_code);\n",
       "                        }\n",
       "                        break;\n",
       "                    }\n",
       "                }\n",
       "            }, 500);\n",
       "            "
      ],
      "text/plain": [
       "<IPython.core.display.Javascript object>"
      ]
     },
     "metadata": {},
     "output_type": "display_data"
    }
   ],
   "source": [
    "EPOCHS = 3\n",
    "\n",
    "if torch.cuda.is_available():\n",
    "    DEVICE = torch.device(\"cuda\")\n",
    "else:\n",
    "    DEVICE = torch.device(\"cpu\")\n",
    "\n",
    "DEVICE = torch.device(\"cpu\")\n",
    "\n",
    "print(f\"Running on {DEVICE}\")\n",
    "\n",
    "cnn = CNN3D().to(DEVICE)\n",
    "\n",
    "import torch.optim as optim\n",
    "\n",
    "criterion = nn.CrossEntropyLoss()\n",
    "optimizer = optim.SGD(cnn.parameters(), lr=0.001, momentum=0.9)\n",
    "\n",
    "cnn.train()\n",
    "\n",
    "for epoch in tqdm(range(EPOCHS)):  # loop over the dataset multiple times\n",
    "\n",
    "    running_loss = 0.0\n",
    "\n",
    "    for i, data in enumerate(tqdm(train_loader)):\n",
    "        # get the inputs; data is a list of [inputs, labels]\n",
    "        inputs, labels = data\n",
    "\n",
    "        inputs = inputs.to(DEVICE).permute((0, 2, 1, 3, 4))\n",
    "        labels = labels.to(DEVICE)\n",
    "\n",
    "        # zero the parameter gradients\n",
    "        optimizer.zero_grad()\n",
    "\n",
    "        # forward + backward + optimize\n",
    "        outputs = cnn(inputs)\n",
    "        loss = criterion(outputs, labels)\n",
    "        loss.backward()\n",
    "        optimizer.step()\n",
    "\n",
    "        # print statistics\n",
    "        running_loss += loss.item()\n",
    "        if i % 2000 == 1999:  # print every 2000 mini-batches\n",
    "            print(\"[%d, %5d] loss: %.3f\" % (epoch + 1, i + 1, running_loss / 2000))\n",
    "            running_loss = 0.0\n",
    "\n",
    "print(\"Finished Training\")"
   ]
  },
  {
   "cell_type": "code",
   "execution_count": 32,
   "id": "f57f3dc4",
   "metadata": {},
   "outputs": [
    {
     "data": {
      "application/vnd.jupyter.widget-view+json": {
       "model_id": "5e16b6501d104ebea69a9e6b745053bf",
       "version_major": 2,
       "version_minor": 0
      },
      "text/plain": [
       "  0%|          | 0/33 [00:00<?, ?it/s]"
      ]
     },
     "metadata": {},
     "output_type": "display_data"
    },
    {
     "data": {
      "application/javascript": [
       "\n",
       "            setTimeout(function() {\n",
       "                var nbb_cell_id = 32;\n",
       "                var nbb_unformatted_code = \"cnn.eval()\\n\\nwith torch.no_grad():\\n    test_loss = 0\\n    correct = 0\\n\\n    outputs = []\\n    targets = []\\n\\n    for data, target in tqdm(test_loader):\\n        # get the inputs; data is a list of [inputs, labels]\\n\\n        data = data.to(DEVICE).permute((0, 2, 1, 3, 4))\\n        target = target.to(DEVICE)\\n\\n        output = cnn(data)\\n\\n        outputs.append(output)\\n        targets.append(target)\\n\\n        test_loss += torch.nn.functional.nll_loss(\\n            output, target, reduction=\\\"sum\\\"\\n        ).item()  # sum up batch loss\\n        pred = output.argmax(\\n            dim=1, keepdim=True\\n        )  # get the index of the max log-probability\\n        correct += pred.eq(target.view_as(pred)).sum().item()\\n\\n    test_loss /= len(test_loader.dataset)\\n\\n    accuracy = 100.0 * correct / len(test_loader.dataset)\";\n",
       "                var nbb_formatted_code = \"cnn.eval()\\n\\nwith torch.no_grad():\\n    test_loss = 0\\n    correct = 0\\n\\n    outputs = []\\n    targets = []\\n\\n    for data, target in tqdm(test_loader):\\n        # get the inputs; data is a list of [inputs, labels]\\n\\n        data = data.to(DEVICE).permute((0, 2, 1, 3, 4))\\n        target = target.to(DEVICE)\\n\\n        output = cnn(data)\\n\\n        outputs.append(output)\\n        targets.append(target)\\n\\n        test_loss += torch.nn.functional.nll_loss(\\n            output, target, reduction=\\\"sum\\\"\\n        ).item()  # sum up batch loss\\n        pred = output.argmax(\\n            dim=1, keepdim=True\\n        )  # get the index of the max log-probability\\n        correct += pred.eq(target.view_as(pred)).sum().item()\\n\\n    test_loss /= len(test_loader.dataset)\\n\\n    accuracy = 100.0 * correct / len(test_loader.dataset)\";\n",
       "                var nbb_cells = Jupyter.notebook.get_cells();\n",
       "                for (var i = 0; i < nbb_cells.length; ++i) {\n",
       "                    if (nbb_cells[i].input_prompt_number == nbb_cell_id) {\n",
       "                        if (nbb_cells[i].get_text() == nbb_unformatted_code) {\n",
       "                             nbb_cells[i].set_text(nbb_formatted_code);\n",
       "                        }\n",
       "                        break;\n",
       "                    }\n",
       "                }\n",
       "            }, 500);\n",
       "            "
      ],
      "text/plain": [
       "<IPython.core.display.Javascript object>"
      ]
     },
     "metadata": {},
     "output_type": "display_data"
    }
   ],
   "source": [
    "cnn.eval()\n",
    "\n",
    "with torch.no_grad():\n",
    "    test_loss = 0\n",
    "    correct = 0\n",
    "\n",
    "    outputs = []\n",
    "    targets = []\n",
    "\n",
    "    for data, target in tqdm(test_loader):\n",
    "        # get the inputs; data is a list of [inputs, labels]\n",
    "\n",
    "        data = data.to(DEVICE).permute((0, 2, 1, 3, 4))\n",
    "        target = target.to(DEVICE)\n",
    "\n",
    "        output = cnn(data)\n",
    "\n",
    "        outputs.append(output)\n",
    "        targets.append(target)\n",
    "\n",
    "        test_loss += torch.nn.functional.nll_loss(\n",
    "            output, target, reduction=\"sum\"\n",
    "        ).item()  # sum up batch loss\n",
    "        pred = output.argmax(\n",
    "            dim=1, keepdim=True\n",
    "        )  # get the index of the max log-probability\n",
    "        correct += pred.eq(target.view_as(pred)).sum().item()\n",
    "\n",
    "    test_loss /= len(test_loader.dataset)\n",
    "\n",
    "    accuracy = 100.0 * correct / len(test_loader.dataset)"
   ]
  },
  {
   "cell_type": "code",
   "execution_count": 33,
   "id": "69100df4",
   "metadata": {},
   "outputs": [
    {
     "name": "stdout",
     "output_type": "stream",
     "text": [
      "Loss: -0.5332207851337664\n",
      "Accuracy: 56.43939393939394\n"
     ]
    },
    {
     "data": {
      "application/javascript": [
       "\n",
       "            setTimeout(function() {\n",
       "                var nbb_cell_id = 33;\n",
       "                var nbb_unformatted_code = \"print(f\\\"Loss: {test_loss}\\\")\\nprint(f\\\"Accuracy: {accuracy}\\\")\";\n",
       "                var nbb_formatted_code = \"print(f\\\"Loss: {test_loss}\\\")\\nprint(f\\\"Accuracy: {accuracy}\\\")\";\n",
       "                var nbb_cells = Jupyter.notebook.get_cells();\n",
       "                for (var i = 0; i < nbb_cells.length; ++i) {\n",
       "                    if (nbb_cells[i].input_prompt_number == nbb_cell_id) {\n",
       "                        if (nbb_cells[i].get_text() == nbb_unformatted_code) {\n",
       "                             nbb_cells[i].set_text(nbb_formatted_code);\n",
       "                        }\n",
       "                        break;\n",
       "                    }\n",
       "                }\n",
       "            }, 500);\n",
       "            "
      ],
      "text/plain": [
       "<IPython.core.display.Javascript object>"
      ]
     },
     "metadata": {},
     "output_type": "display_data"
    }
   ],
   "source": [
    "print(f\"Loss: {test_loss}\")\n",
    "print(f\"Accuracy: {accuracy}\")"
   ]
  },
  {
   "cell_type": "code",
   "execution_count": 34,
   "id": "52ae12fd",
   "metadata": {},
   "outputs": [
    {
     "data": {
      "application/javascript": [
       "\n",
       "            setTimeout(function() {\n",
       "                var nbb_cell_id = 34;\n",
       "                var nbb_unformatted_code = \"pred = torch.cat([t.argmax(dim=1) for t in outputs])\\npred = pred.to(torch.device(\\\"cpu\\\"))\";\n",
       "                var nbb_formatted_code = \"pred = torch.cat([t.argmax(dim=1) for t in outputs])\\npred = pred.to(torch.device(\\\"cpu\\\"))\";\n",
       "                var nbb_cells = Jupyter.notebook.get_cells();\n",
       "                for (var i = 0; i < nbb_cells.length; ++i) {\n",
       "                    if (nbb_cells[i].input_prompt_number == nbb_cell_id) {\n",
       "                        if (nbb_cells[i].get_text() == nbb_unformatted_code) {\n",
       "                             nbb_cells[i].set_text(nbb_formatted_code);\n",
       "                        }\n",
       "                        break;\n",
       "                    }\n",
       "                }\n",
       "            }, 500);\n",
       "            "
      ],
      "text/plain": [
       "<IPython.core.display.Javascript object>"
      ]
     },
     "metadata": {},
     "output_type": "display_data"
    }
   ],
   "source": [
    "pred = torch.cat([t.argmax(dim=1) for t in outputs])\n",
    "pred = pred.to(torch.device(\"cpu\"))"
   ]
  },
  {
   "cell_type": "code",
   "execution_count": 35,
   "id": "92b3a260",
   "metadata": {},
   "outputs": [
    {
     "data": {
      "application/javascript": [
       "\n",
       "            setTimeout(function() {\n",
       "                var nbb_cell_id = 35;\n",
       "                var nbb_unformatted_code = \"targets = torch.cat(targets).to(torch.device(\\\"cpu\\\"))\";\n",
       "                var nbb_formatted_code = \"targets = torch.cat(targets).to(torch.device(\\\"cpu\\\"))\";\n",
       "                var nbb_cells = Jupyter.notebook.get_cells();\n",
       "                for (var i = 0; i < nbb_cells.length; ++i) {\n",
       "                    if (nbb_cells[i].input_prompt_number == nbb_cell_id) {\n",
       "                        if (nbb_cells[i].get_text() == nbb_unformatted_code) {\n",
       "                             nbb_cells[i].set_text(nbb_formatted_code);\n",
       "                        }\n",
       "                        break;\n",
       "                    }\n",
       "                }\n",
       "            }, 500);\n",
       "            "
      ],
      "text/plain": [
       "<IPython.core.display.Javascript object>"
      ]
     },
     "metadata": {},
     "output_type": "display_data"
    }
   ],
   "source": [
    "targets = torch.cat(targets).to(torch.device(\"cpu\"))"
   ]
  },
  {
   "cell_type": "code",
   "execution_count": 36,
   "id": "96964851",
   "metadata": {},
   "outputs": [
    {
     "data": {
      "text/plain": [
       "0.48009932946592465"
      ]
     },
     "execution_count": 36,
     "metadata": {},
     "output_type": "execute_result"
    },
    {
     "data": {
      "application/javascript": [
       "\n",
       "            setTimeout(function() {\n",
       "                var nbb_cell_id = 36;\n",
       "                var nbb_unformatted_code = \"from sklearn.metrics import f1_score\\n\\nf1_score(targets, pred, average=\\\"macro\\\")\";\n",
       "                var nbb_formatted_code = \"from sklearn.metrics import f1_score\\n\\nf1_score(targets, pred, average=\\\"macro\\\")\";\n",
       "                var nbb_cells = Jupyter.notebook.get_cells();\n",
       "                for (var i = 0; i < nbb_cells.length; ++i) {\n",
       "                    if (nbb_cells[i].input_prompt_number == nbb_cell_id) {\n",
       "                        if (nbb_cells[i].get_text() == nbb_unformatted_code) {\n",
       "                             nbb_cells[i].set_text(nbb_formatted_code);\n",
       "                        }\n",
       "                        break;\n",
       "                    }\n",
       "                }\n",
       "            }, 500);\n",
       "            "
      ],
      "text/plain": [
       "<IPython.core.display.Javascript object>"
      ]
     },
     "metadata": {},
     "output_type": "display_data"
    }
   ],
   "source": [
    "from sklearn.metrics import f1_score\n",
    "\n",
    "f1_score(targets, pred, average=\"macro\")"
   ]
  },
  {
   "cell_type": "code",
   "execution_count": null,
   "id": "60dabbd4",
   "metadata": {},
   "outputs": [],
   "source": []
  }
 ],
 "metadata": {
  "kernelspec": {
   "display_name": "Python 3 (ipykernel)",
   "language": "python",
   "name": "python3"
  },
  "language_info": {
   "codemirror_mode": {
    "name": "ipython",
    "version": 3
   },
   "file_extension": ".py",
   "mimetype": "text/x-python",
   "name": "python",
   "nbconvert_exporter": "python",
   "pygments_lexer": "ipython3",
   "version": "3.8.6"
  }
 },
 "nbformat": 4,
 "nbformat_minor": 5
}
